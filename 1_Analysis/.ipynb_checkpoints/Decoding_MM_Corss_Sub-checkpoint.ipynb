{
 "cells": [
  {
   "cell_type": "markdown",
   "id": "2f40ed1a-fb8f-493a-b562-ece70a1fa2e1",
   "metadata": {},
   "source": [
    "# Decoding Match-Mismatch Response Cross the Subjects"
   ]
  },
  {
   "cell_type": "code",
   "execution_count": 2,
   "id": "8009d930-a3bc-4b71-bd98-31a3a7014961",
   "metadata": {},
   "outputs": [],
   "source": [
    "import os \n",
    "import numpy as np\n",
    "import pandas as pd\n",
    "import matplotlib.pyplot as plt\n",
    "from sklearn.pipeline import make_pipeline\n",
    "from sklearn.linear_model import LogisticRegression\n",
    "from sklearn.ensemble import RandomForestClassifier\n",
    "from sklearn.preprocessing import StandardScaler\n",
    "from sklearn.preprocessing import MinMaxScaler\n",
    "from sklearn.model_selection import LeaveOneGroupOut\n",
    "from sklearn.model_selection import cross_validate\n",
    "from sklearn.model_selection import permutation_test_score\n",
    "from sklearn.metrics import make_scorer\n",
    "from sklearn.metrics import roc_auc_score\n",
    "from collections import Counter\n",
    "%matplotlib inline"
   ]
  },
  {
   "cell_type": "markdown",
   "id": "9b399bfb-4dda-47d3-a530-563a55f392d3",
   "metadata": {},
   "source": [
    "## Set the path and load the dataset"
   ]
  },
  {
   "cell_type": "code",
   "execution_count": 3,
   "id": "79d08113-446d-4f76-a739-c5d6ec3ed7d6",
   "metadata": {},
   "outputs": [
    {
     "data": {
      "text/plain": [
       "'/Users/zhengyuanrui/Decoding_SALT/1_Analysis'"
      ]
     },
     "execution_count": 3,
     "metadata": {},
     "output_type": "execute_result"
    }
   ],
   "source": [
    "os.getcwd()"
   ]
  },
  {
   "cell_type": "code",
   "execution_count": 7,
   "id": "d9734e3e-4b17-459a-9276-d4fcc995758f",
   "metadata": {},
   "outputs": [],
   "source": [
    "os.chdir(\"../2_Data\")"
   ]
  },
  {
   "cell_type": "code",
   "execution_count": null,
   "id": "9e9fd0b1-d254-4989-84f6-8cdfee106013",
   "metadata": {},
   "outputs": [],
   "source": [
    "df1 = pd.read_csv"
   ]
  }
 ],
 "metadata": {
  "kernelspec": {
   "display_name": "Python 3 (ipykernel)",
   "language": "python",
   "name": "python3"
  },
  "language_info": {
   "codemirror_mode": {
    "name": "ipython",
    "version": 3
   },
   "file_extension": ".py",
   "mimetype": "text/x-python",
   "name": "python",
   "nbconvert_exporter": "python",
   "pygments_lexer": "ipython3",
   "version": "3.8.13"
  }
 },
 "nbformat": 4,
 "nbformat_minor": 5
}
