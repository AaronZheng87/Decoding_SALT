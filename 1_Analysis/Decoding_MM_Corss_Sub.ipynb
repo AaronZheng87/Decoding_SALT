{
 "cells": [
  {
   "cell_type": "markdown",
   "id": "2f40ed1a-fb8f-493a-b562-ece70a1fa2e1",
   "metadata": {},
   "source": [
    "# Decoding Match-Mismatch Response Cross the Subjects"
   ]
  },
  {
   "cell_type": "code",
   "execution_count": 20,
   "id": "8009d930-a3bc-4b71-bd98-31a3a7014961",
   "metadata": {},
   "outputs": [],
   "source": [
    "import os \n",
    "import numpy as np\n",
    "import pandas as pd\n",
    "import matplotlib.pyplot as plt\n",
    "import seaborn as sns\n",
    "import missingno as msno\n",
    "from sklearn.pipeline import make_pipeline\n",
    "from sklearn.linear_model import LogisticRegression\n",
    "from sklearn.ensemble import RandomForestClassifier\n",
    "from sklearn.preprocessing import StandardScaler\n",
    "from sklearn.preprocessing import MinMaxScaler\n",
    "from sklearn.model_selection import LeaveOneGroupOut\n",
    "from sklearn.model_selection import cross_validate\n",
    "from sklearn.model_selection import permutation_test_score\n",
    "from sklearn.metrics import make_scorer\n",
    "from sklearn.metrics import roc_auc_score\n",
    "from collections import Counter\n",
    "%matplotlib inline"
   ]
  },
  {
   "cell_type": "code",
   "execution_count": 21,
   "id": "9b4b8801",
   "metadata": {},
   "outputs": [],
   "source": [
    "def score_func(y, y_pred):\n",
    "    score = roc_auc_score(y, y_pred, multi_class=\"ovo\")\n",
    "    return score"
   ]
  },
  {
   "cell_type": "code",
   "execution_count": 22,
   "id": "58a3fc33",
   "metadata": {},
   "outputs": [],
   "source": [
    "my_scores = make_scorer(score_func=score_func, greater_is_better=True, needs_proba=True, needs_threshold=False)"
   ]
  },
  {
   "cell_type": "markdown",
   "id": "9b399bfb-4dda-47d3-a530-563a55f392d3",
   "metadata": {},
   "source": [
    "## Set the path and load the dataset"
   ]
  },
  {
   "cell_type": "code",
   "execution_count": 23,
   "id": "79d08113-446d-4f76-a739-c5d6ec3ed7d6",
   "metadata": {},
   "outputs": [
    {
     "data": {
      "text/plain": [
       "'/Users/zhengyuanrui/Decoding_SALT/2_Data'"
      ]
     },
     "execution_count": 23,
     "metadata": {},
     "output_type": "execute_result"
    }
   ],
   "source": [
    "os.getcwd()"
   ]
  },
  {
   "cell_type": "code",
   "execution_count": 24,
   "id": "d9734e3e-4b17-459a-9276-d4fcc995758f",
   "metadata": {},
   "outputs": [],
   "source": [
    "os.chdir(\"../2_Data\")"
   ]
  },
  {
   "cell_type": "code",
   "execution_count": 25,
   "id": "9e9fd0b1-d254-4989-84f6-8cdfee106013",
   "metadata": {},
   "outputs": [],
   "source": [
    "df2 = pd.read_csv(\"Exp2_postpro.csv\")\n"
   ]
  },
  {
   "cell_type": "code",
   "execution_count": 28,
   "id": "1f02e1ec",
   "metadata": {},
   "outputs": [
    {
     "data": {
      "text/html": [
       "<div>\n",
       "<style scoped>\n",
       "    .dataframe tbody tr th:only-of-type {\n",
       "        vertical-align: middle;\n",
       "    }\n",
       "\n",
       "    .dataframe tbody tr th {\n",
       "        vertical-align: top;\n",
       "    }\n",
       "\n",
       "    .dataframe thead th {\n",
       "        text-align: right;\n",
       "    }\n",
       "</style>\n",
       "<table border=\"1\" class=\"dataframe\">\n",
       "  <thead>\n",
       "    <tr style=\"text-align: right;\">\n",
       "      <th></th>\n",
       "      <th>subj_idx</th>\n",
       "      <th>gender</th>\n",
       "      <th>year</th>\n",
       "      <th>education</th>\n",
       "      <th>dist</th>\n",
       "      <th>trial_type</th>\n",
       "      <th>rt</th>\n",
       "      <th>response</th>\n",
       "      <th>key_press</th>\n",
       "      <th>condition</th>\n",
       "      <th>correct_response</th>\n",
       "      <th>correct</th>\n",
       "      <th>word</th>\n",
       "      <th>Image</th>\n",
       "      <th>shape_en</th>\n",
       "      <th>valence</th>\n",
       "      <th>ACC</th>\n",
       "      <th>exp</th>\n",
       "      <th>matchness</th>\n",
       "      <th>trial_id</th>\n",
       "    </tr>\n",
       "  </thead>\n",
       "  <tbody>\n",
       "    <tr>\n",
       "      <th>0</th>\n",
       "      <td>1</td>\n",
       "      <td>0</td>\n",
       "      <td>2000</td>\n",
       "      <td>5</td>\n",
       "      <td>408.81</td>\n",
       "      <td>psychophysics</td>\n",
       "      <td>822.0</td>\n",
       "      <td>f</td>\n",
       "      <td>f</td>\n",
       "      <td>image_first</td>\n",
       "      <td>f</td>\n",
       "      <td>True</td>\n",
       "      <td>常人</td>\n",
       "      <td>img/S_ambi40.png</td>\n",
       "      <td>square</td>\n",
       "      <td>Neutral</td>\n",
       "      <td>1</td>\n",
       "      <td>exp2</td>\n",
       "      <td>mismatch</td>\n",
       "      <td>1</td>\n",
       "    </tr>\n",
       "    <tr>\n",
       "      <th>1</th>\n",
       "      <td>1</td>\n",
       "      <td>0</td>\n",
       "      <td>2000</td>\n",
       "      <td>5</td>\n",
       "      <td>408.81</td>\n",
       "      <td>psychophysics</td>\n",
       "      <td>741.0</td>\n",
       "      <td>f</td>\n",
       "      <td>f</td>\n",
       "      <td>image_first</td>\n",
       "      <td>f</td>\n",
       "      <td>True</td>\n",
       "      <td>好人</td>\n",
       "      <td>img/T_ambi40.png</td>\n",
       "      <td>triangle</td>\n",
       "      <td>Good</td>\n",
       "      <td>1</td>\n",
       "      <td>exp2</td>\n",
       "      <td>mismatch</td>\n",
       "      <td>2</td>\n",
       "    </tr>\n",
       "    <tr>\n",
       "      <th>2</th>\n",
       "      <td>1</td>\n",
       "      <td>0</td>\n",
       "      <td>2000</td>\n",
       "      <td>5</td>\n",
       "      <td>408.81</td>\n",
       "      <td>psychophysics</td>\n",
       "      <td>781.0</td>\n",
       "      <td>j</td>\n",
       "      <td>j</td>\n",
       "      <td>image_first</td>\n",
       "      <td>j</td>\n",
       "      <td>True</td>\n",
       "      <td>常人</td>\n",
       "      <td>img/T_ambi40.png</td>\n",
       "      <td>triangle</td>\n",
       "      <td>Neutral</td>\n",
       "      <td>1</td>\n",
       "      <td>exp2</td>\n",
       "      <td>match</td>\n",
       "      <td>3</td>\n",
       "    </tr>\n",
       "    <tr>\n",
       "      <th>3</th>\n",
       "      <td>1</td>\n",
       "      <td>0</td>\n",
       "      <td>2000</td>\n",
       "      <td>5</td>\n",
       "      <td>408.81</td>\n",
       "      <td>psychophysics</td>\n",
       "      <td>683.0</td>\n",
       "      <td>f</td>\n",
       "      <td>f</td>\n",
       "      <td>image_first</td>\n",
       "      <td>f</td>\n",
       "      <td>True</td>\n",
       "      <td>坏人</td>\n",
       "      <td>img/C_ambi40.png</td>\n",
       "      <td>circle</td>\n",
       "      <td>Bad</td>\n",
       "      <td>1</td>\n",
       "      <td>exp2</td>\n",
       "      <td>mismatch</td>\n",
       "      <td>4</td>\n",
       "    </tr>\n",
       "    <tr>\n",
       "      <th>4</th>\n",
       "      <td>1</td>\n",
       "      <td>0</td>\n",
       "      <td>2000</td>\n",
       "      <td>5</td>\n",
       "      <td>408.81</td>\n",
       "      <td>psychophysics</td>\n",
       "      <td>599.0</td>\n",
       "      <td>j</td>\n",
       "      <td>j</td>\n",
       "      <td>image_first</td>\n",
       "      <td>j</td>\n",
       "      <td>True</td>\n",
       "      <td>常人</td>\n",
       "      <td>img/T_ambi40.png</td>\n",
       "      <td>triangle</td>\n",
       "      <td>Neutral</td>\n",
       "      <td>1</td>\n",
       "      <td>exp2</td>\n",
       "      <td>match</td>\n",
       "      <td>5</td>\n",
       "    </tr>\n",
       "    <tr>\n",
       "      <th>...</th>\n",
       "      <td>...</td>\n",
       "      <td>...</td>\n",
       "      <td>...</td>\n",
       "      <td>...</td>\n",
       "      <td>...</td>\n",
       "      <td>...</td>\n",
       "      <td>...</td>\n",
       "      <td>...</td>\n",
       "      <td>...</td>\n",
       "      <td>...</td>\n",
       "      <td>...</td>\n",
       "      <td>...</td>\n",
       "      <td>...</td>\n",
       "      <td>...</td>\n",
       "      <td>...</td>\n",
       "      <td>...</td>\n",
       "      <td>...</td>\n",
       "      <td>...</td>\n",
       "      <td>...</td>\n",
       "      <td>...</td>\n",
       "    </tr>\n",
       "    <tr>\n",
       "      <th>28795</th>\n",
       "      <td>9</td>\n",
       "      <td>0</td>\n",
       "      <td>2003</td>\n",
       "      <td>4</td>\n",
       "      <td>433.63</td>\n",
       "      <td>psychophysics</td>\n",
       "      <td>693.0</td>\n",
       "      <td>j</td>\n",
       "      <td>j</td>\n",
       "      <td>image_first</td>\n",
       "      <td>j</td>\n",
       "      <td>True</td>\n",
       "      <td>好人</td>\n",
       "      <td>img/T_ambi40.png</td>\n",
       "      <td>triangle</td>\n",
       "      <td>Good</td>\n",
       "      <td>1</td>\n",
       "      <td>exp2</td>\n",
       "      <td>match</td>\n",
       "      <td>236</td>\n",
       "    </tr>\n",
       "    <tr>\n",
       "      <th>28796</th>\n",
       "      <td>9</td>\n",
       "      <td>0</td>\n",
       "      <td>2003</td>\n",
       "      <td>4</td>\n",
       "      <td>433.63</td>\n",
       "      <td>psychophysics</td>\n",
       "      <td>575.0</td>\n",
       "      <td>j</td>\n",
       "      <td>j</td>\n",
       "      <td>image_first</td>\n",
       "      <td>j</td>\n",
       "      <td>True</td>\n",
       "      <td>坏人</td>\n",
       "      <td>img/S_ambi40.png</td>\n",
       "      <td>square</td>\n",
       "      <td>Bad</td>\n",
       "      <td>1</td>\n",
       "      <td>exp2</td>\n",
       "      <td>match</td>\n",
       "      <td>237</td>\n",
       "    </tr>\n",
       "    <tr>\n",
       "      <th>28797</th>\n",
       "      <td>9</td>\n",
       "      <td>0</td>\n",
       "      <td>2003</td>\n",
       "      <td>4</td>\n",
       "      <td>433.63</td>\n",
       "      <td>psychophysics</td>\n",
       "      <td>501.0</td>\n",
       "      <td>j</td>\n",
       "      <td>j</td>\n",
       "      <td>image_first</td>\n",
       "      <td>j</td>\n",
       "      <td>True</td>\n",
       "      <td>好人</td>\n",
       "      <td>img/T_ambi40.png</td>\n",
       "      <td>triangle</td>\n",
       "      <td>Good</td>\n",
       "      <td>1</td>\n",
       "      <td>exp2</td>\n",
       "      <td>match</td>\n",
       "      <td>238</td>\n",
       "    </tr>\n",
       "    <tr>\n",
       "      <th>28798</th>\n",
       "      <td>9</td>\n",
       "      <td>0</td>\n",
       "      <td>2003</td>\n",
       "      <td>4</td>\n",
       "      <td>433.63</td>\n",
       "      <td>psychophysics</td>\n",
       "      <td>540.0</td>\n",
       "      <td>f</td>\n",
       "      <td>f</td>\n",
       "      <td>image_first</td>\n",
       "      <td>f</td>\n",
       "      <td>True</td>\n",
       "      <td>好人</td>\n",
       "      <td>img/S_ambi40.png</td>\n",
       "      <td>square</td>\n",
       "      <td>Good</td>\n",
       "      <td>1</td>\n",
       "      <td>exp2</td>\n",
       "      <td>mismatch</td>\n",
       "      <td>239</td>\n",
       "    </tr>\n",
       "    <tr>\n",
       "      <th>28799</th>\n",
       "      <td>9</td>\n",
       "      <td>0</td>\n",
       "      <td>2003</td>\n",
       "      <td>4</td>\n",
       "      <td>433.63</td>\n",
       "      <td>psychophysics</td>\n",
       "      <td>579.0</td>\n",
       "      <td>f</td>\n",
       "      <td>f</td>\n",
       "      <td>image_first</td>\n",
       "      <td>f</td>\n",
       "      <td>True</td>\n",
       "      <td>坏人</td>\n",
       "      <td>img/C_ambi40.png</td>\n",
       "      <td>circle</td>\n",
       "      <td>Bad</td>\n",
       "      <td>1</td>\n",
       "      <td>exp2</td>\n",
       "      <td>mismatch</td>\n",
       "      <td>240</td>\n",
       "    </tr>\n",
       "  </tbody>\n",
       "</table>\n",
       "<p>28800 rows × 20 columns</p>\n",
       "</div>"
      ],
      "text/plain": [
       "       subj_idx  gender  year  education    dist     trial_type     rt  \\\n",
       "0             1       0  2000          5  408.81  psychophysics  822.0   \n",
       "1             1       0  2000          5  408.81  psychophysics  741.0   \n",
       "2             1       0  2000          5  408.81  psychophysics  781.0   \n",
       "3             1       0  2000          5  408.81  psychophysics  683.0   \n",
       "4             1       0  2000          5  408.81  psychophysics  599.0   \n",
       "...         ...     ...   ...        ...     ...            ...    ...   \n",
       "28795         9       0  2003          4  433.63  psychophysics  693.0   \n",
       "28796         9       0  2003          4  433.63  psychophysics  575.0   \n",
       "28797         9       0  2003          4  433.63  psychophysics  501.0   \n",
       "28798         9       0  2003          4  433.63  psychophysics  540.0   \n",
       "28799         9       0  2003          4  433.63  psychophysics  579.0   \n",
       "\n",
       "      response key_press    condition correct_response  correct word  \\\n",
       "0            f         f  image_first                f     True   常人   \n",
       "1            f         f  image_first                f     True   好人   \n",
       "2            j         j  image_first                j     True   常人   \n",
       "3            f         f  image_first                f     True   坏人   \n",
       "4            j         j  image_first                j     True   常人   \n",
       "...        ...       ...          ...              ...      ...  ...   \n",
       "28795        j         j  image_first                j     True   好人   \n",
       "28796        j         j  image_first                j     True   坏人   \n",
       "28797        j         j  image_first                j     True   好人   \n",
       "28798        f         f  image_first                f     True   好人   \n",
       "28799        f         f  image_first                f     True   坏人   \n",
       "\n",
       "                  Image  shape_en  valence  ACC   exp matchness  trial_id  \n",
       "0      img/S_ambi40.png    square  Neutral    1  exp2  mismatch         1  \n",
       "1      img/T_ambi40.png  triangle     Good    1  exp2  mismatch         2  \n",
       "2      img/T_ambi40.png  triangle  Neutral    1  exp2     match         3  \n",
       "3      img/C_ambi40.png    circle      Bad    1  exp2  mismatch         4  \n",
       "4      img/T_ambi40.png  triangle  Neutral    1  exp2     match         5  \n",
       "...                 ...       ...      ...  ...   ...       ...       ...  \n",
       "28795  img/T_ambi40.png  triangle     Good    1  exp2     match       236  \n",
       "28796  img/S_ambi40.png    square      Bad    1  exp2     match       237  \n",
       "28797  img/T_ambi40.png  triangle     Good    1  exp2     match       238  \n",
       "28798  img/S_ambi40.png    square     Good    1  exp2  mismatch       239  \n",
       "28799  img/C_ambi40.png    circle      Bad    1  exp2  mismatch       240  \n",
       "\n",
       "[28800 rows x 20 columns]"
      ]
     },
     "execution_count": 28,
     "metadata": {},
     "output_type": "execute_result"
    }
   ],
   "source": [
    "df2"
   ]
  },
  {
   "cell_type": "code",
   "execution_count": 29,
   "id": "e7989761",
   "metadata": {},
   "outputs": [
    {
     "name": "stdout",
     "output_type": "stream",
     "text": [
      "<class 'pandas.core.frame.DataFrame'>\n",
      "RangeIndex: 28800 entries, 0 to 28799\n",
      "Data columns (total 20 columns):\n",
      " #   Column            Non-Null Count  Dtype  \n",
      "---  ------            --------------  -----  \n",
      " 0   subj_idx          28800 non-null  int64  \n",
      " 1   gender            28800 non-null  int64  \n",
      " 2   year              28800 non-null  int64  \n",
      " 3   education         28800 non-null  int64  \n",
      " 4   dist              28800 non-null  float64\n",
      " 5   trial_type        28800 non-null  object \n",
      " 6   rt                28682 non-null  float64\n",
      " 7   response          28682 non-null  object \n",
      " 8   key_press         28682 non-null  object \n",
      " 9   condition         28800 non-null  object \n",
      " 10  correct_response  28800 non-null  object \n",
      " 11  correct           28800 non-null  bool   \n",
      " 12  word              28800 non-null  object \n",
      " 13  Image             28800 non-null  object \n",
      " 14  shape_en          28800 non-null  object \n",
      " 15  valence           28800 non-null  object \n",
      " 16  ACC               28800 non-null  int64  \n",
      " 17  exp               28800 non-null  object \n",
      " 18  matchness         28800 non-null  object \n",
      " 19  trial_id          28800 non-null  int64  \n",
      "dtypes: bool(1), float64(2), int64(6), object(11)\n",
      "memory usage: 4.2+ MB\n"
     ]
    }
   ],
   "source": [
    "df2.info()"
   ]
  },
  {
   "cell_type": "code",
   "execution_count": 30,
   "id": "05aa0c41",
   "metadata": {},
   "outputs": [
    {
     "data": {
      "text/plain": [
       "<AxesSubplot: >"
      ]
     },
     "execution_count": 30,
     "metadata": {},
     "output_type": "execute_result"
    },
    {
     "data": {
      "image/png": "[encoded data removed]",
      "text/plain": [
       "<Figure size 2500x1000 with 2 Axes>"
      ]
     },
     "metadata": {},
     "output_type": "display_data"
    }
   ],
   "source": [
    "msno.matrix(df2, labels=True)"
   ]
  },
  {
   "cell_type": "code",
   "execution_count": 31,
   "id": "feb84a42",
   "metadata": {},
   "outputs": [],
   "source": [
    "df2 = df2.dropna()"
   ]
  },
  {
   "cell_type": "code",
   "execution_count": 32,
   "id": "f368d133",
   "metadata": {},
   "outputs": [
    {
     "name": "stdout",
     "output_type": "stream",
     "text": [
      "<class 'pandas.core.frame.DataFrame'>\n",
      "Int64Index: 28682 entries, 0 to 28799\n",
      "Data columns (total 20 columns):\n",
      " #   Column            Non-Null Count  Dtype  \n",
      "---  ------            --------------  -----  \n",
      " 0   subj_idx          28682 non-null  int64  \n",
      " 1   gender            28682 non-null  int64  \n",
      " 2   year              28682 non-null  int64  \n",
      " 3   education         28682 non-null  int64  \n",
      " 4   dist              28682 non-null  float64\n",
      " 5   trial_type        28682 non-null  object \n",
      " 6   rt                28682 non-null  float64\n",
      " 7   response          28682 non-null  object \n",
      " 8   key_press         28682 non-null  object \n",
      " 9   condition         28682 non-null  object \n",
      " 10  correct_response  28682 non-null  object \n",
      " 11  correct           28682 non-null  bool   \n",
      " 12  word              28682 non-null  object \n",
      " 13  Image             28682 non-null  object \n",
      " 14  shape_en          28682 non-null  object \n",
      " 15  valence           28682 non-null  object \n",
      " 16  ACC               28682 non-null  int64  \n",
      " 17  exp               28682 non-null  object \n",
      " 18  matchness         28682 non-null  object \n",
      " 19  trial_id          28682 non-null  int64  \n",
      "dtypes: bool(1), float64(2), int64(6), object(11)\n",
      "memory usage: 4.4+ MB\n"
     ]
    }
   ],
   "source": [
    "df2.info()"
   ]
  },
  {
   "cell_type": "code",
   "execution_count": 33,
   "id": "92a1082e",
   "metadata": {},
   "outputs": [
    {
     "data": {
      "text/plain": [
       "<AxesSubplot: >"
      ]
     },
     "execution_count": 33,
     "metadata": {},
     "output_type": "execute_result"
    },
    {
     "data": {
      "image/png": "[encoded data removed]",
      "text/plain": [
       "<Figure size 2500x1000 with 2 Axes>"
      ]
     },
     "metadata": {},
     "output_type": "display_data"
    }
   ],
   "source": [
    "msno.matrix(df2, labels=True)"
   ]
  },
  {
   "attachments": {},
   "cell_type": "markdown",
   "id": "090beef6",
   "metadata": {},
   "source": [
    "## Select the columns and split the dataset by condition"
   ]
  },
  {
   "cell_type": "code",
   "execution_count": 34,
   "id": "94657a74",
   "metadata": {},
   "outputs": [],
   "source": [
    "column = ['subj_idx', 'gender', 'year','education', 'condition', 'valence', 'matchness', 'rt', 'ACC', 'trial_id']"
   ]
  },
  {
   "cell_type": "code",
   "execution_count": 35,
   "id": "6700d804",
   "metadata": {},
   "outputs": [],
   "source": [
    "df2 = df2[column]"
   ]
  },
  {
   "cell_type": "code",
   "execution_count": 36,
   "id": "6a282c91",
   "metadata": {},
   "outputs": [],
   "source": [
    "res_con = [\n",
    "    (df2['matchness'] == 'match') & (df2['ACC'] == 1),\n",
    "    (df2['matchness'] == 'match') & (df2['ACC'] == 0),\n",
    "    (df2['matchness'] == 'mismatch') & (df2['ACC'] == 0),\n",
    "    (df2['matchness'] == 'mismatch') & (df2['ACC'] == 1),\n",
    "]"
   ]
  },
  {
   "cell_type": "code",
   "execution_count": 37,
   "id": "7d835746",
   "metadata": {},
   "outputs": [],
   "source": [
    "results = [1, 0, 1, 0]"
   ]
  },
  {
   "cell_type": "code",
   "execution_count": 38,
   "id": "96d81549",
   "metadata": {},
   "outputs": [],
   "source": [
    "df2[\"response\"] = np.select(res_con, results)"
   ]
  },
  {
   "cell_type": "code",
   "execution_count": 39,
   "id": "0b603fae",
   "metadata": {},
   "outputs": [
    {
     "data": {
      "text/html": [
       "<div>\n",
       "<style scoped>\n",
       "    .dataframe tbody tr th:only-of-type {\n",
       "        vertical-align: middle;\n",
       "    }\n",
       "\n",
       "    .dataframe tbody tr th {\n",
       "        vertical-align: top;\n",
       "    }\n",
       "\n",
       "    .dataframe thead th {\n",
       "        text-align: right;\n",
       "    }\n",
       "</style>\n",
       "<table border=\"1\" class=\"dataframe\">\n",
       "  <thead>\n",
       "    <tr style=\"text-align: right;\">\n",
       "      <th></th>\n",
       "      <th>subj_idx</th>\n",
       "      <th>gender</th>\n",
       "      <th>year</th>\n",
       "      <th>education</th>\n",
       "      <th>condition</th>\n",
       "      <th>valence</th>\n",
       "      <th>matchness</th>\n",
       "      <th>rt</th>\n",
       "      <th>ACC</th>\n",
       "      <th>trial_id</th>\n",
       "      <th>response</th>\n",
       "    </tr>\n",
       "  </thead>\n",
       "  <tbody>\n",
       "    <tr>\n",
       "      <th>0</th>\n",
       "      <td>1</td>\n",
       "      <td>0</td>\n",
       "      <td>2000</td>\n",
       "      <td>5</td>\n",
       "      <td>image_first</td>\n",
       "      <td>Neutral</td>\n",
       "      <td>mismatch</td>\n",
       "      <td>822.0</td>\n",
       "      <td>1</td>\n",
       "      <td>1</td>\n",
       "      <td>0</td>\n",
       "    </tr>\n",
       "    <tr>\n",
       "      <th>1</th>\n",
       "      <td>1</td>\n",
       "      <td>0</td>\n",
       "      <td>2000</td>\n",
       "      <td>5</td>\n",
       "      <td>image_first</td>\n",
       "      <td>Good</td>\n",
       "      <td>mismatch</td>\n",
       "      <td>741.0</td>\n",
       "      <td>1</td>\n",
       "      <td>2</td>\n",
       "      <td>0</td>\n",
       "    </tr>\n",
       "    <tr>\n",
       "      <th>2</th>\n",
       "      <td>1</td>\n",
       "      <td>0</td>\n",
       "      <td>2000</td>\n",
       "      <td>5</td>\n",
       "      <td>image_first</td>\n",
       "      <td>Neutral</td>\n",
       "      <td>match</td>\n",
       "      <td>781.0</td>\n",
       "      <td>1</td>\n",
       "      <td>3</td>\n",
       "      <td>1</td>\n",
       "    </tr>\n",
       "    <tr>\n",
       "      <th>3</th>\n",
       "      <td>1</td>\n",
       "      <td>0</td>\n",
       "      <td>2000</td>\n",
       "      <td>5</td>\n",
       "      <td>image_first</td>\n",
       "      <td>Bad</td>\n",
       "      <td>mismatch</td>\n",
       "      <td>683.0</td>\n",
       "      <td>1</td>\n",
       "      <td>4</td>\n",
       "      <td>0</td>\n",
       "    </tr>\n",
       "    <tr>\n",
       "      <th>4</th>\n",
       "      <td>1</td>\n",
       "      <td>0</td>\n",
       "      <td>2000</td>\n",
       "      <td>5</td>\n",
       "      <td>image_first</td>\n",
       "      <td>Neutral</td>\n",
       "      <td>match</td>\n",
       "      <td>599.0</td>\n",
       "      <td>1</td>\n",
       "      <td>5</td>\n",
       "      <td>1</td>\n",
       "    </tr>\n",
       "  </tbody>\n",
       "</table>\n",
       "</div>"
      ],
      "text/plain": [
       "   subj_idx  gender  year  education    condition  valence matchness     rt  \\\n",
       "0         1       0  2000          5  image_first  Neutral  mismatch  822.0   \n",
       "1         1       0  2000          5  image_first     Good  mismatch  741.0   \n",
       "2         1       0  2000          5  image_first  Neutral     match  781.0   \n",
       "3         1       0  2000          5  image_first      Bad  mismatch  683.0   \n",
       "4         1       0  2000          5  image_first  Neutral     match  599.0   \n",
       "\n",
       "   ACC  trial_id  response  \n",
       "0    1         1         0  \n",
       "1    1         2         0  \n",
       "2    1         3         1  \n",
       "3    1         4         0  \n",
       "4    1         5         1  "
      ]
     },
     "execution_count": 39,
     "metadata": {},
     "output_type": "execute_result"
    }
   ],
   "source": [
    "df2.head()"
   ]
  },
  {
   "cell_type": "code",
   "execution_count": 40,
   "id": "7a7e07b1",
   "metadata": {},
   "outputs": [],
   "source": [
    "onehot_v = pd.get_dummies(df2[\"valence\"], prefix=\"valence\")"
   ]
  },
  {
   "cell_type": "code",
   "execution_count": 41,
   "id": "4ac53291",
   "metadata": {},
   "outputs": [],
   "source": [
    "onehot_m = pd.get_dummies(df2[\"matchness\"], prefix=\"Match\")"
   ]
  },
  {
   "cell_type": "code",
   "execution_count": 42,
   "id": "980bf10c",
   "metadata": {},
   "outputs": [],
   "source": [
    "df2 = pd.concat([df2, onehot_v, onehot_m], axis=1)"
   ]
  },
  {
   "cell_type": "code",
   "execution_count": 43,
   "id": "6bfe4b04",
   "metadata": {},
   "outputs": [],
   "source": [
    "df2 = df2.drop([\"valence\", \"matchness\"], axis=1)"
   ]
  },
  {
   "cell_type": "code",
   "execution_count": 45,
   "id": "4ba05a5c",
   "metadata": {},
   "outputs": [
    {
     "data": {
      "text/html": [
       "<div>\n",
       "<style scoped>\n",
       "    .dataframe tbody tr th:only-of-type {\n",
       "        vertical-align: middle;\n",
       "    }\n",
       "\n",
       "    .dataframe tbody tr th {\n",
       "        vertical-align: top;\n",
       "    }\n",
       "\n",
       "    .dataframe thead th {\n",
       "        text-align: right;\n",
       "    }\n",
       "</style>\n",
       "<table border=\"1\" class=\"dataframe\">\n",
       "  <thead>\n",
       "    <tr style=\"text-align: right;\">\n",
       "      <th></th>\n",
       "      <th>subj_idx</th>\n",
       "      <th>gender</th>\n",
       "      <th>year</th>\n",
       "      <th>education</th>\n",
       "      <th>condition</th>\n",
       "      <th>rt</th>\n",
       "      <th>ACC</th>\n",
       "      <th>trial_id</th>\n",
       "      <th>response</th>\n",
       "      <th>valence_Bad</th>\n",
       "      <th>valence_Good</th>\n",
       "      <th>valence_Neutral</th>\n",
       "      <th>Match_match</th>\n",
       "      <th>Match_mismatch</th>\n",
       "    </tr>\n",
       "  </thead>\n",
       "  <tbody>\n",
       "    <tr>\n",
       "      <th>0</th>\n",
       "      <td>1</td>\n",
       "      <td>0</td>\n",
       "      <td>2000</td>\n",
       "      <td>5</td>\n",
       "      <td>image_first</td>\n",
       "      <td>822.0</td>\n",
       "      <td>1</td>\n",
       "      <td>1</td>\n",
       "      <td>0</td>\n",
       "      <td>0</td>\n",
       "      <td>0</td>\n",
       "      <td>1</td>\n",
       "      <td>0</td>\n",
       "      <td>1</td>\n",
       "    </tr>\n",
       "    <tr>\n",
       "      <th>1</th>\n",
       "      <td>1</td>\n",
       "      <td>0</td>\n",
       "      <td>2000</td>\n",
       "      <td>5</td>\n",
       "      <td>image_first</td>\n",
       "      <td>741.0</td>\n",
       "      <td>1</td>\n",
       "      <td>2</td>\n",
       "      <td>0</td>\n",
       "      <td>0</td>\n",
       "      <td>1</td>\n",
       "      <td>0</td>\n",
       "      <td>0</td>\n",
       "      <td>1</td>\n",
       "    </tr>\n",
       "    <tr>\n",
       "      <th>2</th>\n",
       "      <td>1</td>\n",
       "      <td>0</td>\n",
       "      <td>2000</td>\n",
       "      <td>5</td>\n",
       "      <td>image_first</td>\n",
       "      <td>781.0</td>\n",
       "      <td>1</td>\n",
       "      <td>3</td>\n",
       "      <td>1</td>\n",
       "      <td>0</td>\n",
       "      <td>0</td>\n",
       "      <td>1</td>\n",
       "      <td>1</td>\n",
       "      <td>0</td>\n",
       "    </tr>\n",
       "    <tr>\n",
       "      <th>3</th>\n",
       "      <td>1</td>\n",
       "      <td>0</td>\n",
       "      <td>2000</td>\n",
       "      <td>5</td>\n",
       "      <td>image_first</td>\n",
       "      <td>683.0</td>\n",
       "      <td>1</td>\n",
       "      <td>4</td>\n",
       "      <td>0</td>\n",
       "      <td>1</td>\n",
       "      <td>0</td>\n",
       "      <td>0</td>\n",
       "      <td>0</td>\n",
       "      <td>1</td>\n",
       "    </tr>\n",
       "    <tr>\n",
       "      <th>4</th>\n",
       "      <td>1</td>\n",
       "      <td>0</td>\n",
       "      <td>2000</td>\n",
       "      <td>5</td>\n",
       "      <td>image_first</td>\n",
       "      <td>599.0</td>\n",
       "      <td>1</td>\n",
       "      <td>5</td>\n",
       "      <td>1</td>\n",
       "      <td>0</td>\n",
       "      <td>0</td>\n",
       "      <td>1</td>\n",
       "      <td>1</td>\n",
       "      <td>0</td>\n",
       "    </tr>\n",
       "  </tbody>\n",
       "</table>\n",
       "</div>"
      ],
      "text/plain": [
       "   subj_idx  gender  year  education    condition     rt  ACC  trial_id  \\\n",
       "0         1       0  2000          5  image_first  822.0    1         1   \n",
       "1         1       0  2000          5  image_first  741.0    1         2   \n",
       "2         1       0  2000          5  image_first  781.0    1         3   \n",
       "3         1       0  2000          5  image_first  683.0    1         4   \n",
       "4         1       0  2000          5  image_first  599.0    1         5   \n",
       "\n",
       "   response  valence_Bad  valence_Good  valence_Neutral  Match_match  \\\n",
       "0         0            0             0                1            0   \n",
       "1         0            0             1                0            0   \n",
       "2         1            0             0                1            1   \n",
       "3         0            1             0                0            0   \n",
       "4         1            0             0                1            1   \n",
       "\n",
       "   Match_mismatch  \n",
       "0               1  \n",
       "1               1  \n",
       "2               0  \n",
       "3               1  \n",
       "4               0  "
      ]
     },
     "execution_count": 45,
     "metadata": {},
     "output_type": "execute_result"
    }
   ],
   "source": [
    "df2.head()"
   ]
  },
  {
   "cell_type": "code",
   "execution_count": 46,
   "id": "f05cc433",
   "metadata": {},
   "outputs": [],
   "source": [
    "df2[\"rt_log\"] = np.log(df2[\"rt\"])"
   ]
  },
  {
   "cell_type": "code",
   "execution_count": 47,
   "id": "7efca56d",
   "metadata": {},
   "outputs": [
    {
     "name": "stdout",
     "output_type": "stream",
     "text": [
      "<class 'pandas.core.frame.DataFrame'>\n",
      "Int64Index: 28682 entries, 0 to 28799\n",
      "Data columns (total 15 columns):\n",
      " #   Column           Non-Null Count  Dtype  \n",
      "---  ------           --------------  -----  \n",
      " 0   subj_idx         28682 non-null  int64  \n",
      " 1   gender           28682 non-null  int64  \n",
      " 2   year             28682 non-null  int64  \n",
      " 3   education        28682 non-null  int64  \n",
      " 4   condition        28682 non-null  object \n",
      " 5   rt               28682 non-null  float64\n",
      " 6   ACC              28682 non-null  int64  \n",
      " 7   trial_id         28682 non-null  int64  \n",
      " 8   response         28682 non-null  int64  \n",
      " 9   valence_Bad      28682 non-null  uint8  \n",
      " 10  valence_Good     28682 non-null  uint8  \n",
      " 11  valence_Neutral  28682 non-null  uint8  \n",
      " 12  Match_match      28682 non-null  uint8  \n",
      " 13  Match_mismatch   28682 non-null  uint8  \n",
      " 14  rt_log           28682 non-null  float64\n",
      "dtypes: float64(2), int64(7), object(1), uint8(5)\n",
      "memory usage: 2.5+ MB\n"
     ]
    }
   ],
   "source": [
    "df2.info()"
   ]
  },
  {
   "cell_type": "code",
   "execution_count": 48,
   "id": "8211d292",
   "metadata": {},
   "outputs": [],
   "source": [
    "df2_sim = df2[df2.condition == \"simultaneous\"]"
   ]
  },
  {
   "cell_type": "code",
   "execution_count": 49,
   "id": "83db7886",
   "metadata": {},
   "outputs": [],
   "source": [
    "df2_img = df2[df2.condition == \"image_first\"]"
   ]
  },
  {
   "cell_type": "code",
   "execution_count": 50,
   "id": "a671cba0",
   "metadata": {},
   "outputs": [],
   "source": [
    "df2_word = df2[df2.condition == \"word_first\"]"
   ]
  },
  {
   "cell_type": "code",
   "execution_count": 51,
   "id": "810e8562",
   "metadata": {},
   "outputs": [
    {
     "data": {
      "text/html": [
       "<div>\n",
       "<style scoped>\n",
       "    .dataframe tbody tr th:only-of-type {\n",
       "        vertical-align: middle;\n",
       "    }\n",
       "\n",
       "    .dataframe tbody tr th {\n",
       "        vertical-align: top;\n",
       "    }\n",
       "\n",
       "    .dataframe thead th {\n",
       "        text-align: right;\n",
       "    }\n",
       "</style>\n",
       "<table border=\"1\" class=\"dataframe\">\n",
       "  <thead>\n",
       "    <tr style=\"text-align: right;\">\n",
       "      <th></th>\n",
       "      <th>subj_idx</th>\n",
       "      <th>gender</th>\n",
       "      <th>year</th>\n",
       "      <th>education</th>\n",
       "      <th>condition</th>\n",
       "      <th>rt</th>\n",
       "      <th>ACC</th>\n",
       "      <th>trial_id</th>\n",
       "      <th>response</th>\n",
       "      <th>valence_Bad</th>\n",
       "      <th>valence_Good</th>\n",
       "      <th>valence_Neutral</th>\n",
       "      <th>Match_match</th>\n",
       "      <th>Match_mismatch</th>\n",
       "      <th>rt_log</th>\n",
       "    </tr>\n",
       "  </thead>\n",
       "  <tbody>\n",
       "    <tr>\n",
       "      <th>480</th>\n",
       "      <td>1</td>\n",
       "      <td>0</td>\n",
       "      <td>2000</td>\n",
       "      <td>5</td>\n",
       "      <td>simultaneous</td>\n",
       "      <td>980.0</td>\n",
       "      <td>1</td>\n",
       "      <td>1</td>\n",
       "      <td>0</td>\n",
       "      <td>1</td>\n",
       "      <td>0</td>\n",
       "      <td>0</td>\n",
       "      <td>0</td>\n",
       "      <td>1</td>\n",
       "      <td>6.887553</td>\n",
       "    </tr>\n",
       "    <tr>\n",
       "      <th>481</th>\n",
       "      <td>1</td>\n",
       "      <td>0</td>\n",
       "      <td>2000</td>\n",
       "      <td>5</td>\n",
       "      <td>simultaneous</td>\n",
       "      <td>779.0</td>\n",
       "      <td>1</td>\n",
       "      <td>2</td>\n",
       "      <td>0</td>\n",
       "      <td>0</td>\n",
       "      <td>0</td>\n",
       "      <td>1</td>\n",
       "      <td>0</td>\n",
       "      <td>1</td>\n",
       "      <td>6.658011</td>\n",
       "    </tr>\n",
       "    <tr>\n",
       "      <th>482</th>\n",
       "      <td>1</td>\n",
       "      <td>0</td>\n",
       "      <td>2000</td>\n",
       "      <td>5</td>\n",
       "      <td>simultaneous</td>\n",
       "      <td>738.0</td>\n",
       "      <td>1</td>\n",
       "      <td>3</td>\n",
       "      <td>1</td>\n",
       "      <td>0</td>\n",
       "      <td>1</td>\n",
       "      <td>0</td>\n",
       "      <td>1</td>\n",
       "      <td>0</td>\n",
       "      <td>6.603944</td>\n",
       "    </tr>\n",
       "    <tr>\n",
       "      <th>483</th>\n",
       "      <td>1</td>\n",
       "      <td>0</td>\n",
       "      <td>2000</td>\n",
       "      <td>5</td>\n",
       "      <td>simultaneous</td>\n",
       "      <td>763.0</td>\n",
       "      <td>1</td>\n",
       "      <td>4</td>\n",
       "      <td>1</td>\n",
       "      <td>0</td>\n",
       "      <td>0</td>\n",
       "      <td>1</td>\n",
       "      <td>1</td>\n",
       "      <td>0</td>\n",
       "      <td>6.637258</td>\n",
       "    </tr>\n",
       "    <tr>\n",
       "      <th>484</th>\n",
       "      <td>1</td>\n",
       "      <td>0</td>\n",
       "      <td>2000</td>\n",
       "      <td>5</td>\n",
       "      <td>simultaneous</td>\n",
       "      <td>660.0</td>\n",
       "      <td>1</td>\n",
       "      <td>5</td>\n",
       "      <td>1</td>\n",
       "      <td>0</td>\n",
       "      <td>1</td>\n",
       "      <td>0</td>\n",
       "      <td>1</td>\n",
       "      <td>0</td>\n",
       "      <td>6.492240</td>\n",
       "    </tr>\n",
       "  </tbody>\n",
       "</table>\n",
       "</div>"
      ],
      "text/plain": [
       "     subj_idx  gender  year  education     condition     rt  ACC  trial_id  \\\n",
       "480         1       0  2000          5  simultaneous  980.0    1         1   \n",
       "481         1       0  2000          5  simultaneous  779.0    1         2   \n",
       "482         1       0  2000          5  simultaneous  738.0    1         3   \n",
       "483         1       0  2000          5  simultaneous  763.0    1         4   \n",
       "484         1       0  2000          5  simultaneous  660.0    1         5   \n",
       "\n",
       "     response  valence_Bad  valence_Good  valence_Neutral  Match_match  \\\n",
       "480         0            1             0                0            0   \n",
       "481         0            0             0                1            0   \n",
       "482         1            0             1                0            1   \n",
       "483         1            0             0                1            1   \n",
       "484         1            0             1                0            1   \n",
       "\n",
       "     Match_mismatch    rt_log  \n",
       "480               1  6.887553  \n",
       "481               1  6.658011  \n",
       "482               0  6.603944  \n",
       "483               0  6.637258  \n",
       "484               0  6.492240  "
      ]
     },
     "execution_count": 51,
     "metadata": {},
     "output_type": "execute_result"
    }
   ],
   "source": [
    "df2_sim.head()"
   ]
  },
  {
   "cell_type": "code",
   "execution_count": 52,
   "id": "d59a1878",
   "metadata": {},
   "outputs": [
    {
     "data": {
      "text/html": [
       "<div>\n",
       "<style scoped>\n",
       "    .dataframe tbody tr th:only-of-type {\n",
       "        vertical-align: middle;\n",
       "    }\n",
       "\n",
       "    .dataframe tbody tr th {\n",
       "        vertical-align: top;\n",
       "    }\n",
       "\n",
       "    .dataframe thead th {\n",
       "        text-align: right;\n",
       "    }\n",
       "</style>\n",
       "<table border=\"1\" class=\"dataframe\">\n",
       "  <thead>\n",
       "    <tr style=\"text-align: right;\">\n",
       "      <th></th>\n",
       "      <th>subj_idx</th>\n",
       "      <th>gender</th>\n",
       "      <th>year</th>\n",
       "      <th>education</th>\n",
       "      <th>condition</th>\n",
       "      <th>rt</th>\n",
       "      <th>ACC</th>\n",
       "      <th>trial_id</th>\n",
       "      <th>response</th>\n",
       "      <th>valence_Bad</th>\n",
       "      <th>valence_Good</th>\n",
       "      <th>valence_Neutral</th>\n",
       "      <th>Match_match</th>\n",
       "      <th>Match_mismatch</th>\n",
       "      <th>rt_log</th>\n",
       "    </tr>\n",
       "  </thead>\n",
       "  <tbody>\n",
       "    <tr>\n",
       "      <th>0</th>\n",
       "      <td>1</td>\n",
       "      <td>0</td>\n",
       "      <td>2000</td>\n",
       "      <td>5</td>\n",
       "      <td>image_first</td>\n",
       "      <td>822.0</td>\n",
       "      <td>1</td>\n",
       "      <td>1</td>\n",
       "      <td>0</td>\n",
       "      <td>0</td>\n",
       "      <td>0</td>\n",
       "      <td>1</td>\n",
       "      <td>0</td>\n",
       "      <td>1</td>\n",
       "      <td>6.711740</td>\n",
       "    </tr>\n",
       "    <tr>\n",
       "      <th>1</th>\n",
       "      <td>1</td>\n",
       "      <td>0</td>\n",
       "      <td>2000</td>\n",
       "      <td>5</td>\n",
       "      <td>image_first</td>\n",
       "      <td>741.0</td>\n",
       "      <td>1</td>\n",
       "      <td>2</td>\n",
       "      <td>0</td>\n",
       "      <td>0</td>\n",
       "      <td>1</td>\n",
       "      <td>0</td>\n",
       "      <td>0</td>\n",
       "      <td>1</td>\n",
       "      <td>6.608001</td>\n",
       "    </tr>\n",
       "    <tr>\n",
       "      <th>2</th>\n",
       "      <td>1</td>\n",
       "      <td>0</td>\n",
       "      <td>2000</td>\n",
       "      <td>5</td>\n",
       "      <td>image_first</td>\n",
       "      <td>781.0</td>\n",
       "      <td>1</td>\n",
       "      <td>3</td>\n",
       "      <td>1</td>\n",
       "      <td>0</td>\n",
       "      <td>0</td>\n",
       "      <td>1</td>\n",
       "      <td>1</td>\n",
       "      <td>0</td>\n",
       "      <td>6.660575</td>\n",
       "    </tr>\n",
       "    <tr>\n",
       "      <th>3</th>\n",
       "      <td>1</td>\n",
       "      <td>0</td>\n",
       "      <td>2000</td>\n",
       "      <td>5</td>\n",
       "      <td>image_first</td>\n",
       "      <td>683.0</td>\n",
       "      <td>1</td>\n",
       "      <td>4</td>\n",
       "      <td>0</td>\n",
       "      <td>1</td>\n",
       "      <td>0</td>\n",
       "      <td>0</td>\n",
       "      <td>0</td>\n",
       "      <td>1</td>\n",
       "      <td>6.526495</td>\n",
       "    </tr>\n",
       "    <tr>\n",
       "      <th>4</th>\n",
       "      <td>1</td>\n",
       "      <td>0</td>\n",
       "      <td>2000</td>\n",
       "      <td>5</td>\n",
       "      <td>image_first</td>\n",
       "      <td>599.0</td>\n",
       "      <td>1</td>\n",
       "      <td>5</td>\n",
       "      <td>1</td>\n",
       "      <td>0</td>\n",
       "      <td>0</td>\n",
       "      <td>1</td>\n",
       "      <td>1</td>\n",
       "      <td>0</td>\n",
       "      <td>6.395262</td>\n",
       "    </tr>\n",
       "  </tbody>\n",
       "</table>\n",
       "</div>"
      ],
      "text/plain": [
       "   subj_idx  gender  year  education    condition     rt  ACC  trial_id  \\\n",
       "0         1       0  2000          5  image_first  822.0    1         1   \n",
       "1         1       0  2000          5  image_first  741.0    1         2   \n",
       "2         1       0  2000          5  image_first  781.0    1         3   \n",
       "3         1       0  2000          5  image_first  683.0    1         4   \n",
       "4         1       0  2000          5  image_first  599.0    1         5   \n",
       "\n",
       "   response  valence_Bad  valence_Good  valence_Neutral  Match_match  \\\n",
       "0         0            0             0                1            0   \n",
       "1         0            0             1                0            0   \n",
       "2         1            0             0                1            1   \n",
       "3         0            1             0                0            0   \n",
       "4         1            0             0                1            1   \n",
       "\n",
       "   Match_mismatch    rt_log  \n",
       "0               1  6.711740  \n",
       "1               1  6.608001  \n",
       "2               0  6.660575  \n",
       "3               1  6.526495  \n",
       "4               0  6.395262  "
      ]
     },
     "execution_count": 52,
     "metadata": {},
     "output_type": "execute_result"
    }
   ],
   "source": [
    "df2_img.head()"
   ]
  },
  {
   "cell_type": "code",
   "execution_count": 53,
   "id": "7812334c",
   "metadata": {},
   "outputs": [
    {
     "data": {
      "text/html": [
       "<div>\n",
       "<style scoped>\n",
       "    .dataframe tbody tr th:only-of-type {\n",
       "        vertical-align: middle;\n",
       "    }\n",
       "\n",
       "    .dataframe tbody tr th {\n",
       "        vertical-align: top;\n",
       "    }\n",
       "\n",
       "    .dataframe thead th {\n",
       "        text-align: right;\n",
       "    }\n",
       "</style>\n",
       "<table border=\"1\" class=\"dataframe\">\n",
       "  <thead>\n",
       "    <tr style=\"text-align: right;\">\n",
       "      <th></th>\n",
       "      <th>subj_idx</th>\n",
       "      <th>gender</th>\n",
       "      <th>year</th>\n",
       "      <th>education</th>\n",
       "      <th>condition</th>\n",
       "      <th>rt</th>\n",
       "      <th>ACC</th>\n",
       "      <th>trial_id</th>\n",
       "      <th>response</th>\n",
       "      <th>valence_Bad</th>\n",
       "      <th>valence_Good</th>\n",
       "      <th>valence_Neutral</th>\n",
       "      <th>Match_match</th>\n",
       "      <th>Match_mismatch</th>\n",
       "      <th>rt_log</th>\n",
       "    </tr>\n",
       "  </thead>\n",
       "  <tbody>\n",
       "    <tr>\n",
       "      <th>240</th>\n",
       "      <td>1</td>\n",
       "      <td>0</td>\n",
       "      <td>2000</td>\n",
       "      <td>5</td>\n",
       "      <td>word_first</td>\n",
       "      <td>761.0</td>\n",
       "      <td>1</td>\n",
       "      <td>1</td>\n",
       "      <td>0</td>\n",
       "      <td>0</td>\n",
       "      <td>0</td>\n",
       "      <td>1</td>\n",
       "      <td>0</td>\n",
       "      <td>1</td>\n",
       "      <td>6.634633</td>\n",
       "    </tr>\n",
       "    <tr>\n",
       "      <th>241</th>\n",
       "      <td>1</td>\n",
       "      <td>0</td>\n",
       "      <td>2000</td>\n",
       "      <td>5</td>\n",
       "      <td>word_first</td>\n",
       "      <td>745.0</td>\n",
       "      <td>1</td>\n",
       "      <td>2</td>\n",
       "      <td>0</td>\n",
       "      <td>0</td>\n",
       "      <td>1</td>\n",
       "      <td>0</td>\n",
       "      <td>0</td>\n",
       "      <td>1</td>\n",
       "      <td>6.613384</td>\n",
       "    </tr>\n",
       "    <tr>\n",
       "      <th>242</th>\n",
       "      <td>1</td>\n",
       "      <td>0</td>\n",
       "      <td>2000</td>\n",
       "      <td>5</td>\n",
       "      <td>word_first</td>\n",
       "      <td>639.0</td>\n",
       "      <td>1</td>\n",
       "      <td>3</td>\n",
       "      <td>1</td>\n",
       "      <td>1</td>\n",
       "      <td>0</td>\n",
       "      <td>0</td>\n",
       "      <td>1</td>\n",
       "      <td>0</td>\n",
       "      <td>6.459904</td>\n",
       "    </tr>\n",
       "    <tr>\n",
       "      <th>243</th>\n",
       "      <td>1</td>\n",
       "      <td>0</td>\n",
       "      <td>2000</td>\n",
       "      <td>5</td>\n",
       "      <td>word_first</td>\n",
       "      <td>566.0</td>\n",
       "      <td>1</td>\n",
       "      <td>4</td>\n",
       "      <td>1</td>\n",
       "      <td>0</td>\n",
       "      <td>1</td>\n",
       "      <td>0</td>\n",
       "      <td>1</td>\n",
       "      <td>0</td>\n",
       "      <td>6.338594</td>\n",
       "    </tr>\n",
       "    <tr>\n",
       "      <th>244</th>\n",
       "      <td>1</td>\n",
       "      <td>0</td>\n",
       "      <td>2000</td>\n",
       "      <td>5</td>\n",
       "      <td>word_first</td>\n",
       "      <td>510.0</td>\n",
       "      <td>1</td>\n",
       "      <td>5</td>\n",
       "      <td>1</td>\n",
       "      <td>0</td>\n",
       "      <td>1</td>\n",
       "      <td>0</td>\n",
       "      <td>1</td>\n",
       "      <td>0</td>\n",
       "      <td>6.234411</td>\n",
       "    </tr>\n",
       "  </tbody>\n",
       "</table>\n",
       "</div>"
      ],
      "text/plain": [
       "     subj_idx  gender  year  education   condition     rt  ACC  trial_id  \\\n",
       "240         1       0  2000          5  word_first  761.0    1         1   \n",
       "241         1       0  2000          5  word_first  745.0    1         2   \n",
       "242         1       0  2000          5  word_first  639.0    1         3   \n",
       "243         1       0  2000          5  word_first  566.0    1         4   \n",
       "244         1       0  2000          5  word_first  510.0    1         5   \n",
       "\n",
       "     response  valence_Bad  valence_Good  valence_Neutral  Match_match  \\\n",
       "240         0            0             0                1            0   \n",
       "241         0            0             1                0            0   \n",
       "242         1            1             0                0            1   \n",
       "243         1            0             1                0            1   \n",
       "244         1            0             1                0            1   \n",
       "\n",
       "     Match_mismatch    rt_log  \n",
       "240               1  6.634633  \n",
       "241               1  6.613384  \n",
       "242               0  6.459904  \n",
       "243               0  6.338594  \n",
       "244               0  6.234411  "
      ]
     },
     "execution_count": 53,
     "metadata": {},
     "output_type": "execute_result"
    }
   ],
   "source": [
    "df2_word.head()"
   ]
  },
  {
   "cell_type": "code",
   "execution_count": 54,
   "id": "475789a2",
   "metadata": {},
   "outputs": [
    {
     "data": {
      "text/plain": [
       "Counter({1: 8642, 0: 892})"
      ]
     },
     "execution_count": 54,
     "metadata": {},
     "output_type": "execute_result"
    }
   ],
   "source": [
    "Counter(df2_sim[\"ACC\"])"
   ]
  },
  {
   "cell_type": "code",
   "execution_count": 55,
   "id": "07ec16a1",
   "metadata": {},
   "outputs": [
    {
     "data": {
      "text/plain": [
       "Counter({1: 8741, 0: 832})"
      ]
     },
     "execution_count": 55,
     "metadata": {},
     "output_type": "execute_result"
    }
   ],
   "source": [
    "Counter(df2_img[\"ACC\"])"
   ]
  },
  {
   "cell_type": "code",
   "execution_count": 56,
   "id": "0f7bb5c3",
   "metadata": {},
   "outputs": [
    {
     "data": {
      "text/plain": [
       "Counter({1: 8741, 0: 834})"
      ]
     },
     "execution_count": 56,
     "metadata": {},
     "output_type": "execute_result"
    }
   ],
   "source": [
    "Counter(df2_word[\"ACC\"])"
   ]
  },
  {
   "cell_type": "code",
   "execution_count": 57,
   "id": "accbde90",
   "metadata": {},
   "outputs": [],
   "source": [
    "pipe_lr = make_pipeline(\n",
    "    MinMaxScaler(), \n",
    "    LogisticRegression(solver='saga', multi_class=\"multinomial\", max_iter=1000, random_state=123)\n",
    ")"
   ]
  },
  {
   "cell_type": "code",
   "execution_count": 59,
   "id": "d0e8a205",
   "metadata": {},
   "outputs": [],
   "source": [
    "logo = LeaveOneGroupOut()"
   ]
  },
  {
   "cell_type": "code",
   "execution_count": 60,
   "id": "7eb36036",
   "metadata": {},
   "outputs": [],
   "source": [
    "df2_sim = df2_sim.dropna()"
   ]
  },
  {
   "cell_type": "code",
   "execution_count": 61,
   "id": "8d248334",
   "metadata": {},
   "outputs": [],
   "source": [
    "y_sim = df2_sim[\"Match_match\"].values"
   ]
  },
  {
   "cell_type": "code",
   "execution_count": 62,
   "id": "d7c3b100",
   "metadata": {},
   "outputs": [
    {
     "data": {
      "text/plain": [
       "(9534,)"
      ]
     },
     "execution_count": 62,
     "metadata": {},
     "output_type": "execute_result"
    }
   ],
   "source": [
    "y_sim.shape"
   ]
  },
  {
   "cell_type": "code",
   "execution_count": 65,
   "id": "d24245ec",
   "metadata": {},
   "outputs": [],
   "source": [
    "y_img = df2_img[\"Match_match\"].values"
   ]
  },
  {
   "cell_type": "code",
   "execution_count": 66,
   "id": "5d7d9a3c",
   "metadata": {},
   "outputs": [],
   "source": [
    "y_word = df2_word[\"Match_match\"].values"
   ]
  },
  {
   "cell_type": "code",
   "execution_count": 67,
   "id": "b2f7a012",
   "metadata": {},
   "outputs": [
    {
     "data": {
      "text/plain": [
       "(9573,)"
      ]
     },
     "execution_count": 67,
     "metadata": {},
     "output_type": "execute_result"
    }
   ],
   "source": [
    "y_img.shape"
   ]
  },
  {
   "cell_type": "code",
   "execution_count": 68,
   "id": "d530c748",
   "metadata": {},
   "outputs": [
    {
     "data": {
      "text/plain": [
       "(9575,)"
      ]
     },
     "execution_count": 68,
     "metadata": {},
     "output_type": "execute_result"
    }
   ],
   "source": [
    "y_word.shape"
   ]
  },
  {
   "cell_type": "code",
   "execution_count": 93,
   "id": "552ca25f",
   "metadata": {},
   "outputs": [],
   "source": [
    "X_sim = df2_sim[['rt_log', \"ACC\"]].values"
   ]
  },
  {
   "cell_type": "code",
   "execution_count": 94,
   "id": "f9972f99",
   "metadata": {},
   "outputs": [],
   "source": [
    "X_img = df2_img[['rt_log', \"ACC\"]].values"
   ]
  },
  {
   "cell_type": "code",
   "execution_count": 95,
   "id": "d8abcd4b",
   "metadata": {},
   "outputs": [],
   "source": [
    "X_word = df2_word[['rt_log', \"ACC\"]].values"
   ]
  },
  {
   "cell_type": "code",
   "execution_count": 96,
   "id": "4ec1ba02",
   "metadata": {},
   "outputs": [
    {
     "data": {
      "text/plain": [
       "(9534, 2)"
      ]
     },
     "execution_count": 96,
     "metadata": {},
     "output_type": "execute_result"
    }
   ],
   "source": [
    "X_sim.shape"
   ]
  },
  {
   "cell_type": "code",
   "execution_count": 97,
   "id": "dd8fcfd4",
   "metadata": {},
   "outputs": [
    {
     "data": {
      "text/plain": [
       "(9573, 2)"
      ]
     },
     "execution_count": 97,
     "metadata": {},
     "output_type": "execute_result"
    }
   ],
   "source": [
    "X_img.shape"
   ]
  },
  {
   "cell_type": "code",
   "execution_count": 98,
   "id": "575f0e13",
   "metadata": {},
   "outputs": [
    {
     "data": {
      "text/plain": [
       "(9575, 2)"
      ]
     },
     "execution_count": 98,
     "metadata": {},
     "output_type": "execute_result"
    }
   ],
   "source": [
    "X_word.shape"
   ]
  },
  {
   "cell_type": "code",
   "execution_count": 99,
   "id": "1d8692e9",
   "metadata": {},
   "outputs": [],
   "source": [
    "groups = df2_sim[\"subj_idx\"].values"
   ]
  },
  {
   "cell_type": "code",
   "execution_count": 100,
   "id": "3798f370",
   "metadata": {},
   "outputs": [
    {
     "data": {
      "text/plain": [
       "array([ 1,  2,  3,  4,  5,  6,  7,  8,  9, 10, 11, 12, 13, 14, 15, 16, 17,\n",
       "       18, 19, 20, 21, 22, 23, 24, 25, 26, 27, 28, 29, 30, 31, 32, 33, 34,\n",
       "       35, 36, 37, 38, 39, 40])"
      ]
     },
     "execution_count": 100,
     "metadata": {},
     "output_type": "execute_result"
    }
   ],
   "source": [
    "np.unique(groups)"
   ]
  },
  {
   "cell_type": "code",
   "execution_count": 101,
   "id": "8e6eb152",
   "metadata": {},
   "outputs": [],
   "source": [
    "##无法直接比较\n",
    "roc_auc_img = []\n",
    "roc_auc_word = []\n",
    "\n",
    "for train, test in logo.split(X_sim, y_sim, groups=groups):\n",
    "    logi = make_pipeline(\n",
    "    MinMaxScaler(), \n",
    "    LogisticRegression(solver='saga', max_iter=1000, random_state=123))\n",
    "    logi.fit(X=X_sim[train], y=y_sim[train])\n",
    "    y_pred_img = logi.predict_proba(X_img)\n",
    "    score_img = roc_auc_score(y_img, y_pred_img[:, -1])\n",
    "    y_pred_word = logi.predict_proba(X_word)\n",
    "    score_word = roc_auc_score(y_word, y_pred_word[:, -1])\n",
    "    roc_auc_img.append(score_img)\n",
    "    roc_auc_word.append(score_word)\n",
    "\n"
   ]
  },
  {
   "cell_type": "code",
   "execution_count": 114,
   "id": "5c916062",
   "metadata": {},
   "outputs": [],
   "source": [
    "##可以直接比较不同顺序\n",
    "roc_auc_img2 = []\n",
    "roc_auc_word2 = []\n",
    "roc_auc_sim2 = []\n",
    "\n",
    "for train, test in logo.split(X_sim, y_sim, groups=groups):\n",
    "    test_sub = np.unique(groups[test])[0]\n",
    "\n",
    "    logi = make_pipeline(\n",
    "    MinMaxScaler(), \n",
    "    LogisticRegression(solver='saga', max_iter=1000, random_state=123))\n",
    "    logi.fit(X=X_sim[train], y=y_sim[train])\n",
    "    y_pre_sim = logi.predict_proba(X_sim[test])\n",
    "    score_sim2 = roc_auc_score(y_sim[test], y_pre_sim[:, -1])\n",
    "    y_pred_img = logi.predict_proba(X_img[df2_img[\"subj_idx\"] == test_sub])\n",
    "    score_img2 = roc_auc_score(y_img[df2_img[\"subj_idx\"] == test_sub], y_pred_img[:, -1])\n",
    "    y_pred_word = logi.predict_proba(X_word[df2_word[\"subj_idx\"] == test_sub])\n",
    "    score_word2 = roc_auc_score(y_word[df2_word[\"subj_idx\"] == test_sub], y_pred_word[:, -1])\n",
    "    roc_auc_sim2.append(score_sim2)\n",
    "    roc_auc_img2.append(score_img2)\n",
    "    roc_auc_word2.append(score_word2)\n"
   ]
  },
  {
   "cell_type": "code",
   "execution_count": 115,
   "id": "6716ae63",
   "metadata": {},
   "outputs": [
    {
     "data": {
      "text/plain": [
       "[0.7411805555555555,\n",
       " 0.6478472222222222,\n",
       " 0.5456597222222223,\n",
       " 0.5486458333333334,\n",
       " 0.6451330532212886,\n",
       " 0.5437152777777778,\n",
       " 0.6440972222222222,\n",
       " 0.5583333333333333,\n",
       " 0.6202083333333333,\n",
       " 0.6407838983050848,\n",
       " 0.6089985994397759,\n",
       " 0.6345238095238095,\n",
       " 0.6871527777777777,\n",
       " 0.5503489531405783,\n",
       " 0.5929971988795518,\n",
       " 0.6672619047619047,\n",
       " 0.6074652777777778,\n",
       " 0.5566176470588236,\n",
       " 0.582422969187675,\n",
       " 0.37564437539721773,\n",
       " 0.7073958333333332,\n",
       " 0.557662429378531,\n",
       " 0.5838935574229691,\n",
       " 0.4962968238142715,\n",
       " 0.6053221288515407,\n",
       " 0.5078781512605042,\n",
       " 0.6312152777777778,\n",
       " 0.5046527777777778,\n",
       " 0.6258680555555555,\n",
       " 0.538263888888889,\n",
       " 0.6632703081232493,\n",
       " 0.5719097222222222,\n",
       " 0.5787847222222222,\n",
       " 0.7292366946778711,\n",
       " 0.6501041666666666,\n",
       " 0.657673611111111,\n",
       " 0.600138888888889,\n",
       " 0.5323179271708683,\n",
       " 0.5789901129943503,\n",
       " 0.5969791666666667]"
      ]
     },
     "execution_count": 115,
     "metadata": {},
     "output_type": "execute_result"
    }
   ],
   "source": []
  },
  {
   "attachments": {},
   "cell_type": "markdown",
   "id": "2d7db095",
   "metadata": {},
   "source": [
    "### 黑魔法"
   ]
  },
  {
   "cell_type": "code",
   "execution_count": 91,
   "id": "51308117",
   "metadata": {},
   "outputs": [],
   "source": [
    "logi2 = make_pipeline(\n",
    "    MinMaxScaler(), \n",
    "    LogisticRegression(solver='saga', max_iter=1000, random_state=123))\n",
    "logi2.fit(X=X_sim, y=y_sim)\n",
    "\n",
    "roc_auc1 = []\n",
    "for subj, df_sub in df2_img.groupby(\"subj_idx\"):\n",
    "    feature = df_sub[\"rt_log\"].values.reshape(-1, 1)\n",
    "    y_true = df_sub[\"Match_match\"]\n",
    "    y_pre = logi2.predict_proba(feature)\n",
    "    roc_auc =  roc_auc_score(y_true, y_pre[:, -1])\n",
    "    roc_auc1.append(roc_auc)\n"
   ]
  },
  {
   "cell_type": "code",
   "execution_count": 92,
   "id": "372fee99",
   "metadata": {},
   "outputs": [
    {
     "data": {
      "text/plain": [
       "Ttest_1sampResult(statistic=9.123324506983213, pvalue=3.218665552255504e-11)"
      ]
     },
     "execution_count": 92,
     "metadata": {},
     "output_type": "execute_result"
    }
   ],
   "source": [
    "stats.ttest_1samp(roc_auc1, 0.5)"
   ]
  },
  {
   "cell_type": "code",
   "execution_count": 102,
   "id": "2c1e2861",
   "metadata": {},
   "outputs": [
    {
     "data": {
      "text/plain": [
       "0.5853277179231939"
      ]
     },
     "execution_count": 102,
     "metadata": {},
     "output_type": "execute_result"
    }
   ],
   "source": [
    "np.mean(roc_auc_img)"
   ]
  },
  {
   "cell_type": "code",
   "execution_count": 103,
   "id": "cf4b2d7a",
   "metadata": {},
   "outputs": [
    {
     "data": {
      "text/plain": [
       "0.5899584496175981"
      ]
     },
     "execution_count": 103,
     "metadata": {},
     "output_type": "execute_result"
    }
   ],
   "source": [
    "np.mean(roc_auc_word)"
   ]
  },
  {
   "cell_type": "code",
   "execution_count": 104,
   "id": "4712173e",
   "metadata": {},
   "outputs": [
    {
     "data": {
      "text/plain": [
       "[0.5853030174863729,\n",
       " 0.5854388938953212,\n",
       " 0.5845564610781961,\n",
       " 0.5852743407113394,\n",
       " 0.5856186802520379,\n",
       " 0.5853376740455456,\n",
       " 0.5849902354926291,\n",
       " 0.5855906581978956,\n",
       " 0.5852541316598319,\n",
       " 0.5854055031298714,\n",
       " 0.5850400379284177,\n",
       " 0.5859420250761593,\n",
       " 0.5857262727184875,\n",
       " 0.5846203181891154,\n",
       " 0.5855907454940144,\n",
       " 0.5852942005783717,\n",
       " 0.5849382506538697,\n",
       " 0.5853509430556069,\n",
       " 0.5858631530328025,\n",
       " 0.5851482414676992,\n",
       " 0.5853238812587716,\n",
       " 0.5850224914085342,\n",
       " 0.5857035320795341,\n",
       " 0.5852337916641459,\n",
       " 0.5852279864722443,\n",
       " 0.5848362887870842,\n",
       " 0.585349677261884,\n",
       " 0.5851501619823133,\n",
       " 0.585411919394605,\n",
       " 0.5853019699329469,\n",
       " 0.585617632698612,\n",
       " 0.5852938513938963,\n",
       " 0.5857310740050228,\n",
       " 0.5854552182695413,\n",
       " 0.5852860383912617,\n",
       " 0.5855414231868793,\n",
       " 0.5855138376133311,\n",
       " 0.5855434309976122,\n",
       " 0.5851649150263944,\n",
       " 0.5851158109595563]"
      ]
     },
     "execution_count": 104,
     "metadata": {},
     "output_type": "execute_result"
    }
   ],
   "source": [
    "roc_auc_img"
   ]
  },
  {
   "cell_type": "code",
   "execution_count": 105,
   "id": "3c5fda8a",
   "metadata": {},
   "outputs": [],
   "source": [
    "from scipy import stats"
   ]
  },
  {
   "cell_type": "code",
   "execution_count": 106,
   "id": "7bd24247",
   "metadata": {},
   "outputs": [
    {
     "data": {
      "text/plain": [
       "Ttest_1sampResult(statistic=1788.8732188771721, pvalue=1.8996795074087673e-97)"
      ]
     },
     "execution_count": 106,
     "metadata": {},
     "output_type": "execute_result"
    }
   ],
   "source": [
    "stats.ttest_1samp(roc_auc_img, 0.5)"
   ]
  },
  {
   "cell_type": "code",
   "execution_count": 107,
   "id": "5b840b15",
   "metadata": {},
   "outputs": [
    {
     "data": {
      "text/plain": [
       "Ttest_1sampResult(statistic=8543.305726368688, pvalue=6.251260123738368e-124)"
      ]
     },
     "execution_count": 107,
     "metadata": {},
     "output_type": "execute_result"
    }
   ],
   "source": [
    "stats.ttest_1samp(roc_auc_word, 0.5)"
   ]
  },
  {
   "cell_type": "code",
   "execution_count": 130,
   "id": "abcf8fb9",
   "metadata": {},
   "outputs": [],
   "source": [
    "sim_scores_lr = cross_validate(pipe_lr, X_sim, y_sim, groups=sim_groups, cv=logo, scoring=my_scores)"
   ]
  },
  {
   "cell_type": "code",
   "execution_count": 131,
   "id": "f798f08c",
   "metadata": {},
   "outputs": [
    {
     "data": {
      "text/plain": [
       "0.9173395044551025"
      ]
     },
     "execution_count": 131,
     "metadata": {},
     "output_type": "execute_result"
    }
   ],
   "source": [
    "sim_scores_lr['test_score'].mean()"
   ]
  },
  {
   "cell_type": "code",
   "execution_count": 81,
   "id": "2b249b69",
   "metadata": {},
   "outputs": [
    {
     "name": "stderr",
     "output_type": "stream",
     "text": [
      "[Parallel(n_jobs=-1)]: Using backend LokyBackend with 8 concurrent workers.\n",
      "[Parallel(n_jobs=-1)]: Done  34 tasks      | elapsed:   42.3s\n",
      "[Parallel(n_jobs=-1)]: Done 100 out of 100 | elapsed:  2.0min finished\n"
     ]
    }
   ],
   "source": [
    "score_sim_lr, perm_scores_sim_lr, pvalue_sim_lr = permutation_test_score(pipe_lr, X_sim, y_sim, cv=logo, groups=sim_groups, n_permutations=100, n_jobs=-1, random_state=123, verbose=1, scoring=my_scores, fit_params=None)"
   ]
  },
  {
   "cell_type": "code",
   "execution_count": 82,
   "id": "5a2b35a8",
   "metadata": {},
   "outputs": [],
   "source": [
    "pi_mean = []\n",
    "pi_std = []\n",
    "from sklearn.inspection import permutation_importance\n",
    "for train_ix, test_ix in logo.split(X = X_sim, groups=sim_groups):\n",
    "    X_train, X_test = X_sim[train_ix, :], X_sim[test_ix, :]\n",
    "    y_train, y_test = y_sim[train_ix], y_sim[test_ix]\n",
    "    clf = pipe_lr.fit(X_train, y_train)\n",
    "    result = permutation_importance(clf, X_test, y_test, n_repeats=10, random_state=0)\n",
    "    pi_mean.append(result[\"importances_mean\"])\n",
    "    pi_std.append(result[\"importances_std\"])\n"
   ]
  },
  {
   "cell_type": "code",
   "execution_count": 83,
   "id": "a6f1601c",
   "metadata": {},
   "outputs": [],
   "source": [
    "pimean_df = pd.DataFrame(pi_mean)"
   ]
  },
  {
   "cell_type": "code",
   "execution_count": 85,
   "id": "ba4eac6d",
   "metadata": {},
   "outputs": [],
   "source": [
    "pimean_df.columns = ['rt_log', \"ACC\", \"valence_Good\", \"valence_Neutral\", \"valence_Bad\", \"Match_match\", \"Match_mismatch\"]"
   ]
  },
  {
   "cell_type": "code",
   "execution_count": 86,
   "id": "5db52b28",
   "metadata": {},
   "outputs": [],
   "source": [
    "plot = pimean_df.melt(ignore_index=False)"
   ]
  },
  {
   "cell_type": "code",
   "execution_count": 87,
   "id": "b31d2c4d",
   "metadata": {},
   "outputs": [
    {
     "data": {
      "text/plain": [
       "<AxesSubplot: xlabel='variable', ylabel='value'>"
      ]
     },
     "execution_count": 87,
     "metadata": {},
     "output_type": "execute_result"
    },
    {
     "data": {
      "image/png": "[encoded data removed]",
      "text/plain": [
       "<Figure size 640x480 with 1 Axes>"
      ]
     },
     "metadata": {},
     "output_type": "display_data"
    }
   ],
   "source": [
    "sns.set(style=\"whitegrid\")\n",
    "sns.barplot(plot, x = \"variable\", y = \"value\")"
   ]
  },
  {
   "cell_type": "code",
   "execution_count": 89,
   "id": "d909bc5b",
   "metadata": {},
   "outputs": [],
   "source": [
    "pipe_rf = make_pipeline(\n",
    "    MinMaxScaler(), \n",
    "   RandomForestClassifier(n_estimators=10, bootstrap=False, random_state=123, class_weight=\"balanced\", max_samples=None, n_jobs=-1)\n",
    ")"
   ]
  },
  {
   "cell_type": "code",
   "execution_count": 106,
   "id": "72fae90e",
   "metadata": {},
   "outputs": [],
   "source": [
    "sim_scores_rf = cross_validate(pipe_rf, X_sim, y_sim, groups=sim_groups, cv=logo, scoring=my_scores, return_estimator =True)"
   ]
  },
  {
   "cell_type": "code",
   "execution_count": 107,
   "id": "ebf93990",
   "metadata": {},
   "outputs": [
    {
     "data": {
      "text/plain": [
       "1.0"
      ]
     },
     "execution_count": 107,
     "metadata": {},
     "output_type": "execute_result"
    }
   ],
   "source": [
    "sim_scores_rf['test_score'].mean()"
   ]
  },
  {
   "cell_type": "code",
   "execution_count": 115,
   "id": "3b8a19af",
   "metadata": {},
   "outputs": [
    {
     "ename": "AttributeError",
     "evalue": "'dict' object has no attribute 'best_estimator_'",
     "output_type": "error",
     "traceback": [
      "\u001b[0;31m---------------------------------------------------------------------------\u001b[0m",
      "\u001b[0;31mAttributeError\u001b[0m                            Traceback (most recent call last)",
      "\u001b[0;32m/var/folders/06/d73mk4410yg1bfrx52fmy4jw0000gn/T/ipykernel_76783/2756427141.py\u001b[0m in \u001b[0;36m<module>\u001b[0;34m\u001b[0m\n\u001b[0;32m----> 1\u001b[0;31m \u001b[0msim_scores_rf\u001b[0m\u001b[0;34m.\u001b[0m\u001b[0mbest_estimator_\u001b[0m\u001b[0;34m\u001b[0m\u001b[0;34m\u001b[0m\u001b[0m\n\u001b[0m",
      "\u001b[0;31mAttributeError\u001b[0m: 'dict' object has no attribute 'best_estimator_'"
     ]
    }
   ],
   "source": [
    "sim_scores_rf.best_estimator_"
   ]
  },
  {
   "cell_type": "code",
   "execution_count": null,
   "metadata": {},
   "outputs": [],
   "source": []
  }
 ],
 "metadata": {
  "kernelspec": {
   "display_name": "base",
   "language": "python",
   "name": "python3"
  },
  "language_info": {
   "codemirror_mode": {
    "name": "ipython",
    "version": 3
   },
   "file_extension": ".py",
   "mimetype": "text/x-python",
   "name": "python",
   "nbconvert_exporter": "python",
   "pygments_lexer": "ipython3",
   "version": "3.8.13"
  },
  "vscode": {
   "interpreter": {
    "hash": "cf397a380d48228a06b798decf63f189c3319dfdb1b8ed74604b310c4db00d54"
   }
  }
 },
 "nbformat": 4,
 "nbformat_minor": 5
}
