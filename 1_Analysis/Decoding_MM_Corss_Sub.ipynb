{
 "cells": [
  {
   "cell_type": "markdown",
   "id": "2f40ed1a-fb8f-493a-b562-ece70a1fa2e1",
   "metadata": {},
   "source": [
    "# Decoding Match-Mismatch Response Cross the Subjects"
   ]
  },
  {
   "cell_type": "code",
   "execution_count": 220,
   "id": "8009d930-a3bc-4b71-bd98-31a3a7014961",
   "metadata": {},
   "outputs": [],
   "source": [
    "import os \n",
    "import numpy as np\n",
    "import pandas as pd\n",
    "import matplotlib.pyplot as plt\n",
    "from sklearn.pipeline import make_pipeline\n",
    "from sklearn.linear_model import LogisticRegression\n",
    "from sklearn.ensemble import RandomForestClassifier\n",
    "from sklearn.preprocessing import StandardScaler\n",
    "from sklearn.preprocessing import MinMaxScaler\n",
    "from sklearn.model_selection import LeaveOneGroupOut\n",
    "from sklearn.model_selection import cross_validate\n",
    "from sklearn.model_selection import permutation_test_score\n",
    "from sklearn.metrics import make_scorer\n",
    "from sklearn.metrics import roc_auc_score\n",
    "from collections import Counter\n",
    "%matplotlib inline"
   ]
  },
  {
   "cell_type": "code",
   "execution_count": 221,
   "id": "9b4b8801",
   "metadata": {},
   "outputs": [],
   "source": [
    "def score_func(y, y_pred):\n",
    "    score = roc_auc_score(y, y_pred, multi_class=\"ovo\")\n",
    "    return score"
   ]
  },
  {
   "cell_type": "code",
   "execution_count": 222,
   "id": "58a3fc33",
   "metadata": {},
   "outputs": [],
   "source": [
    "my_scores = make_scorer(score_func=score_func, greater_is_better=True, needs_proba=True, needs_threshold=False)"
   ]
  },
  {
   "cell_type": "markdown",
   "id": "9b399bfb-4dda-47d3-a530-563a55f392d3",
   "metadata": {},
   "source": [
    "## Set the path and load the dataset"
   ]
  },
  {
   "cell_type": "code",
   "execution_count": 223,
   "id": "79d08113-446d-4f76-a739-c5d6ec3ed7d6",
   "metadata": {},
   "outputs": [
    {
     "data": {
      "text/plain": [
       "'/Users/zhengyuanrui/Decoding_SALT/2_Data'"
      ]
     },
     "execution_count": 223,
     "metadata": {},
     "output_type": "execute_result"
    }
   ],
   "source": [
    "os.getcwd()"
   ]
  },
  {
   "cell_type": "code",
   "execution_count": 224,
   "id": "d9734e3e-4b17-459a-9276-d4fcc995758f",
   "metadata": {},
   "outputs": [],
   "source": [
    "os.chdir(\"../2_Data\")"
   ]
  },
  {
   "cell_type": "code",
   "execution_count": 225,
   "id": "9e9fd0b1-d254-4989-84f6-8cdfee106013",
   "metadata": {},
   "outputs": [],
   "source": [
    "df2 = pd.read_csv(\"Exp2_postpro.csv\")"
   ]
  },
  {
   "cell_type": "code",
   "execution_count": 226,
   "id": "f368d133",
   "metadata": {},
   "outputs": [
    {
     "data": {
      "text/html": [
       "<div>\n",
       "<style scoped>\n",
       "    .dataframe tbody tr th:only-of-type {\n",
       "        vertical-align: middle;\n",
       "    }\n",
       "\n",
       "    .dataframe tbody tr th {\n",
       "        vertical-align: top;\n",
       "    }\n",
       "\n",
       "    .dataframe thead th {\n",
       "        text-align: right;\n",
       "    }\n",
       "</style>\n",
       "<table border=\"1\" class=\"dataframe\">\n",
       "  <thead>\n",
       "    <tr style=\"text-align: right;\">\n",
       "      <th></th>\n",
       "      <th>subj_idx</th>\n",
       "      <th>gender</th>\n",
       "      <th>year</th>\n",
       "      <th>education</th>\n",
       "      <th>dist</th>\n",
       "      <th>trial_type</th>\n",
       "      <th>rt</th>\n",
       "      <th>response</th>\n",
       "      <th>key_press</th>\n",
       "      <th>condition</th>\n",
       "      <th>correct_response</th>\n",
       "      <th>correct</th>\n",
       "      <th>word</th>\n",
       "      <th>Image</th>\n",
       "      <th>shape_en</th>\n",
       "      <th>valence</th>\n",
       "      <th>ACC</th>\n",
       "      <th>exp</th>\n",
       "      <th>matchness</th>\n",
       "      <th>trial_id</th>\n",
       "    </tr>\n",
       "  </thead>\n",
       "  <tbody>\n",
       "    <tr>\n",
       "      <th>0</th>\n",
       "      <td>1</td>\n",
       "      <td>0</td>\n",
       "      <td>2000</td>\n",
       "      <td>5</td>\n",
       "      <td>408.81</td>\n",
       "      <td>psychophysics</td>\n",
       "      <td>822.0</td>\n",
       "      <td>f</td>\n",
       "      <td>f</td>\n",
       "      <td>image_first</td>\n",
       "      <td>f</td>\n",
       "      <td>True</td>\n",
       "      <td>常人</td>\n",
       "      <td>img/S_ambi40.png</td>\n",
       "      <td>square</td>\n",
       "      <td>Neutral</td>\n",
       "      <td>1</td>\n",
       "      <td>exp2</td>\n",
       "      <td>mismatch</td>\n",
       "      <td>1</td>\n",
       "    </tr>\n",
       "    <tr>\n",
       "      <th>1</th>\n",
       "      <td>1</td>\n",
       "      <td>0</td>\n",
       "      <td>2000</td>\n",
       "      <td>5</td>\n",
       "      <td>408.81</td>\n",
       "      <td>psychophysics</td>\n",
       "      <td>741.0</td>\n",
       "      <td>f</td>\n",
       "      <td>f</td>\n",
       "      <td>image_first</td>\n",
       "      <td>f</td>\n",
       "      <td>True</td>\n",
       "      <td>好人</td>\n",
       "      <td>img/T_ambi40.png</td>\n",
       "      <td>triangle</td>\n",
       "      <td>Good</td>\n",
       "      <td>1</td>\n",
       "      <td>exp2</td>\n",
       "      <td>mismatch</td>\n",
       "      <td>2</td>\n",
       "    </tr>\n",
       "    <tr>\n",
       "      <th>2</th>\n",
       "      <td>1</td>\n",
       "      <td>0</td>\n",
       "      <td>2000</td>\n",
       "      <td>5</td>\n",
       "      <td>408.81</td>\n",
       "      <td>psychophysics</td>\n",
       "      <td>781.0</td>\n",
       "      <td>j</td>\n",
       "      <td>j</td>\n",
       "      <td>image_first</td>\n",
       "      <td>j</td>\n",
       "      <td>True</td>\n",
       "      <td>常人</td>\n",
       "      <td>img/T_ambi40.png</td>\n",
       "      <td>triangle</td>\n",
       "      <td>Neutral</td>\n",
       "      <td>1</td>\n",
       "      <td>exp2</td>\n",
       "      <td>match</td>\n",
       "      <td>3</td>\n",
       "    </tr>\n",
       "    <tr>\n",
       "      <th>3</th>\n",
       "      <td>1</td>\n",
       "      <td>0</td>\n",
       "      <td>2000</td>\n",
       "      <td>5</td>\n",
       "      <td>408.81</td>\n",
       "      <td>psychophysics</td>\n",
       "      <td>683.0</td>\n",
       "      <td>f</td>\n",
       "      <td>f</td>\n",
       "      <td>image_first</td>\n",
       "      <td>f</td>\n",
       "      <td>True</td>\n",
       "      <td>坏人</td>\n",
       "      <td>img/C_ambi40.png</td>\n",
       "      <td>circle</td>\n",
       "      <td>Bad</td>\n",
       "      <td>1</td>\n",
       "      <td>exp2</td>\n",
       "      <td>mismatch</td>\n",
       "      <td>4</td>\n",
       "    </tr>\n",
       "    <tr>\n",
       "      <th>4</th>\n",
       "      <td>1</td>\n",
       "      <td>0</td>\n",
       "      <td>2000</td>\n",
       "      <td>5</td>\n",
       "      <td>408.81</td>\n",
       "      <td>psychophysics</td>\n",
       "      <td>599.0</td>\n",
       "      <td>j</td>\n",
       "      <td>j</td>\n",
       "      <td>image_first</td>\n",
       "      <td>j</td>\n",
       "      <td>True</td>\n",
       "      <td>常人</td>\n",
       "      <td>img/T_ambi40.png</td>\n",
       "      <td>triangle</td>\n",
       "      <td>Neutral</td>\n",
       "      <td>1</td>\n",
       "      <td>exp2</td>\n",
       "      <td>match</td>\n",
       "      <td>5</td>\n",
       "    </tr>\n",
       "  </tbody>\n",
       "</table>\n",
       "</div>"
      ],
      "text/plain": [
       "   subj_idx  gender  year  education    dist     trial_type     rt response  \\\n",
       "0         1       0  2000          5  408.81  psychophysics  822.0        f   \n",
       "1         1       0  2000          5  408.81  psychophysics  741.0        f   \n",
       "2         1       0  2000          5  408.81  psychophysics  781.0        j   \n",
       "3         1       0  2000          5  408.81  psychophysics  683.0        f   \n",
       "4         1       0  2000          5  408.81  psychophysics  599.0        j   \n",
       "\n",
       "  key_press    condition correct_response  correct word             Image  \\\n",
       "0         f  image_first                f     True   常人  img/S_ambi40.png   \n",
       "1         f  image_first                f     True   好人  img/T_ambi40.png   \n",
       "2         j  image_first                j     True   常人  img/T_ambi40.png   \n",
       "3         f  image_first                f     True   坏人  img/C_ambi40.png   \n",
       "4         j  image_first                j     True   常人  img/T_ambi40.png   \n",
       "\n",
       "   shape_en  valence  ACC   exp matchness  trial_id  \n",
       "0    square  Neutral    1  exp2  mismatch         1  \n",
       "1  triangle     Good    1  exp2  mismatch         2  \n",
       "2  triangle  Neutral    1  exp2     match         3  \n",
       "3    circle      Bad    1  exp2  mismatch         4  \n",
       "4  triangle  Neutral    1  exp2     match         5  "
      ]
     },
     "execution_count": 226,
     "metadata": {},
     "output_type": "execute_result"
    }
   ],
   "source": [
    "df2.head()"
   ]
  },
  {
   "attachments": {},
   "cell_type": "markdown",
   "id": "090beef6",
   "metadata": {},
   "source": [
    "## Select the columns and split the dataset by condition"
   ]
  },
  {
   "cell_type": "code",
   "execution_count": 227,
   "id": "94657a74",
   "metadata": {},
   "outputs": [],
   "source": [
    "column = ['subj_idx', 'gender', 'year','education', 'condition', 'valence', 'matchness', 'rt', 'ACC', 'trial_id']"
   ]
  },
  {
   "cell_type": "code",
   "execution_count": 228,
   "id": "6700d804",
   "metadata": {},
   "outputs": [],
   "source": [
    "df2 = df2[column]"
   ]
  },
  {
   "cell_type": "code",
   "execution_count": 229,
   "id": "0b603fae",
   "metadata": {},
   "outputs": [
    {
     "data": {
      "text/html": [
       "<div>\n",
       "<style scoped>\n",
       "    .dataframe tbody tr th:only-of-type {\n",
       "        vertical-align: middle;\n",
       "    }\n",
       "\n",
       "    .dataframe tbody tr th {\n",
       "        vertical-align: top;\n",
       "    }\n",
       "\n",
       "    .dataframe thead th {\n",
       "        text-align: right;\n",
       "    }\n",
       "</style>\n",
       "<table border=\"1\" class=\"dataframe\">\n",
       "  <thead>\n",
       "    <tr style=\"text-align: right;\">\n",
       "      <th></th>\n",
       "      <th>subj_idx</th>\n",
       "      <th>gender</th>\n",
       "      <th>year</th>\n",
       "      <th>education</th>\n",
       "      <th>condition</th>\n",
       "      <th>valence</th>\n",
       "      <th>matchness</th>\n",
       "      <th>rt</th>\n",
       "      <th>ACC</th>\n",
       "      <th>trial_id</th>\n",
       "    </tr>\n",
       "  </thead>\n",
       "  <tbody>\n",
       "    <tr>\n",
       "      <th>0</th>\n",
       "      <td>1</td>\n",
       "      <td>0</td>\n",
       "      <td>2000</td>\n",
       "      <td>5</td>\n",
       "      <td>image_first</td>\n",
       "      <td>Neutral</td>\n",
       "      <td>mismatch</td>\n",
       "      <td>822.0</td>\n",
       "      <td>1</td>\n",
       "      <td>1</td>\n",
       "    </tr>\n",
       "    <tr>\n",
       "      <th>1</th>\n",
       "      <td>1</td>\n",
       "      <td>0</td>\n",
       "      <td>2000</td>\n",
       "      <td>5</td>\n",
       "      <td>image_first</td>\n",
       "      <td>Good</td>\n",
       "      <td>mismatch</td>\n",
       "      <td>741.0</td>\n",
       "      <td>1</td>\n",
       "      <td>2</td>\n",
       "    </tr>\n",
       "    <tr>\n",
       "      <th>2</th>\n",
       "      <td>1</td>\n",
       "      <td>0</td>\n",
       "      <td>2000</td>\n",
       "      <td>5</td>\n",
       "      <td>image_first</td>\n",
       "      <td>Neutral</td>\n",
       "      <td>match</td>\n",
       "      <td>781.0</td>\n",
       "      <td>1</td>\n",
       "      <td>3</td>\n",
       "    </tr>\n",
       "    <tr>\n",
       "      <th>3</th>\n",
       "      <td>1</td>\n",
       "      <td>0</td>\n",
       "      <td>2000</td>\n",
       "      <td>5</td>\n",
       "      <td>image_first</td>\n",
       "      <td>Bad</td>\n",
       "      <td>mismatch</td>\n",
       "      <td>683.0</td>\n",
       "      <td>1</td>\n",
       "      <td>4</td>\n",
       "    </tr>\n",
       "    <tr>\n",
       "      <th>4</th>\n",
       "      <td>1</td>\n",
       "      <td>0</td>\n",
       "      <td>2000</td>\n",
       "      <td>5</td>\n",
       "      <td>image_first</td>\n",
       "      <td>Neutral</td>\n",
       "      <td>match</td>\n",
       "      <td>599.0</td>\n",
       "      <td>1</td>\n",
       "      <td>5</td>\n",
       "    </tr>\n",
       "  </tbody>\n",
       "</table>\n",
       "</div>"
      ],
      "text/plain": [
       "   subj_idx  gender  year  education    condition  valence matchness     rt  \\\n",
       "0         1       0  2000          5  image_first  Neutral  mismatch  822.0   \n",
       "1         1       0  2000          5  image_first     Good  mismatch  741.0   \n",
       "2         1       0  2000          5  image_first  Neutral     match  781.0   \n",
       "3         1       0  2000          5  image_first      Bad  mismatch  683.0   \n",
       "4         1       0  2000          5  image_first  Neutral     match  599.0   \n",
       "\n",
       "   ACC  trial_id  \n",
       "0    1         1  \n",
       "1    1         2  \n",
       "2    1         3  \n",
       "3    1         4  \n",
       "4    1         5  "
      ]
     },
     "execution_count": 229,
     "metadata": {},
     "output_type": "execute_result"
    }
   ],
   "source": [
    "df2.head()"
   ]
  },
  {
   "cell_type": "code",
   "execution_count": 230,
   "id": "7a7e07b1",
   "metadata": {},
   "outputs": [],
   "source": [
    "onehot_v = pd.get_dummies(df2[\"valence\"], prefix=\"valence\")"
   ]
  },
  {
   "cell_type": "code",
   "execution_count": 231,
   "id": "980bf10c",
   "metadata": {},
   "outputs": [],
   "source": [
    "df2 = pd.concat([df2, onehot_v], axis=1)"
   ]
  },
  {
   "cell_type": "code",
   "execution_count": 232,
   "id": "6bfe4b04",
   "metadata": {},
   "outputs": [],
   "source": [
    "df2 = df2.drop(\"valence\", axis=1)"
   ]
  },
  {
   "cell_type": "code",
   "execution_count": 233,
   "id": "a8cebe2e",
   "metadata": {},
   "outputs": [],
   "source": [
    "df2[\"matchness\"] = df2[\"matchness\"].map(dict(mismatch=0, match=1))"
   ]
  },
  {
   "cell_type": "code",
   "execution_count": 234,
   "id": "4ba05a5c",
   "metadata": {},
   "outputs": [
    {
     "data": {
      "text/html": [
       "<div>\n",
       "<style scoped>\n",
       "    .dataframe tbody tr th:only-of-type {\n",
       "        vertical-align: middle;\n",
       "    }\n",
       "\n",
       "    .dataframe tbody tr th {\n",
       "        vertical-align: top;\n",
       "    }\n",
       "\n",
       "    .dataframe thead th {\n",
       "        text-align: right;\n",
       "    }\n",
       "</style>\n",
       "<table border=\"1\" class=\"dataframe\">\n",
       "  <thead>\n",
       "    <tr style=\"text-align: right;\">\n",
       "      <th></th>\n",
       "      <th>subj_idx</th>\n",
       "      <th>gender</th>\n",
       "      <th>year</th>\n",
       "      <th>education</th>\n",
       "      <th>condition</th>\n",
       "      <th>matchness</th>\n",
       "      <th>rt</th>\n",
       "      <th>ACC</th>\n",
       "      <th>trial_id</th>\n",
       "      <th>valence_Bad</th>\n",
       "      <th>valence_Good</th>\n",
       "      <th>valence_Neutral</th>\n",
       "    </tr>\n",
       "  </thead>\n",
       "  <tbody>\n",
       "    <tr>\n",
       "      <th>0</th>\n",
       "      <td>1</td>\n",
       "      <td>0</td>\n",
       "      <td>2000</td>\n",
       "      <td>5</td>\n",
       "      <td>image_first</td>\n",
       "      <td>0</td>\n",
       "      <td>822.0</td>\n",
       "      <td>1</td>\n",
       "      <td>1</td>\n",
       "      <td>0</td>\n",
       "      <td>0</td>\n",
       "      <td>1</td>\n",
       "    </tr>\n",
       "    <tr>\n",
       "      <th>1</th>\n",
       "      <td>1</td>\n",
       "      <td>0</td>\n",
       "      <td>2000</td>\n",
       "      <td>5</td>\n",
       "      <td>image_first</td>\n",
       "      <td>0</td>\n",
       "      <td>741.0</td>\n",
       "      <td>1</td>\n",
       "      <td>2</td>\n",
       "      <td>0</td>\n",
       "      <td>1</td>\n",
       "      <td>0</td>\n",
       "    </tr>\n",
       "    <tr>\n",
       "      <th>2</th>\n",
       "      <td>1</td>\n",
       "      <td>0</td>\n",
       "      <td>2000</td>\n",
       "      <td>5</td>\n",
       "      <td>image_first</td>\n",
       "      <td>1</td>\n",
       "      <td>781.0</td>\n",
       "      <td>1</td>\n",
       "      <td>3</td>\n",
       "      <td>0</td>\n",
       "      <td>0</td>\n",
       "      <td>1</td>\n",
       "    </tr>\n",
       "    <tr>\n",
       "      <th>3</th>\n",
       "      <td>1</td>\n",
       "      <td>0</td>\n",
       "      <td>2000</td>\n",
       "      <td>5</td>\n",
       "      <td>image_first</td>\n",
       "      <td>0</td>\n",
       "      <td>683.0</td>\n",
       "      <td>1</td>\n",
       "      <td>4</td>\n",
       "      <td>1</td>\n",
       "      <td>0</td>\n",
       "      <td>0</td>\n",
       "    </tr>\n",
       "    <tr>\n",
       "      <th>4</th>\n",
       "      <td>1</td>\n",
       "      <td>0</td>\n",
       "      <td>2000</td>\n",
       "      <td>5</td>\n",
       "      <td>image_first</td>\n",
       "      <td>1</td>\n",
       "      <td>599.0</td>\n",
       "      <td>1</td>\n",
       "      <td>5</td>\n",
       "      <td>0</td>\n",
       "      <td>0</td>\n",
       "      <td>1</td>\n",
       "    </tr>\n",
       "  </tbody>\n",
       "</table>\n",
       "</div>"
      ],
      "text/plain": [
       "   subj_idx  gender  year  education    condition  matchness     rt  ACC  \\\n",
       "0         1       0  2000          5  image_first          0  822.0    1   \n",
       "1         1       0  2000          5  image_first          0  741.0    1   \n",
       "2         1       0  2000          5  image_first          1  781.0    1   \n",
       "3         1       0  2000          5  image_first          0  683.0    1   \n",
       "4         1       0  2000          5  image_first          1  599.0    1   \n",
       "\n",
       "   trial_id  valence_Bad  valence_Good  valence_Neutral  \n",
       "0         1            0             0                1  \n",
       "1         2            0             1                0  \n",
       "2         3            0             0                1  \n",
       "3         4            1             0                0  \n",
       "4         5            0             0                1  "
      ]
     },
     "execution_count": 234,
     "metadata": {},
     "output_type": "execute_result"
    }
   ],
   "source": [
    "df2.head()"
   ]
  },
  {
   "cell_type": "code",
   "execution_count": 235,
   "id": "f05cc433",
   "metadata": {},
   "outputs": [],
   "source": [
    "df2[\"rt_log\"] = np.log(df2[\"rt\"])"
   ]
  },
  {
   "cell_type": "code",
   "execution_count": 236,
   "id": "7efca56d",
   "metadata": {},
   "outputs": [
    {
     "name": "stdout",
     "output_type": "stream",
     "text": [
      "<class 'pandas.core.frame.DataFrame'>\n",
      "RangeIndex: 21600 entries, 0 to 21599\n",
      "Data columns (total 13 columns):\n",
      " #   Column           Non-Null Count  Dtype  \n",
      "---  ------           --------------  -----  \n",
      " 0   subj_idx         21600 non-null  int64  \n",
      " 1   gender           21600 non-null  int64  \n",
      " 2   year             21600 non-null  int64  \n",
      " 3   education        21600 non-null  int64  \n",
      " 4   condition        21600 non-null  object \n",
      " 5   matchness        21600 non-null  int64  \n",
      " 6   rt               21523 non-null  float64\n",
      " 7   ACC              21600 non-null  int64  \n",
      " 8   trial_id         21600 non-null  int64  \n",
      " 9   valence_Bad      21600 non-null  uint8  \n",
      " 10  valence_Good     21600 non-null  uint8  \n",
      " 11  valence_Neutral  21600 non-null  uint8  \n",
      " 12  rt_log           21523 non-null  float64\n",
      "dtypes: float64(2), int64(7), object(1), uint8(3)\n",
      "memory usage: 1.7+ MB\n"
     ]
    }
   ],
   "source": [
    "df2.info()"
   ]
  },
  {
   "cell_type": "code",
   "execution_count": 237,
   "id": "8211d292",
   "metadata": {},
   "outputs": [],
   "source": [
    "df2_sim = df2[df2.condition == \"simultaneous\"]"
   ]
  },
  {
   "cell_type": "code",
   "execution_count": 238,
   "id": "83db7886",
   "metadata": {},
   "outputs": [],
   "source": [
    "df2_img = df2[df2.condition == \"image_first\"]"
   ]
  },
  {
   "cell_type": "code",
   "execution_count": 239,
   "id": "a671cba0",
   "metadata": {},
   "outputs": [],
   "source": [
    "df2_word = df2[df2.condition == \"word_first\"]"
   ]
  },
  {
   "cell_type": "code",
   "execution_count": 240,
   "id": "810e8562",
   "metadata": {},
   "outputs": [
    {
     "data": {
      "text/html": [
       "<div>\n",
       "<style scoped>\n",
       "    .dataframe tbody tr th:only-of-type {\n",
       "        vertical-align: middle;\n",
       "    }\n",
       "\n",
       "    .dataframe tbody tr th {\n",
       "        vertical-align: top;\n",
       "    }\n",
       "\n",
       "    .dataframe thead th {\n",
       "        text-align: right;\n",
       "    }\n",
       "</style>\n",
       "<table border=\"1\" class=\"dataframe\">\n",
       "  <thead>\n",
       "    <tr style=\"text-align: right;\">\n",
       "      <th></th>\n",
       "      <th>subj_idx</th>\n",
       "      <th>gender</th>\n",
       "      <th>year</th>\n",
       "      <th>education</th>\n",
       "      <th>condition</th>\n",
       "      <th>matchness</th>\n",
       "      <th>rt</th>\n",
       "      <th>ACC</th>\n",
       "      <th>trial_id</th>\n",
       "      <th>valence_Bad</th>\n",
       "      <th>valence_Good</th>\n",
       "      <th>valence_Neutral</th>\n",
       "      <th>rt_log</th>\n",
       "    </tr>\n",
       "  </thead>\n",
       "  <tbody>\n",
       "    <tr>\n",
       "      <th>480</th>\n",
       "      <td>1</td>\n",
       "      <td>0</td>\n",
       "      <td>2000</td>\n",
       "      <td>5</td>\n",
       "      <td>simultaneous</td>\n",
       "      <td>0</td>\n",
       "      <td>980.0</td>\n",
       "      <td>1</td>\n",
       "      <td>1</td>\n",
       "      <td>1</td>\n",
       "      <td>0</td>\n",
       "      <td>0</td>\n",
       "      <td>6.887553</td>\n",
       "    </tr>\n",
       "    <tr>\n",
       "      <th>481</th>\n",
       "      <td>1</td>\n",
       "      <td>0</td>\n",
       "      <td>2000</td>\n",
       "      <td>5</td>\n",
       "      <td>simultaneous</td>\n",
       "      <td>0</td>\n",
       "      <td>779.0</td>\n",
       "      <td>1</td>\n",
       "      <td>2</td>\n",
       "      <td>0</td>\n",
       "      <td>0</td>\n",
       "      <td>1</td>\n",
       "      <td>6.658011</td>\n",
       "    </tr>\n",
       "    <tr>\n",
       "      <th>482</th>\n",
       "      <td>1</td>\n",
       "      <td>0</td>\n",
       "      <td>2000</td>\n",
       "      <td>5</td>\n",
       "      <td>simultaneous</td>\n",
       "      <td>1</td>\n",
       "      <td>738.0</td>\n",
       "      <td>1</td>\n",
       "      <td>3</td>\n",
       "      <td>0</td>\n",
       "      <td>1</td>\n",
       "      <td>0</td>\n",
       "      <td>6.603944</td>\n",
       "    </tr>\n",
       "    <tr>\n",
       "      <th>483</th>\n",
       "      <td>1</td>\n",
       "      <td>0</td>\n",
       "      <td>2000</td>\n",
       "      <td>5</td>\n",
       "      <td>simultaneous</td>\n",
       "      <td>1</td>\n",
       "      <td>763.0</td>\n",
       "      <td>1</td>\n",
       "      <td>4</td>\n",
       "      <td>0</td>\n",
       "      <td>0</td>\n",
       "      <td>1</td>\n",
       "      <td>6.637258</td>\n",
       "    </tr>\n",
       "    <tr>\n",
       "      <th>484</th>\n",
       "      <td>1</td>\n",
       "      <td>0</td>\n",
       "      <td>2000</td>\n",
       "      <td>5</td>\n",
       "      <td>simultaneous</td>\n",
       "      <td>1</td>\n",
       "      <td>660.0</td>\n",
       "      <td>1</td>\n",
       "      <td>5</td>\n",
       "      <td>0</td>\n",
       "      <td>1</td>\n",
       "      <td>0</td>\n",
       "      <td>6.492240</td>\n",
       "    </tr>\n",
       "  </tbody>\n",
       "</table>\n",
       "</div>"
      ],
      "text/plain": [
       "     subj_idx  gender  year  education     condition  matchness     rt  ACC  \\\n",
       "480         1       0  2000          5  simultaneous          0  980.0    1   \n",
       "481         1       0  2000          5  simultaneous          0  779.0    1   \n",
       "482         1       0  2000          5  simultaneous          1  738.0    1   \n",
       "483         1       0  2000          5  simultaneous          1  763.0    1   \n",
       "484         1       0  2000          5  simultaneous          1  660.0    1   \n",
       "\n",
       "     trial_id  valence_Bad  valence_Good  valence_Neutral    rt_log  \n",
       "480         1            1             0                0  6.887553  \n",
       "481         2            0             0                1  6.658011  \n",
       "482         3            0             1                0  6.603944  \n",
       "483         4            0             0                1  6.637258  \n",
       "484         5            0             1                0  6.492240  "
      ]
     },
     "execution_count": 240,
     "metadata": {},
     "output_type": "execute_result"
    }
   ],
   "source": [
    "df2_sim.head()"
   ]
  },
  {
   "cell_type": "code",
   "execution_count": 241,
   "id": "d59a1878",
   "metadata": {},
   "outputs": [
    {
     "data": {
      "text/html": [
       "<div>\n",
       "<style scoped>\n",
       "    .dataframe tbody tr th:only-of-type {\n",
       "        vertical-align: middle;\n",
       "    }\n",
       "\n",
       "    .dataframe tbody tr th {\n",
       "        vertical-align: top;\n",
       "    }\n",
       "\n",
       "    .dataframe thead th {\n",
       "        text-align: right;\n",
       "    }\n",
       "</style>\n",
       "<table border=\"1\" class=\"dataframe\">\n",
       "  <thead>\n",
       "    <tr style=\"text-align: right;\">\n",
       "      <th></th>\n",
       "      <th>subj_idx</th>\n",
       "      <th>gender</th>\n",
       "      <th>year</th>\n",
       "      <th>education</th>\n",
       "      <th>condition</th>\n",
       "      <th>matchness</th>\n",
       "      <th>rt</th>\n",
       "      <th>ACC</th>\n",
       "      <th>trial_id</th>\n",
       "      <th>valence_Bad</th>\n",
       "      <th>valence_Good</th>\n",
       "      <th>valence_Neutral</th>\n",
       "      <th>rt_log</th>\n",
       "    </tr>\n",
       "  </thead>\n",
       "  <tbody>\n",
       "    <tr>\n",
       "      <th>0</th>\n",
       "      <td>1</td>\n",
       "      <td>0</td>\n",
       "      <td>2000</td>\n",
       "      <td>5</td>\n",
       "      <td>image_first</td>\n",
       "      <td>0</td>\n",
       "      <td>822.0</td>\n",
       "      <td>1</td>\n",
       "      <td>1</td>\n",
       "      <td>0</td>\n",
       "      <td>0</td>\n",
       "      <td>1</td>\n",
       "      <td>6.711740</td>\n",
       "    </tr>\n",
       "    <tr>\n",
       "      <th>1</th>\n",
       "      <td>1</td>\n",
       "      <td>0</td>\n",
       "      <td>2000</td>\n",
       "      <td>5</td>\n",
       "      <td>image_first</td>\n",
       "      <td>0</td>\n",
       "      <td>741.0</td>\n",
       "      <td>1</td>\n",
       "      <td>2</td>\n",
       "      <td>0</td>\n",
       "      <td>1</td>\n",
       "      <td>0</td>\n",
       "      <td>6.608001</td>\n",
       "    </tr>\n",
       "    <tr>\n",
       "      <th>2</th>\n",
       "      <td>1</td>\n",
       "      <td>0</td>\n",
       "      <td>2000</td>\n",
       "      <td>5</td>\n",
       "      <td>image_first</td>\n",
       "      <td>1</td>\n",
       "      <td>781.0</td>\n",
       "      <td>1</td>\n",
       "      <td>3</td>\n",
       "      <td>0</td>\n",
       "      <td>0</td>\n",
       "      <td>1</td>\n",
       "      <td>6.660575</td>\n",
       "    </tr>\n",
       "    <tr>\n",
       "      <th>3</th>\n",
       "      <td>1</td>\n",
       "      <td>0</td>\n",
       "      <td>2000</td>\n",
       "      <td>5</td>\n",
       "      <td>image_first</td>\n",
       "      <td>0</td>\n",
       "      <td>683.0</td>\n",
       "      <td>1</td>\n",
       "      <td>4</td>\n",
       "      <td>1</td>\n",
       "      <td>0</td>\n",
       "      <td>0</td>\n",
       "      <td>6.526495</td>\n",
       "    </tr>\n",
       "    <tr>\n",
       "      <th>4</th>\n",
       "      <td>1</td>\n",
       "      <td>0</td>\n",
       "      <td>2000</td>\n",
       "      <td>5</td>\n",
       "      <td>image_first</td>\n",
       "      <td>1</td>\n",
       "      <td>599.0</td>\n",
       "      <td>1</td>\n",
       "      <td>5</td>\n",
       "      <td>0</td>\n",
       "      <td>0</td>\n",
       "      <td>1</td>\n",
       "      <td>6.395262</td>\n",
       "    </tr>\n",
       "  </tbody>\n",
       "</table>\n",
       "</div>"
      ],
      "text/plain": [
       "   subj_idx  gender  year  education    condition  matchness     rt  ACC  \\\n",
       "0         1       0  2000          5  image_first          0  822.0    1   \n",
       "1         1       0  2000          5  image_first          0  741.0    1   \n",
       "2         1       0  2000          5  image_first          1  781.0    1   \n",
       "3         1       0  2000          5  image_first          0  683.0    1   \n",
       "4         1       0  2000          5  image_first          1  599.0    1   \n",
       "\n",
       "   trial_id  valence_Bad  valence_Good  valence_Neutral    rt_log  \n",
       "0         1            0             0                1  6.711740  \n",
       "1         2            0             1                0  6.608001  \n",
       "2         3            0             0                1  6.660575  \n",
       "3         4            1             0                0  6.526495  \n",
       "4         5            0             0                1  6.395262  "
      ]
     },
     "execution_count": 241,
     "metadata": {},
     "output_type": "execute_result"
    }
   ],
   "source": [
    "df2_img.head()"
   ]
  },
  {
   "cell_type": "code",
   "execution_count": 242,
   "id": "7812334c",
   "metadata": {},
   "outputs": [
    {
     "data": {
      "text/html": [
       "<div>\n",
       "<style scoped>\n",
       "    .dataframe tbody tr th:only-of-type {\n",
       "        vertical-align: middle;\n",
       "    }\n",
       "\n",
       "    .dataframe tbody tr th {\n",
       "        vertical-align: top;\n",
       "    }\n",
       "\n",
       "    .dataframe thead th {\n",
       "        text-align: right;\n",
       "    }\n",
       "</style>\n",
       "<table border=\"1\" class=\"dataframe\">\n",
       "  <thead>\n",
       "    <tr style=\"text-align: right;\">\n",
       "      <th></th>\n",
       "      <th>subj_idx</th>\n",
       "      <th>gender</th>\n",
       "      <th>year</th>\n",
       "      <th>education</th>\n",
       "      <th>condition</th>\n",
       "      <th>matchness</th>\n",
       "      <th>rt</th>\n",
       "      <th>ACC</th>\n",
       "      <th>trial_id</th>\n",
       "      <th>valence_Bad</th>\n",
       "      <th>valence_Good</th>\n",
       "      <th>valence_Neutral</th>\n",
       "      <th>rt_log</th>\n",
       "    </tr>\n",
       "  </thead>\n",
       "  <tbody>\n",
       "    <tr>\n",
       "      <th>240</th>\n",
       "      <td>1</td>\n",
       "      <td>0</td>\n",
       "      <td>2000</td>\n",
       "      <td>5</td>\n",
       "      <td>word_first</td>\n",
       "      <td>0</td>\n",
       "      <td>761.0</td>\n",
       "      <td>1</td>\n",
       "      <td>1</td>\n",
       "      <td>0</td>\n",
       "      <td>0</td>\n",
       "      <td>1</td>\n",
       "      <td>6.634633</td>\n",
       "    </tr>\n",
       "    <tr>\n",
       "      <th>241</th>\n",
       "      <td>1</td>\n",
       "      <td>0</td>\n",
       "      <td>2000</td>\n",
       "      <td>5</td>\n",
       "      <td>word_first</td>\n",
       "      <td>0</td>\n",
       "      <td>745.0</td>\n",
       "      <td>1</td>\n",
       "      <td>2</td>\n",
       "      <td>0</td>\n",
       "      <td>1</td>\n",
       "      <td>0</td>\n",
       "      <td>6.613384</td>\n",
       "    </tr>\n",
       "    <tr>\n",
       "      <th>242</th>\n",
       "      <td>1</td>\n",
       "      <td>0</td>\n",
       "      <td>2000</td>\n",
       "      <td>5</td>\n",
       "      <td>word_first</td>\n",
       "      <td>1</td>\n",
       "      <td>639.0</td>\n",
       "      <td>1</td>\n",
       "      <td>3</td>\n",
       "      <td>1</td>\n",
       "      <td>0</td>\n",
       "      <td>0</td>\n",
       "      <td>6.459904</td>\n",
       "    </tr>\n",
       "    <tr>\n",
       "      <th>243</th>\n",
       "      <td>1</td>\n",
       "      <td>0</td>\n",
       "      <td>2000</td>\n",
       "      <td>5</td>\n",
       "      <td>word_first</td>\n",
       "      <td>1</td>\n",
       "      <td>566.0</td>\n",
       "      <td>1</td>\n",
       "      <td>4</td>\n",
       "      <td>0</td>\n",
       "      <td>1</td>\n",
       "      <td>0</td>\n",
       "      <td>6.338594</td>\n",
       "    </tr>\n",
       "    <tr>\n",
       "      <th>244</th>\n",
       "      <td>1</td>\n",
       "      <td>0</td>\n",
       "      <td>2000</td>\n",
       "      <td>5</td>\n",
       "      <td>word_first</td>\n",
       "      <td>1</td>\n",
       "      <td>510.0</td>\n",
       "      <td>1</td>\n",
       "      <td>5</td>\n",
       "      <td>0</td>\n",
       "      <td>1</td>\n",
       "      <td>0</td>\n",
       "      <td>6.234411</td>\n",
       "    </tr>\n",
       "  </tbody>\n",
       "</table>\n",
       "</div>"
      ],
      "text/plain": [
       "     subj_idx  gender  year  education   condition  matchness     rt  ACC  \\\n",
       "240         1       0  2000          5  word_first          0  761.0    1   \n",
       "241         1       0  2000          5  word_first          0  745.0    1   \n",
       "242         1       0  2000          5  word_first          1  639.0    1   \n",
       "243         1       0  2000          5  word_first          1  566.0    1   \n",
       "244         1       0  2000          5  word_first          1  510.0    1   \n",
       "\n",
       "     trial_id  valence_Bad  valence_Good  valence_Neutral    rt_log  \n",
       "240         1            0             0                1  6.634633  \n",
       "241         2            0             1                0  6.613384  \n",
       "242         3            1             0                0  6.459904  \n",
       "243         4            0             1                0  6.338594  \n",
       "244         5            0             1                0  6.234411  "
      ]
     },
     "execution_count": 242,
     "metadata": {},
     "output_type": "execute_result"
    }
   ],
   "source": [
    "df2_word.head()"
   ]
  },
  {
   "cell_type": "code",
   "execution_count": 243,
   "id": "475789a2",
   "metadata": {},
   "outputs": [
    {
     "data": {
      "text/plain": [
       "Counter({1: 6494, 0: 706})"
      ]
     },
     "execution_count": 243,
     "metadata": {},
     "output_type": "execute_result"
    }
   ],
   "source": [
    "Counter(df2_sim[\"ACC\"])"
   ]
  },
  {
   "cell_type": "code",
   "execution_count": 244,
   "id": "07ec16a1",
   "metadata": {},
   "outputs": [
    {
     "data": {
      "text/plain": [
       "Counter({1: 6581, 0: 619})"
      ]
     },
     "execution_count": 244,
     "metadata": {},
     "output_type": "execute_result"
    }
   ],
   "source": [
    "Counter(df2_img[\"ACC\"])"
   ]
  },
  {
   "cell_type": "code",
   "execution_count": 245,
   "id": "0f7bb5c3",
   "metadata": {},
   "outputs": [
    {
     "data": {
      "text/plain": [
       "Counter({1: 6563, 0: 637})"
      ]
     },
     "execution_count": 245,
     "metadata": {},
     "output_type": "execute_result"
    }
   ],
   "source": [
    "Counter(df2_word[\"ACC\"])"
   ]
  },
  {
   "cell_type": "code",
   "execution_count": 246,
   "id": "accbde90",
   "metadata": {},
   "outputs": [],
   "source": [
    "pipe_lr = make_pipeline(\n",
    "    MinMaxScaler(), \n",
    "    LogisticRegression(solver='saga', multi_class=\"multinomial\", max_iter=1000, random_state=123)\n",
    ")"
   ]
  },
  {
   "cell_type": "code",
   "execution_count": 247,
   "id": "d0e8a205",
   "metadata": {},
   "outputs": [],
   "source": [
    "logo = LeaveOneGroupOut()"
   ]
  },
  {
   "cell_type": "code",
   "execution_count": 248,
   "id": "7eb36036",
   "metadata": {},
   "outputs": [],
   "source": [
    "df2_sim = df2_sim.dropna()"
   ]
  },
  {
   "cell_type": "code",
   "execution_count": 249,
   "id": "8d248334",
   "metadata": {},
   "outputs": [],
   "source": [
    "y_sim = df2_sim[\"matchness\"].values"
   ]
  },
  {
   "cell_type": "code",
   "execution_count": 250,
   "id": "d7c3b100",
   "metadata": {},
   "outputs": [
    {
     "data": {
      "text/plain": [
       "(7160,)"
      ]
     },
     "execution_count": 250,
     "metadata": {},
     "output_type": "execute_result"
    }
   ],
   "source": [
    "y_sim.shape"
   ]
  },
  {
   "cell_type": "code",
   "execution_count": 251,
   "id": "552ca25f",
   "metadata": {},
   "outputs": [],
   "source": [
    "X_sim = df2_sim[['rt_log', \"ACC\", \"valence_Good\", \"valence_Neutral\", \"valence_Bad\"]].values"
   ]
  },
  {
   "cell_type": "code",
   "execution_count": 252,
   "id": "4ec1ba02",
   "metadata": {},
   "outputs": [
    {
     "data": {
      "text/plain": [
       "(7160, 5)"
      ]
     },
     "execution_count": 252,
     "metadata": {},
     "output_type": "execute_result"
    }
   ],
   "source": [
    "X_sim.shape"
   ]
  },
  {
   "cell_type": "code",
   "execution_count": 253,
   "id": "1d8692e9",
   "metadata": {},
   "outputs": [],
   "source": [
    "sim_groups = df2_sim[\"subj_idx\"].values"
   ]
  },
  {
   "cell_type": "code",
   "execution_count": 254,
   "id": "3798f370",
   "metadata": {},
   "outputs": [
    {
     "data": {
      "text/plain": [
       "array([ 1,  2,  3,  4,  5,  6,  7,  8,  9, 10, 11, 12, 13, 14, 15, 16, 17,\n",
       "       18, 19, 20, 21, 22, 23, 24, 25, 26, 27, 28, 29, 30])"
      ]
     },
     "execution_count": 254,
     "metadata": {},
     "output_type": "execute_result"
    }
   ],
   "source": [
    "np.unique(sim_groups)"
   ]
  },
  {
   "cell_type": "code",
   "execution_count": 255,
   "id": "abcf8fb9",
   "metadata": {},
   "outputs": [],
   "source": [
    "sim_scores_lr = cross_validate(pipe_lr, X_sim, y_sim, groups=sim_groups, cv=logo, scoring=my_scores)"
   ]
  },
  {
   "cell_type": "code",
   "execution_count": 256,
   "id": "f798f08c",
   "metadata": {},
   "outputs": [
    {
     "data": {
      "text/plain": [
       "0.6199630282690866"
      ]
     },
     "execution_count": 256,
     "metadata": {},
     "output_type": "execute_result"
    }
   ],
   "source": [
    "sim_scores_lr['test_score'].mean()"
   ]
  },
  {
   "cell_type": "code",
   "execution_count": 257,
   "id": "2b249b69",
   "metadata": {},
   "outputs": [
    {
     "name": "stderr",
     "output_type": "stream",
     "text": [
      "[Parallel(n_jobs=-1)]: Using backend LokyBackend with 8 concurrent workers.\n",
      "[Parallel(n_jobs=-1)]: Done  34 tasks      | elapsed:   22.4s\n",
      "[Parallel(n_jobs=-1)]: Done 100 out of 100 | elapsed:   50.1s finished\n"
     ]
    }
   ],
   "source": [
    "score_sim_lr, perm_scores_sim_lr, pvalue_sim_lr = permutation_test_score(pipe_lr, X_sim, y_sim, cv=logo, groups=sim_groups, n_permutations=100, n_jobs=-1, random_state=123, verbose=1, scoring=my_scores, fit_params=None)"
   ]
  },
  {
   "cell_type": "code",
   "execution_count": 258,
   "id": "5a2b35a8",
   "metadata": {},
   "outputs": [],
   "source": [
    "pi_mean = []\n",
    "pi_std = []\n",
    "from sklearn.inspection import permutation_importance\n",
    "for train_ix, test_ix in logo.split(X = X_sim, groups=sim_groups):\n",
    "    X_train, X_test = X_sim[train_ix, :], X_sim[test_ix, :]\n",
    "    y_train, y_test = y_sim[train_ix], y_sim[test_ix]\n",
    "    clf = pipe_lr.fit(X_train, y_train)\n",
    "    result = permutation_importance(clf, X_test, y_test, n_repeats=10, random_state=0)\n",
    "    pi_mean.append(result[\"importances_mean\"])\n",
    "    pi_std.append(result[\"importances_std\"])\n"
   ]
  },
  {
   "cell_type": "code",
   "execution_count": 259,
   "id": "a6f1601c",
   "metadata": {},
   "outputs": [],
   "source": [
    "pimean_df = pd.DataFrame(pi_mean)"
   ]
  },
  {
   "cell_type": "code",
   "execution_count": 264,
   "id": "ba4eac6d",
   "metadata": {},
   "outputs": [],
   "source": [
    "pimean_df.columns = ['rt_log', \"ACC\", \"valence_Good\", \"valence_Neutral\", \"valence_Bad\"]"
   ]
  },
  {
   "cell_type": "code",
   "execution_count": 270,
   "id": "5db52b28",
   "metadata": {},
   "outputs": [],
   "source": [
    "plot = pimean_df.melt(ignore_index=False)"
   ]
  },
  {
   "cell_type": "code",
   "execution_count": 262,
   "id": "7eafbc86",
   "metadata": {},
   "outputs": [],
   "source": [
    "import seaborn as sns"
   ]
  },
  {
   "cell_type": "code",
   "execution_count": 274,
   "id": "b31d2c4d",
   "metadata": {},
   "outputs": [
    {
     "data": {
      "text/plain": [
       "<AxesSubplot: xlabel='variable', ylabel='value'>"
      ]
     },
     "execution_count": 274,
     "metadata": {},
     "output_type": "execute_result"
    },
    {
     "data": {
      "image/png": "[encoded data removed]",
      "text/plain": [
       "<Figure size 640x480 with 1 Axes>"
      ]
     },
     "metadata": {},
     "output_type": "display_data"
    }
   ],
   "source": [
    "sns.set(style=\"whitegrid\")\n",
    "sns.barplot(plot, x = \"variable\", y = \"value\")"
   ]
  },
  {
   "cell_type": "code",
   "execution_count": null,
   "id": "4498b0fe",
   "metadata": {},
   "outputs": [],
   "source": []
  }
 ],
 "metadata": {
  "kernelspec": {
   "display_name": "base",
   "language": "python",
   "name": "python3"
  },
  "language_info": {
   "codemirror_mode": {
    "name": "ipython",
    "version": 3
   },
   "file_extension": ".py",
   "mimetype": "text/x-python",
   "name": "python",
   "nbconvert_exporter": "python",
   "pygments_lexer": "ipython3",
   "version": "3.8.13"
  },
  "vscode": {
   "interpreter": {
    "hash": "cf397a380d48228a06b798decf63f189c3319dfdb1b8ed74604b310c4db00d54"
   }
  }
 },
 "nbformat": 4,
 "nbformat_minor": 5
}
