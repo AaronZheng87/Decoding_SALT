{
 "cells": [
  {
   "cell_type": "code",
   "execution_count": 1,
   "metadata": {},
   "outputs": [],
   "source": [
    "import os \n",
    "import numpy as np\n",
    "import pandas as pd\n",
    "import matplotlib.pyplot as plt\n",
    "from sklearn.model_selection import cross_validate\n",
    "from sklearn.pipeline import make_pipeline\n",
    "from sklearn.linear_model import LogisticRegression\n",
    "from sklearn.preprocessing import StandardScaler\n",
    "from sklearn.preprocessing import MinMaxScaler\n",
    "from sklearn import metrics\n",
    "from sklearn.metrics import roc_auc_score\n",
    "from sklearn.model_selection import StratifiedShuffleSplit\n",
    "from sklearn.metrics import make_scorer\n",
    "from sklearn.model_selection import permutation_test_score\n",
    "%matplotlib inline"
   ]
  },
  {
   "cell_type": "code",
   "execution_count": 2,
   "metadata": {},
   "outputs": [],
   "source": [
    "def score_func(y, y_pred):\n",
    "    score = roc_auc_score(y, y_pred, multi_class=\"ovo\")\n",
    "    return score"
   ]
  },
  {
   "cell_type": "code",
   "execution_count": 3,
   "metadata": {},
   "outputs": [],
   "source": [
    "my_scores = make_scorer(score_func=score_func, greater_is_better=True, needs_proba=True, needs_threshold=False)"
   ]
  },
  {
   "cell_type": "code",
   "execution_count": 4,
   "metadata": {},
   "outputs": [
    {
     "data": {
      "text/plain": [
       "'/Users/zhengyuanrui/FastSame-Sequence/2_Analysis/2_Result'"
      ]
     },
     "execution_count": 4,
     "metadata": {},
     "output_type": "execute_result"
    }
   ],
   "source": [
    "os.getcwd()"
   ]
  },
  {
   "cell_type": "code",
   "execution_count": 5,
   "metadata": {},
   "outputs": [],
   "source": [
    "os.chdir(\"../../1_Data/2_Postpro_data\")"
   ]
  },
  {
   "cell_type": "code",
   "execution_count": 6,
   "metadata": {},
   "outputs": [],
   "source": [
    "df = pd.read_csv(\"Exp2_RT.csv\")"
   ]
  },
  {
   "cell_type": "code",
   "execution_count": 7,
   "metadata": {},
   "outputs": [],
   "source": [
    "column = ['subj_idx', 'gender', 'year','education', 'condition', 'valence', 'matchness', 'rt']"
   ]
  },
  {
   "cell_type": "code",
   "execution_count": 8,
   "metadata": {},
   "outputs": [],
   "source": [
    "df = df[column]"
   ]
  },
  {
   "cell_type": "code",
   "execution_count": 9,
   "metadata": {},
   "outputs": [],
   "source": [
    "df[\"valence\"] = df[\"valence\"].map(dict(Neutral=0, Bad=1, Good=2))"
   ]
  },
  {
   "cell_type": "code",
   "execution_count": 10,
   "metadata": {},
   "outputs": [],
   "source": [
    "df[\"condition\"] = df[\"condition\"].map(dict(simultaneous=0, word_first=1, image_first=2))"
   ]
  },
  {
   "cell_type": "code",
   "execution_count": 11,
   "metadata": {},
   "outputs": [],
   "source": [
    "df[\"matchness\"] = df[\"matchness\"].map(dict(mismatch=0, match=1))"
   ]
  },
  {
   "cell_type": "code",
   "execution_count": 12,
   "metadata": {},
   "outputs": [],
   "source": [
    "df_sim = df.query(\"condition == 1\")"
   ]
  },
  {
   "cell_type": "code",
   "execution_count": 13,
   "metadata": {},
   "outputs": [
    {
     "data": {
      "text/html": [
       "<div>\n",
       "<style scoped>\n",
       "    .dataframe tbody tr th:only-of-type {\n",
       "        vertical-align: middle;\n",
       "    }\n",
       "\n",
       "    .dataframe tbody tr th {\n",
       "        vertical-align: top;\n",
       "    }\n",
       "\n",
       "    .dataframe thead th {\n",
       "        text-align: right;\n",
       "    }\n",
       "</style>\n",
       "<table border=\"1\" class=\"dataframe\">\n",
       "  <thead>\n",
       "    <tr style=\"text-align: right;\">\n",
       "      <th></th>\n",
       "      <th>subj_idx</th>\n",
       "      <th>gender</th>\n",
       "      <th>year</th>\n",
       "      <th>education</th>\n",
       "      <th>condition</th>\n",
       "      <th>valence</th>\n",
       "      <th>matchness</th>\n",
       "      <th>rt</th>\n",
       "    </tr>\n",
       "  </thead>\n",
       "  <tbody>\n",
       "    <tr>\n",
       "      <th>239</th>\n",
       "      <td>1</td>\n",
       "      <td>0</td>\n",
       "      <td>2000</td>\n",
       "      <td>5</td>\n",
       "      <td>1</td>\n",
       "      <td>0</td>\n",
       "      <td>0</td>\n",
       "      <td>761</td>\n",
       "    </tr>\n",
       "    <tr>\n",
       "      <th>240</th>\n",
       "      <td>1</td>\n",
       "      <td>0</td>\n",
       "      <td>2000</td>\n",
       "      <td>5</td>\n",
       "      <td>1</td>\n",
       "      <td>2</td>\n",
       "      <td>0</td>\n",
       "      <td>745</td>\n",
       "    </tr>\n",
       "    <tr>\n",
       "      <th>241</th>\n",
       "      <td>1</td>\n",
       "      <td>0</td>\n",
       "      <td>2000</td>\n",
       "      <td>5</td>\n",
       "      <td>1</td>\n",
       "      <td>1</td>\n",
       "      <td>1</td>\n",
       "      <td>639</td>\n",
       "    </tr>\n",
       "    <tr>\n",
       "      <th>242</th>\n",
       "      <td>1</td>\n",
       "      <td>0</td>\n",
       "      <td>2000</td>\n",
       "      <td>5</td>\n",
       "      <td>1</td>\n",
       "      <td>2</td>\n",
       "      <td>1</td>\n",
       "      <td>566</td>\n",
       "    </tr>\n",
       "    <tr>\n",
       "      <th>243</th>\n",
       "      <td>1</td>\n",
       "      <td>0</td>\n",
       "      <td>2000</td>\n",
       "      <td>5</td>\n",
       "      <td>1</td>\n",
       "      <td>2</td>\n",
       "      <td>1</td>\n",
       "      <td>510</td>\n",
       "    </tr>\n",
       "    <tr>\n",
       "      <th>...</th>\n",
       "      <td>...</td>\n",
       "      <td>...</td>\n",
       "      <td>...</td>\n",
       "      <td>...</td>\n",
       "      <td>...</td>\n",
       "      <td>...</td>\n",
       "      <td>...</td>\n",
       "      <td>...</td>\n",
       "    </tr>\n",
       "    <tr>\n",
       "      <th>12636</th>\n",
       "      <td>9</td>\n",
       "      <td>0</td>\n",
       "      <td>2003</td>\n",
       "      <td>4</td>\n",
       "      <td>1</td>\n",
       "      <td>0</td>\n",
       "      <td>1</td>\n",
       "      <td>527</td>\n",
       "    </tr>\n",
       "    <tr>\n",
       "      <th>12637</th>\n",
       "      <td>9</td>\n",
       "      <td>0</td>\n",
       "      <td>2003</td>\n",
       "      <td>4</td>\n",
       "      <td>1</td>\n",
       "      <td>2</td>\n",
       "      <td>1</td>\n",
       "      <td>692</td>\n",
       "    </tr>\n",
       "    <tr>\n",
       "      <th>12638</th>\n",
       "      <td>9</td>\n",
       "      <td>0</td>\n",
       "      <td>2003</td>\n",
       "      <td>4</td>\n",
       "      <td>1</td>\n",
       "      <td>1</td>\n",
       "      <td>1</td>\n",
       "      <td>571</td>\n",
       "    </tr>\n",
       "    <tr>\n",
       "      <th>12639</th>\n",
       "      <td>9</td>\n",
       "      <td>0</td>\n",
       "      <td>2003</td>\n",
       "      <td>4</td>\n",
       "      <td>1</td>\n",
       "      <td>1</td>\n",
       "      <td>0</td>\n",
       "      <td>903</td>\n",
       "    </tr>\n",
       "    <tr>\n",
       "      <th>12640</th>\n",
       "      <td>9</td>\n",
       "      <td>0</td>\n",
       "      <td>2003</td>\n",
       "      <td>4</td>\n",
       "      <td>1</td>\n",
       "      <td>2</td>\n",
       "      <td>0</td>\n",
       "      <td>1090</td>\n",
       "    </tr>\n",
       "  </tbody>\n",
       "</table>\n",
       "<p>4386 rows × 8 columns</p>\n",
       "</div>"
      ],
      "text/plain": [
       "       subj_idx  gender  year  education  condition  valence  matchness    rt\n",
       "239           1       0  2000          5          1        0          0   761\n",
       "240           1       0  2000          5          1        2          0   745\n",
       "241           1       0  2000          5          1        1          1   639\n",
       "242           1       0  2000          5          1        2          1   566\n",
       "243           1       0  2000          5          1        2          1   510\n",
       "...         ...     ...   ...        ...        ...      ...        ...   ...\n",
       "12636         9       0  2003          4          1        0          1   527\n",
       "12637         9       0  2003          4          1        2          1   692\n",
       "12638         9       0  2003          4          1        1          1   571\n",
       "12639         9       0  2003          4          1        1          0   903\n",
       "12640         9       0  2003          4          1        2          0  1090\n",
       "\n",
       "[4386 rows x 8 columns]"
      ]
     },
     "execution_count": 13,
     "metadata": {},
     "output_type": "execute_result"
    }
   ],
   "source": [
    "df_sim"
   ]
  },
  {
   "cell_type": "code",
   "execution_count": 14,
   "metadata": {},
   "outputs": [],
   "source": [
    "df_img = df.query(\"condition == 2\")"
   ]
  },
  {
   "cell_type": "code",
   "execution_count": 15,
   "metadata": {},
   "outputs": [],
   "source": [
    "df_word = df.query(\"condition == 1\")"
   ]
  },
  {
   "cell_type": "code",
   "execution_count": 16,
   "metadata": {},
   "outputs": [],
   "source": [
    "sub_score = []\n",
    "sub_pval = []"
   ]
  },
  {
   "cell_type": "code",
   "execution_count": 17,
   "metadata": {},
   "outputs": [
    {
     "name": "stderr",
     "output_type": "stream",
     "text": [
      "[Parallel(n_jobs=-1)]: Using backend LokyBackend with 8 concurrent workers.\n",
      "[Parallel(n_jobs=-1)]: Done  34 tasks      | elapsed:   22.8s\n",
      "[Parallel(n_jobs=-1)]: Done 184 tasks      | elapsed:   59.3s\n"
     ]
    },
    {
     "ename": "KeyboardInterrupt",
     "evalue": "",
     "output_type": "error",
     "traceback": [
      "\u001b[0;31m---------------------------------------------------------------------------\u001b[0m",
      "\u001b[0;31mKeyboardInterrupt\u001b[0m                         Traceback (most recent call last)",
      "\u001b[0;32m/var/folders/06/d73mk4410yg1bfrx52fmy4jw0000gn/T/ipykernel_86416/1514192775.py\u001b[0m in \u001b[0;36m<module>\u001b[0;34m\u001b[0m\n\u001b[1;32m      9\u001b[0m     \u001b[0mscores\u001b[0m \u001b[0;34m=\u001b[0m \u001b[0mcross_validate\u001b[0m\u001b[0;34m(\u001b[0m\u001b[0mpipe_lr\u001b[0m\u001b[0;34m,\u001b[0m \u001b[0mX_log\u001b[0m\u001b[0;34m.\u001b[0m\u001b[0mreshape\u001b[0m\u001b[0;34m(\u001b[0m\u001b[0;34m-\u001b[0m\u001b[0;36m1\u001b[0m\u001b[0;34m,\u001b[0m \u001b[0;36m1\u001b[0m\u001b[0;34m)\u001b[0m\u001b[0;34m,\u001b[0m \u001b[0my\u001b[0m\u001b[0;34m,\u001b[0m \u001b[0mcv\u001b[0m\u001b[0;34m=\u001b[0m\u001b[0mcv\u001b[0m\u001b[0;34m,\u001b[0m \u001b[0mscoring\u001b[0m\u001b[0;34m=\u001b[0m\u001b[0mmy_scores\u001b[0m\u001b[0;34m)\u001b[0m\u001b[0;34m\u001b[0m\u001b[0;34m\u001b[0m\u001b[0m\n\u001b[1;32m     10\u001b[0m     \u001b[0msub_score\u001b[0m\u001b[0;34m.\u001b[0m\u001b[0mappend\u001b[0m\u001b[0;34m(\u001b[0m\u001b[0mscores\u001b[0m\u001b[0;34m)\u001b[0m\u001b[0;34m\u001b[0m\u001b[0;34m\u001b[0m\u001b[0m\n\u001b[0;32m---> 11\u001b[0;31m     \u001b[0m_\u001b[0m\u001b[0;34m,\u001b[0m\u001b[0m_\u001b[0m\u001b[0;34m,\u001b[0m\u001b[0mpval\u001b[0m \u001b[0;34m=\u001b[0m \u001b[0mpermutation_test_score\u001b[0m\u001b[0;34m(\u001b[0m\u001b[0mpipe_lr\u001b[0m\u001b[0;34m,\u001b[0m \u001b[0mX_log\u001b[0m\u001b[0;34m.\u001b[0m\u001b[0mreshape\u001b[0m\u001b[0;34m(\u001b[0m\u001b[0;34m-\u001b[0m\u001b[0;36m1\u001b[0m\u001b[0;34m,\u001b[0m \u001b[0;36m1\u001b[0m\u001b[0;34m)\u001b[0m\u001b[0;34m,\u001b[0m \u001b[0my\u001b[0m\u001b[0;34m,\u001b[0m \u001b[0mcv\u001b[0m\u001b[0;34m=\u001b[0m\u001b[0mcv\u001b[0m\u001b[0;34m,\u001b[0m \u001b[0mn_permutations\u001b[0m\u001b[0;34m=\u001b[0m\u001b[0;36m1000\u001b[0m\u001b[0;34m,\u001b[0m \u001b[0mn_jobs\u001b[0m\u001b[0;34m=\u001b[0m\u001b[0;34m-\u001b[0m\u001b[0;36m1\u001b[0m\u001b[0;34m,\u001b[0m \u001b[0mrandom_state\u001b[0m\u001b[0;34m=\u001b[0m\u001b[0;36m123\u001b[0m\u001b[0;34m,\u001b[0m \u001b[0mverbose\u001b[0m\u001b[0;34m=\u001b[0m\u001b[0;36m1\u001b[0m\u001b[0;34m,\u001b[0m \u001b[0mscoring\u001b[0m\u001b[0;34m=\u001b[0m\u001b[0mmy_scores\u001b[0m\u001b[0;34m,\u001b[0m \u001b[0mfit_params\u001b[0m\u001b[0;34m=\u001b[0m\u001b[0;32mNone\u001b[0m\u001b[0;34m)\u001b[0m\u001b[0;34m\u001b[0m\u001b[0;34m\u001b[0m\u001b[0m\n\u001b[0m\u001b[1;32m     12\u001b[0m     \u001b[0msub_pval\u001b[0m\u001b[0;34m.\u001b[0m\u001b[0mappend\u001b[0m\u001b[0;34m(\u001b[0m\u001b[0mpval\u001b[0m\u001b[0;34m)\u001b[0m\u001b[0;34m\u001b[0m\u001b[0;34m\u001b[0m\u001b[0m\n\u001b[1;32m     13\u001b[0m \u001b[0;34m\u001b[0m\u001b[0m\n",
      "\u001b[0;32m~/opt/anaconda3/lib/python3.8/site-packages/sklearn/model_selection/_validation.py\u001b[0m in \u001b[0;36mpermutation_test_score\u001b[0;34m(estimator, X, y, groups, cv, n_permutations, n_jobs, random_state, verbose, scoring, fit_params)\u001b[0m\n\u001b[1;32m   1300\u001b[0m         \u001b[0mclone\u001b[0m\u001b[0;34m(\u001b[0m\u001b[0mestimator\u001b[0m\u001b[0;34m)\u001b[0m\u001b[0;34m,\u001b[0m \u001b[0mX\u001b[0m\u001b[0;34m,\u001b[0m \u001b[0my\u001b[0m\u001b[0;34m,\u001b[0m \u001b[0mgroups\u001b[0m\u001b[0;34m,\u001b[0m \u001b[0mcv\u001b[0m\u001b[0;34m,\u001b[0m \u001b[0mscorer\u001b[0m\u001b[0;34m,\u001b[0m \u001b[0mfit_params\u001b[0m\u001b[0;34m=\u001b[0m\u001b[0mfit_params\u001b[0m\u001b[0;34m\u001b[0m\u001b[0;34m\u001b[0m\u001b[0m\n\u001b[1;32m   1301\u001b[0m     )\n\u001b[0;32m-> 1302\u001b[0;31m     permutation_scores = Parallel(n_jobs=n_jobs, verbose=verbose)(\n\u001b[0m\u001b[1;32m   1303\u001b[0m         delayed(_permutation_test_score)(\n\u001b[1;32m   1304\u001b[0m             \u001b[0mclone\u001b[0m\u001b[0;34m(\u001b[0m\u001b[0mestimator\u001b[0m\u001b[0;34m)\u001b[0m\u001b[0;34m,\u001b[0m\u001b[0;34m\u001b[0m\u001b[0;34m\u001b[0m\u001b[0m\n",
      "\u001b[0;32m~/opt/anaconda3/lib/python3.8/site-packages/joblib/parallel.py\u001b[0m in \u001b[0;36m__call__\u001b[0;34m(self, iterable)\u001b[0m\n\u001b[1;32m   1059\u001b[0m \u001b[0;34m\u001b[0m\u001b[0m\n\u001b[1;32m   1060\u001b[0m             \u001b[0;32mwith\u001b[0m \u001b[0mself\u001b[0m\u001b[0;34m.\u001b[0m\u001b[0m_backend\u001b[0m\u001b[0;34m.\u001b[0m\u001b[0mretrieval_context\u001b[0m\u001b[0;34m(\u001b[0m\u001b[0;34m)\u001b[0m\u001b[0;34m:\u001b[0m\u001b[0;34m\u001b[0m\u001b[0;34m\u001b[0m\u001b[0m\n\u001b[0;32m-> 1061\u001b[0;31m                 \u001b[0mself\u001b[0m\u001b[0;34m.\u001b[0m\u001b[0mretrieve\u001b[0m\u001b[0;34m(\u001b[0m\u001b[0;34m)\u001b[0m\u001b[0;34m\u001b[0m\u001b[0;34m\u001b[0m\u001b[0m\n\u001b[0m\u001b[1;32m   1062\u001b[0m             \u001b[0;31m# Make sure that we get a last message telling us we are done\u001b[0m\u001b[0;34m\u001b[0m\u001b[0;34m\u001b[0m\u001b[0;34m\u001b[0m\u001b[0m\n\u001b[1;32m   1063\u001b[0m             \u001b[0melapsed_time\u001b[0m \u001b[0;34m=\u001b[0m \u001b[0mtime\u001b[0m\u001b[0;34m.\u001b[0m\u001b[0mtime\u001b[0m\u001b[0;34m(\u001b[0m\u001b[0;34m)\u001b[0m \u001b[0;34m-\u001b[0m \u001b[0mself\u001b[0m\u001b[0;34m.\u001b[0m\u001b[0m_start_time\u001b[0m\u001b[0;34m\u001b[0m\u001b[0;34m\u001b[0m\u001b[0m\n",
      "\u001b[0;32m~/opt/anaconda3/lib/python3.8/site-packages/joblib/parallel.py\u001b[0m in \u001b[0;36mretrieve\u001b[0;34m(self)\u001b[0m\n\u001b[1;32m    936\u001b[0m             \u001b[0;32mtry\u001b[0m\u001b[0;34m:\u001b[0m\u001b[0;34m\u001b[0m\u001b[0;34m\u001b[0m\u001b[0m\n\u001b[1;32m    937\u001b[0m                 \u001b[0;32mif\u001b[0m \u001b[0mgetattr\u001b[0m\u001b[0;34m(\u001b[0m\u001b[0mself\u001b[0m\u001b[0;34m.\u001b[0m\u001b[0m_backend\u001b[0m\u001b[0;34m,\u001b[0m \u001b[0;34m'supports_timeout'\u001b[0m\u001b[0;34m,\u001b[0m \u001b[0;32mFalse\u001b[0m\u001b[0;34m)\u001b[0m\u001b[0;34m:\u001b[0m\u001b[0;34m\u001b[0m\u001b[0;34m\u001b[0m\u001b[0m\n\u001b[0;32m--> 938\u001b[0;31m                     \u001b[0mself\u001b[0m\u001b[0;34m.\u001b[0m\u001b[0m_output\u001b[0m\u001b[0;34m.\u001b[0m\u001b[0mextend\u001b[0m\u001b[0;34m(\u001b[0m\u001b[0mjob\u001b[0m\u001b[0;34m.\u001b[0m\u001b[0mget\u001b[0m\u001b[0;34m(\u001b[0m\u001b[0mtimeout\u001b[0m\u001b[0;34m=\u001b[0m\u001b[0mself\u001b[0m\u001b[0;34m.\u001b[0m\u001b[0mtimeout\u001b[0m\u001b[0;34m)\u001b[0m\u001b[0;34m)\u001b[0m\u001b[0;34m\u001b[0m\u001b[0;34m\u001b[0m\u001b[0m\n\u001b[0m\u001b[1;32m    939\u001b[0m                 \u001b[0;32melse\u001b[0m\u001b[0;34m:\u001b[0m\u001b[0;34m\u001b[0m\u001b[0;34m\u001b[0m\u001b[0m\n\u001b[1;32m    940\u001b[0m                     \u001b[0mself\u001b[0m\u001b[0;34m.\u001b[0m\u001b[0m_output\u001b[0m\u001b[0;34m.\u001b[0m\u001b[0mextend\u001b[0m\u001b[0;34m(\u001b[0m\u001b[0mjob\u001b[0m\u001b[0;34m.\u001b[0m\u001b[0mget\u001b[0m\u001b[0;34m(\u001b[0m\u001b[0;34m)\u001b[0m\u001b[0;34m)\u001b[0m\u001b[0;34m\u001b[0m\u001b[0;34m\u001b[0m\u001b[0m\n",
      "\u001b[0;32m~/opt/anaconda3/lib/python3.8/site-packages/joblib/_parallel_backends.py\u001b[0m in \u001b[0;36mwrap_future_result\u001b[0;34m(future, timeout)\u001b[0m\n\u001b[1;32m    540\u001b[0m         AsyncResults.get from multiprocessing.\"\"\"\n\u001b[1;32m    541\u001b[0m         \u001b[0;32mtry\u001b[0m\u001b[0;34m:\u001b[0m\u001b[0;34m\u001b[0m\u001b[0;34m\u001b[0m\u001b[0m\n\u001b[0;32m--> 542\u001b[0;31m             \u001b[0;32mreturn\u001b[0m \u001b[0mfuture\u001b[0m\u001b[0;34m.\u001b[0m\u001b[0mresult\u001b[0m\u001b[0;34m(\u001b[0m\u001b[0mtimeout\u001b[0m\u001b[0;34m=\u001b[0m\u001b[0mtimeout\u001b[0m\u001b[0;34m)\u001b[0m\u001b[0;34m\u001b[0m\u001b[0;34m\u001b[0m\u001b[0m\n\u001b[0m\u001b[1;32m    543\u001b[0m         \u001b[0;32mexcept\u001b[0m \u001b[0mCfTimeoutError\u001b[0m \u001b[0;32mas\u001b[0m \u001b[0me\u001b[0m\u001b[0;34m:\u001b[0m\u001b[0;34m\u001b[0m\u001b[0;34m\u001b[0m\u001b[0m\n\u001b[1;32m    544\u001b[0m             \u001b[0;32mraise\u001b[0m \u001b[0mTimeoutError\u001b[0m \u001b[0;32mfrom\u001b[0m \u001b[0me\u001b[0m\u001b[0;34m\u001b[0m\u001b[0;34m\u001b[0m\u001b[0m\n",
      "\u001b[0;32m~/opt/anaconda3/lib/python3.8/concurrent/futures/_base.py\u001b[0m in \u001b[0;36mresult\u001b[0;34m(self, timeout)\u001b[0m\n\u001b[1;32m    437\u001b[0m                     \u001b[0;32mreturn\u001b[0m \u001b[0mself\u001b[0m\u001b[0;34m.\u001b[0m\u001b[0m__get_result\u001b[0m\u001b[0;34m(\u001b[0m\u001b[0;34m)\u001b[0m\u001b[0;34m\u001b[0m\u001b[0;34m\u001b[0m\u001b[0m\n\u001b[1;32m    438\u001b[0m \u001b[0;34m\u001b[0m\u001b[0m\n\u001b[0;32m--> 439\u001b[0;31m                 \u001b[0mself\u001b[0m\u001b[0;34m.\u001b[0m\u001b[0m_condition\u001b[0m\u001b[0;34m.\u001b[0m\u001b[0mwait\u001b[0m\u001b[0;34m(\u001b[0m\u001b[0mtimeout\u001b[0m\u001b[0;34m)\u001b[0m\u001b[0;34m\u001b[0m\u001b[0;34m\u001b[0m\u001b[0m\n\u001b[0m\u001b[1;32m    440\u001b[0m \u001b[0;34m\u001b[0m\u001b[0m\n\u001b[1;32m    441\u001b[0m                 \u001b[0;32mif\u001b[0m \u001b[0mself\u001b[0m\u001b[0;34m.\u001b[0m\u001b[0m_state\u001b[0m \u001b[0;32min\u001b[0m \u001b[0;34m[\u001b[0m\u001b[0mCANCELLED\u001b[0m\u001b[0;34m,\u001b[0m \u001b[0mCANCELLED_AND_NOTIFIED\u001b[0m\u001b[0;34m]\u001b[0m\u001b[0;34m:\u001b[0m\u001b[0;34m\u001b[0m\u001b[0;34m\u001b[0m\u001b[0m\n",
      "\u001b[0;32m~/opt/anaconda3/lib/python3.8/threading.py\u001b[0m in \u001b[0;36mwait\u001b[0;34m(self, timeout)\u001b[0m\n\u001b[1;32m    300\u001b[0m         \u001b[0;32mtry\u001b[0m\u001b[0;34m:\u001b[0m    \u001b[0;31m# restore state no matter what (e.g., KeyboardInterrupt)\u001b[0m\u001b[0;34m\u001b[0m\u001b[0;34m\u001b[0m\u001b[0m\n\u001b[1;32m    301\u001b[0m             \u001b[0;32mif\u001b[0m \u001b[0mtimeout\u001b[0m \u001b[0;32mis\u001b[0m \u001b[0;32mNone\u001b[0m\u001b[0;34m:\u001b[0m\u001b[0;34m\u001b[0m\u001b[0;34m\u001b[0m\u001b[0m\n\u001b[0;32m--> 302\u001b[0;31m                 \u001b[0mwaiter\u001b[0m\u001b[0;34m.\u001b[0m\u001b[0macquire\u001b[0m\u001b[0;34m(\u001b[0m\u001b[0;34m)\u001b[0m\u001b[0;34m\u001b[0m\u001b[0;34m\u001b[0m\u001b[0m\n\u001b[0m\u001b[1;32m    303\u001b[0m                 \u001b[0mgotit\u001b[0m \u001b[0;34m=\u001b[0m \u001b[0;32mTrue\u001b[0m\u001b[0;34m\u001b[0m\u001b[0;34m\u001b[0m\u001b[0m\n\u001b[1;32m    304\u001b[0m             \u001b[0;32melse\u001b[0m\u001b[0;34m:\u001b[0m\u001b[0;34m\u001b[0m\u001b[0;34m\u001b[0m\u001b[0m\n",
      "\u001b[0;31mKeyboardInterrupt\u001b[0m: "
     ]
    }
   ],
   "source": [
    "for sub, df_sub in df_img.groupby(\"subj_idx\"):\n",
    "    X = df_sub['rt'].values\n",
    "    X_log = np.log(X)\n",
    "    y = df_sub['valence'].values\n",
    "    pipe_lr = make_pipeline(\n",
    "    MinMaxScaler(), \n",
    "    LogisticRegression(solver='saga', multi_class=\"multinomial\", max_iter=1000, random_state=123))\n",
    "    cv = StratifiedShuffleSplit(n_splits=100, test_size=0.2, random_state=123)\n",
    "    scores = cross_validate(pipe_lr, X_log.reshape(-1, 1), y, cv=cv, scoring=my_scores)\n",
    "    sub_score.append(scores)\n",
    "    _,_,pval = permutation_test_score(pipe_lr, X_log.reshape(-1, 1), y, cv=cv, n_permutations=1000, n_jobs=-1, random_state=123, verbose=1, scoring=my_scores, fit_params=None)\n",
    "    sub_pval.append(pval)\n",
    "\n",
    "    "
   ]
  },
  {
   "cell_type": "code",
   "execution_count": null,
   "metadata": {},
   "outputs": [],
   "source": [
    "mean_score = []"
   ]
  },
  {
   "cell_type": "code",
   "execution_count": null,
   "metadata": {},
   "outputs": [],
   "source": [
    "for test in sub_score:\n",
    "    mean = np.mean(test['test_score'])\n",
    "    mean_score.append(mean)"
   ]
  },
  {
   "cell_type": "code",
   "execution_count": null,
   "metadata": {},
   "outputs": [
    {
     "data": {
      "text/plain": [
       "[0.6007812499999999,\n",
       " 0.5231186224489796,\n",
       " 0.5893253968253969,\n",
       " 0.5806575963718822,\n",
       " 0.45452876984126983,\n",
       " 0.5652213541666666,\n",
       " 0.6090017361111111,\n",
       " 0.4885260770975056,\n",
       " 0.5917361111111111,\n",
       " 0.5278148148148148,\n",
       " 0.6231119791666667,\n",
       " 0.5295181405895691,\n",
       " 0.6033793556870479,\n",
       " 0.45072978303747535,\n",
       " 0.5023922902494331,\n",
       " 0.4800138888888889,\n",
       " 0.5594784580498866,\n",
       " 0.5533105413105412,\n",
       " 0.5747392290249433,\n",
       " 0.5089192708333334]"
      ]
     },
     "execution_count": 26,
     "metadata": {},
     "output_type": "execute_result"
    }
   ],
   "source": [
    "mean_score"
   ]
  },
  {
   "cell_type": "code",
   "execution_count": null,
   "metadata": {},
   "outputs": [],
   "source": [
    "p_correct = np.array(sub_pval)*20"
   ]
  },
  {
   "cell_type": "code",
   "execution_count": null,
   "metadata": {},
   "outputs": [
    {
     "data": {
      "text/plain": [
       "[0.001996007984031936,\n",
       " 0.2694610778443114,\n",
       " 0.001996007984031936,\n",
       " 0.017964071856287425,\n",
       " 0.8562874251497006,\n",
       " 0.041916167664670656,\n",
       " 0.001996007984031936,\n",
       " 0.6307385229540918,\n",
       " 0.003992015968063872,\n",
       " 0.21756487025948104,\n",
       " 0.001996007984031936,\n",
       " 0.17365269461077845,\n",
       " 0.013972055888223553,\n",
       " 0.9181636726546906,\n",
       " 0.5109780439121756,\n",
       " 0.6626746506986028,\n",
       " 0.06187624750499002,\n",
       " 0.08582834331337326,\n",
       " 0.027944111776447105,\n",
       " 0.4151696606786427]"
      ]
     },
     "execution_count": 39,
     "metadata": {},
     "output_type": "execute_result"
    }
   ],
   "source": [
    "sub_pval"
   ]
  },
  {
   "cell_type": "code",
   "execution_count": null,
   "metadata": {},
   "outputs": [
    {
     "data": {
      "text/plain": [
       "4"
      ]
     },
     "execution_count": 45,
     "metadata": {},
     "output_type": "execute_result"
    }
   ],
   "source": [
    "np.sum(np.array(sub_pval)<(0.05/20))"
   ]
  },
  {
   "cell_type": "code",
   "execution_count": null,
   "metadata": {},
   "outputs": [],
   "source": [
    "score_id = []"
   ]
  },
  {
   "cell_type": "code",
   "execution_count": null,
   "metadata": {},
   "outputs": [],
   "source": [
    "for id in sub_score:\n",
    "    score_id.append(id['test_score'])"
   ]
  },
  {
   "cell_type": "code",
   "execution_count": null,
   "metadata": {},
   "outputs": [
    {
     "data": {
      "text/html": [
       "<div>\n",
       "<style scoped>\n",
       "    .dataframe tbody tr th:only-of-type {\n",
       "        vertical-align: middle;\n",
       "    }\n",
       "\n",
       "    .dataframe tbody tr th {\n",
       "        vertical-align: top;\n",
       "    }\n",
       "\n",
       "    .dataframe thead th {\n",
       "        text-align: right;\n",
       "    }\n",
       "</style>\n",
       "<table border=\"1\" class=\"dataframe\">\n",
       "  <thead>\n",
       "    <tr style=\"text-align: right;\">\n",
       "      <th></th>\n",
       "      <th>0</th>\n",
       "      <th>1</th>\n",
       "      <th>2</th>\n",
       "      <th>3</th>\n",
       "      <th>4</th>\n",
       "      <th>5</th>\n",
       "      <th>6</th>\n",
       "      <th>7</th>\n",
       "      <th>8</th>\n",
       "      <th>9</th>\n",
       "      <th>10</th>\n",
       "      <th>11</th>\n",
       "      <th>12</th>\n",
       "      <th>13</th>\n",
       "      <th>14</th>\n",
       "      <th>15</th>\n",
       "      <th>16</th>\n",
       "      <th>17</th>\n",
       "      <th>18</th>\n",
       "      <th>19</th>\n",
       "    </tr>\n",
       "  </thead>\n",
       "  <tbody>\n",
       "    <tr>\n",
       "      <th>0</th>\n",
       "      <td>0.551432</td>\n",
       "      <td>0.522534</td>\n",
       "      <td>0.542907</td>\n",
       "      <td>0.530726</td>\n",
       "      <td>0.468056</td>\n",
       "      <td>0.482899</td>\n",
       "      <td>0.609722</td>\n",
       "      <td>0.425397</td>\n",
       "      <td>0.576215</td>\n",
       "      <td>0.577083</td>\n",
       "      <td>0.647786</td>\n",
       "      <td>0.579535</td>\n",
       "      <td>0.638462</td>\n",
       "      <td>0.361867</td>\n",
       "      <td>0.424830</td>\n",
       "      <td>0.468750</td>\n",
       "      <td>0.579138</td>\n",
       "      <td>0.525584</td>\n",
       "      <td>0.653401</td>\n",
       "      <td>0.354167</td>\n",
       "    </tr>\n",
       "    <tr>\n",
       "      <th>1</th>\n",
       "      <td>0.584635</td>\n",
       "      <td>0.558036</td>\n",
       "      <td>0.688294</td>\n",
       "      <td>0.523526</td>\n",
       "      <td>0.417212</td>\n",
       "      <td>0.509028</td>\n",
       "      <td>0.648698</td>\n",
       "      <td>0.540873</td>\n",
       "      <td>0.620747</td>\n",
       "      <td>0.616667</td>\n",
       "      <td>0.569661</td>\n",
       "      <td>0.496032</td>\n",
       "      <td>0.596581</td>\n",
       "      <td>0.458974</td>\n",
       "      <td>0.430159</td>\n",
       "      <td>0.433426</td>\n",
       "      <td>0.644161</td>\n",
       "      <td>0.581481</td>\n",
       "      <td>0.592857</td>\n",
       "      <td>0.509394</td>\n",
       "    </tr>\n",
       "    <tr>\n",
       "      <th>2</th>\n",
       "      <td>0.576172</td>\n",
       "      <td>0.513287</td>\n",
       "      <td>0.506101</td>\n",
       "      <td>0.616440</td>\n",
       "      <td>0.466865</td>\n",
       "      <td>0.589583</td>\n",
       "      <td>0.597222</td>\n",
       "      <td>0.480952</td>\n",
       "      <td>0.567231</td>\n",
       "      <td>0.604167</td>\n",
       "      <td>0.606771</td>\n",
       "      <td>0.553345</td>\n",
       "      <td>0.654241</td>\n",
       "      <td>0.515911</td>\n",
       "      <td>0.538889</td>\n",
       "      <td>0.530602</td>\n",
       "      <td>0.575397</td>\n",
       "      <td>0.534872</td>\n",
       "      <td>0.498073</td>\n",
       "      <td>0.548270</td>\n",
       "    </tr>\n",
       "    <tr>\n",
       "      <th>3</th>\n",
       "      <td>0.591797</td>\n",
       "      <td>0.502232</td>\n",
       "      <td>0.519593</td>\n",
       "      <td>0.530385</td>\n",
       "      <td>0.512103</td>\n",
       "      <td>0.562370</td>\n",
       "      <td>0.558333</td>\n",
       "      <td>0.437868</td>\n",
       "      <td>0.558420</td>\n",
       "      <td>0.520093</td>\n",
       "      <td>0.685547</td>\n",
       "      <td>0.557653</td>\n",
       "      <td>0.517094</td>\n",
       "      <td>0.461538</td>\n",
       "      <td>0.521429</td>\n",
       "      <td>0.458750</td>\n",
       "      <td>0.543707</td>\n",
       "      <td>0.638006</td>\n",
       "      <td>0.596655</td>\n",
       "      <td>0.567708</td>\n",
       "    </tr>\n",
       "    <tr>\n",
       "      <th>4</th>\n",
       "      <td>0.606120</td>\n",
       "      <td>0.550170</td>\n",
       "      <td>0.606845</td>\n",
       "      <td>0.594785</td>\n",
       "      <td>0.462897</td>\n",
       "      <td>0.586111</td>\n",
       "      <td>0.606380</td>\n",
       "      <td>0.449660</td>\n",
       "      <td>0.540191</td>\n",
       "      <td>0.547222</td>\n",
       "      <td>0.593099</td>\n",
       "      <td>0.566440</td>\n",
       "      <td>0.572650</td>\n",
       "      <td>0.405983</td>\n",
       "      <td>0.514286</td>\n",
       "      <td>0.554861</td>\n",
       "      <td>0.571088</td>\n",
       "      <td>0.587293</td>\n",
       "      <td>0.548469</td>\n",
       "      <td>0.589565</td>\n",
       "    </tr>\n",
       "    <tr>\n",
       "      <th>5</th>\n",
       "      <td>0.565104</td>\n",
       "      <td>0.493729</td>\n",
       "      <td>0.658036</td>\n",
       "      <td>0.585884</td>\n",
       "      <td>0.408383</td>\n",
       "      <td>0.635417</td>\n",
       "      <td>0.612500</td>\n",
       "      <td>0.572902</td>\n",
       "      <td>0.585330</td>\n",
       "      <td>0.579861</td>\n",
       "      <td>0.620443</td>\n",
       "      <td>0.521939</td>\n",
       "      <td>0.655753</td>\n",
       "      <td>0.548192</td>\n",
       "      <td>0.591156</td>\n",
       "      <td>0.492546</td>\n",
       "      <td>0.480952</td>\n",
       "      <td>0.566211</td>\n",
       "      <td>0.619558</td>\n",
       "      <td>0.463542</td>\n",
       "    </tr>\n",
       "    <tr>\n",
       "      <th>6</th>\n",
       "      <td>0.603516</td>\n",
       "      <td>0.449405</td>\n",
       "      <td>0.578869</td>\n",
       "      <td>0.584184</td>\n",
       "      <td>0.445635</td>\n",
       "      <td>0.610590</td>\n",
       "      <td>0.646528</td>\n",
       "      <td>0.477438</td>\n",
       "      <td>0.663281</td>\n",
       "      <td>0.405278</td>\n",
       "      <td>0.706380</td>\n",
       "      <td>0.533787</td>\n",
       "      <td>0.587179</td>\n",
       "      <td>0.360552</td>\n",
       "      <td>0.453968</td>\n",
       "      <td>0.477546</td>\n",
       "      <td>0.510714</td>\n",
       "      <td>0.525698</td>\n",
       "      <td>0.534580</td>\n",
       "      <td>0.443452</td>\n",
       "    </tr>\n",
       "    <tr>\n",
       "      <th>7</th>\n",
       "      <td>0.658203</td>\n",
       "      <td>0.552083</td>\n",
       "      <td>0.639335</td>\n",
       "      <td>0.653968</td>\n",
       "      <td>0.399206</td>\n",
       "      <td>0.545573</td>\n",
       "      <td>0.601389</td>\n",
       "      <td>0.549206</td>\n",
       "      <td>0.618663</td>\n",
       "      <td>0.466667</td>\n",
       "      <td>0.609375</td>\n",
       "      <td>0.404082</td>\n",
       "      <td>0.604274</td>\n",
       "      <td>0.462853</td>\n",
       "      <td>0.577778</td>\n",
       "      <td>0.392778</td>\n",
       "      <td>0.629819</td>\n",
       "      <td>0.538860</td>\n",
       "      <td>0.620295</td>\n",
       "      <td>0.585193</td>\n",
       "    </tr>\n",
       "    <tr>\n",
       "      <th>8</th>\n",
       "      <td>0.652344</td>\n",
       "      <td>0.576956</td>\n",
       "      <td>0.550893</td>\n",
       "      <td>0.661905</td>\n",
       "      <td>0.514484</td>\n",
       "      <td>0.560503</td>\n",
       "      <td>0.640278</td>\n",
       "      <td>0.482596</td>\n",
       "      <td>0.561285</td>\n",
       "      <td>0.481944</td>\n",
       "      <td>0.544922</td>\n",
       "      <td>0.540476</td>\n",
       "      <td>0.593162</td>\n",
       "      <td>0.441683</td>\n",
       "      <td>0.438889</td>\n",
       "      <td>0.479861</td>\n",
       "      <td>0.540476</td>\n",
       "      <td>0.514530</td>\n",
       "      <td>0.613605</td>\n",
       "      <td>0.541109</td>\n",
       "    </tr>\n",
       "    <tr>\n",
       "      <th>9</th>\n",
       "      <td>0.618490</td>\n",
       "      <td>0.512755</td>\n",
       "      <td>0.602381</td>\n",
       "      <td>0.524773</td>\n",
       "      <td>0.450446</td>\n",
       "      <td>0.570139</td>\n",
       "      <td>0.568967</td>\n",
       "      <td>0.468367</td>\n",
       "      <td>0.625998</td>\n",
       "      <td>0.479167</td>\n",
       "      <td>0.647135</td>\n",
       "      <td>0.541893</td>\n",
       "      <td>0.614398</td>\n",
       "      <td>0.489744</td>\n",
       "      <td>0.532540</td>\n",
       "      <td>0.511019</td>\n",
       "      <td>0.519331</td>\n",
       "      <td>0.520570</td>\n",
       "      <td>0.469898</td>\n",
       "      <td>0.486793</td>\n",
       "    </tr>\n",
       "  </tbody>\n",
       "</table>\n",
       "</div>"
      ],
      "text/plain": [
       "         0         1         2         3         4         5         6   \\\n",
       "0  0.551432  0.522534  0.542907  0.530726  0.468056  0.482899  0.609722   \n",
       "1  0.584635  0.558036  0.688294  0.523526  0.417212  0.509028  0.648698   \n",
       "2  0.576172  0.513287  0.506101  0.616440  0.466865  0.589583  0.597222   \n",
       "3  0.591797  0.502232  0.519593  0.530385  0.512103  0.562370  0.558333   \n",
       "4  0.606120  0.550170  0.606845  0.594785  0.462897  0.586111  0.606380   \n",
       "5  0.565104  0.493729  0.658036  0.585884  0.408383  0.635417  0.612500   \n",
       "6  0.603516  0.449405  0.578869  0.584184  0.445635  0.610590  0.646528   \n",
       "7  0.658203  0.552083  0.639335  0.653968  0.399206  0.545573  0.601389   \n",
       "8  0.652344  0.576956  0.550893  0.661905  0.514484  0.560503  0.640278   \n",
       "9  0.618490  0.512755  0.602381  0.524773  0.450446  0.570139  0.568967   \n",
       "\n",
       "         7         8         9         10        11        12        13  \\\n",
       "0  0.425397  0.576215  0.577083  0.647786  0.579535  0.638462  0.361867   \n",
       "1  0.540873  0.620747  0.616667  0.569661  0.496032  0.596581  0.458974   \n",
       "2  0.480952  0.567231  0.604167  0.606771  0.553345  0.654241  0.515911   \n",
       "3  0.437868  0.558420  0.520093  0.685547  0.557653  0.517094  0.461538   \n",
       "4  0.449660  0.540191  0.547222  0.593099  0.566440  0.572650  0.405983   \n",
       "5  0.572902  0.585330  0.579861  0.620443  0.521939  0.655753  0.548192   \n",
       "6  0.477438  0.663281  0.405278  0.706380  0.533787  0.587179  0.360552   \n",
       "7  0.549206  0.618663  0.466667  0.609375  0.404082  0.604274  0.462853   \n",
       "8  0.482596  0.561285  0.481944  0.544922  0.540476  0.593162  0.441683   \n",
       "9  0.468367  0.625998  0.479167  0.647135  0.541893  0.614398  0.489744   \n",
       "\n",
       "         14        15        16        17        18        19  \n",
       "0  0.424830  0.468750  0.579138  0.525584  0.653401  0.354167  \n",
       "1  0.430159  0.433426  0.644161  0.581481  0.592857  0.509394  \n",
       "2  0.538889  0.530602  0.575397  0.534872  0.498073  0.548270  \n",
       "3  0.521429  0.458750  0.543707  0.638006  0.596655  0.567708  \n",
       "4  0.514286  0.554861  0.571088  0.587293  0.548469  0.589565  \n",
       "5  0.591156  0.492546  0.480952  0.566211  0.619558  0.463542  \n",
       "6  0.453968  0.477546  0.510714  0.525698  0.534580  0.443452  \n",
       "7  0.577778  0.392778  0.629819  0.538860  0.620295  0.585193  \n",
       "8  0.438889  0.479861  0.540476  0.514530  0.613605  0.541109  \n",
       "9  0.532540  0.511019  0.519331  0.520570  0.469898  0.486793  "
      ]
     },
     "execution_count": 53,
     "metadata": {},
     "output_type": "execute_result"
    }
   ],
   "source": [
    "pd.DataFrame(score_id).T"
   ]
  },
  {
   "cell_type": "code",
   "execution_count": null,
   "metadata": {},
   "outputs": [],
   "source": []
  }
 ],
 "metadata": {
  "kernelspec": {
   "display_name": "base",
   "language": "python",
   "name": "python3"
  },
  "language_info": {
   "codemirror_mode": {
    "name": "ipython",
    "version": 3
   },
   "file_extension": ".py",
   "mimetype": "text/x-python",
   "name": "python",
   "nbconvert_exporter": "python",
   "pygments_lexer": "ipython3",
   "version": "3.8.13"
  },
  "orig_nbformat": 4,
  "vscode": {
   "interpreter": {
    "hash": "cf397a380d48228a06b798decf63f189c3319dfdb1b8ed74604b310c4db00d54"
   }
  }
 },
 "nbformat": 4,
 "nbformat_minor": 2
}
