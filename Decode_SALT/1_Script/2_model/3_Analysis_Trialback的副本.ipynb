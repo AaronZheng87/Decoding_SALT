{
 "cells": [
  {
   "cell_type": "code",
   "execution_count": 1,
   "metadata": {},
   "outputs": [],
   "source": [
    "import numpy as np\n",
    "import pandas as pd\n",
    "\n",
    "import matplotlib.pyplot as plt\n",
    "import seaborn as sns\n",
    "import os\n",
    "%matplotlib inline"
   ]
  },
  {
   "cell_type": "code",
   "execution_count": 2,
   "metadata": {},
   "outputs": [
    {
     "data": {
      "text/plain": [
       "'/Users/zhengyuanrui/Decoding_SALT/Decode_SALT/1_Script/2_model'"
      ]
     },
     "execution_count": 2,
     "metadata": {},
     "output_type": "execute_result"
    }
   ],
   "source": [
    "os.getcwd()"
   ]
  },
  {
   "cell_type": "code",
   "execution_count": 3,
   "metadata": {},
   "outputs": [],
   "source": [
    "os.chdir(\"../../3_Result\")"
   ]
  },
  {
   "cell_type": "code",
   "execution_count": 6,
   "metadata": {},
   "outputs": [],
   "source": [
    "df_noref = pd.read_csv(\"/Users/zhengyuanrui/Decoding_SALT/Decode_SALT/2_Data/df_no_ref.csv\")\n",
    "df_selfref = pd.read_csv(\"/Users/zhengyuanrui/Decoding_SALT/Decode_SALT/2_Data/df_self_ref.csv\")"
   ]
  },
  {
   "cell_type": "code",
   "execution_count": 5,
   "metadata": {},
   "outputs": [],
   "source": [
    "coef_within_no_current = np.load(\"1_Logistic/1_Current/coef_no_current.npy\")"
   ]
  },
  {
   "cell_type": "code",
   "execution_count": 12,
   "metadata": {},
   "outputs": [],
   "source": [
    "coef_cross12_no_tb =np.load(\"1_Logistic/2_Trials-Back/coef_cross1.npy\")\n"
   ]
  },
  {
   "cell_type": "code",
   "execution_count": 13,
   "metadata": {},
   "outputs": [
    {
     "data": {
      "text/plain": [
       "(195, 3, 24)"
      ]
     },
     "execution_count": 13,
     "metadata": {},
     "output_type": "execute_result"
    }
   ],
   "source": [
    "coef_cross12_no_tb.shape"
   ]
  },
  {
   "cell_type": "code",
   "execution_count": 7,
   "metadata": {},
   "outputs": [
    {
     "data": {
      "text/plain": [
       "(164, 3, 3)"
      ]
     },
     "execution_count": 7,
     "metadata": {},
     "output_type": "execute_result"
    }
   ],
   "source": [
    "coef_within_no_current.shape"
   ]
  },
  {
   "cell_type": "code",
   "execution_count": 25,
   "metadata": {},
   "outputs": [],
   "source": [
    "sub, model, feature = coef_within_no_current.shape"
   ]
  },
  {
   "cell_type": "code",
   "execution_count": 38,
   "metadata": {},
   "outputs": [
    {
     "data": {
      "text/html": [
       "<div>\n",
       "<style scoped>\n",
       "    .dataframe tbody tr th:only-of-type {\n",
       "        vertical-align: middle;\n",
       "    }\n",
       "\n",
       "    .dataframe tbody tr th {\n",
       "        vertical-align: top;\n",
       "    }\n",
       "\n",
       "    .dataframe thead th {\n",
       "        text-align: right;\n",
       "    }\n",
       "</style>\n",
       "<table border=\"1\" class=\"dataframe\">\n",
       "  <thead>\n",
       "    <tr style=\"text-align: right;\">\n",
       "      <th></th>\n",
       "      <th>subID</th>\n",
       "      <th>model</th>\n",
       "      <th>feature1</th>\n",
       "      <th>feature2</th>\n",
       "      <th>feature3</th>\n",
       "    </tr>\n",
       "  </thead>\n",
       "  <tbody>\n",
       "    <tr>\n",
       "      <th>0</th>\n",
       "      <td>0</td>\n",
       "      <td>0</td>\n",
       "      <td>0.000698</td>\n",
       "      <td>-0.000392</td>\n",
       "      <td>-8.616008e-07</td>\n",
       "    </tr>\n",
       "    <tr>\n",
       "      <th>1</th>\n",
       "      <td>0</td>\n",
       "      <td>1</td>\n",
       "      <td>-0.000391</td>\n",
       "      <td>0.000155</td>\n",
       "      <td>-2.449219e-05</td>\n",
       "    </tr>\n",
       "    <tr>\n",
       "      <th>2</th>\n",
       "      <td>0</td>\n",
       "      <td>2</td>\n",
       "      <td>-0.000307</td>\n",
       "      <td>0.000237</td>\n",
       "      <td>2.550199e-05</td>\n",
       "    </tr>\n",
       "    <tr>\n",
       "      <th>3</th>\n",
       "      <td>1</td>\n",
       "      <td>0</td>\n",
       "      <td>0.000699</td>\n",
       "      <td>-0.000393</td>\n",
       "      <td>2.282463e-06</td>\n",
       "    </tr>\n",
       "    <tr>\n",
       "      <th>4</th>\n",
       "      <td>1</td>\n",
       "      <td>1</td>\n",
       "      <td>-0.000394</td>\n",
       "      <td>0.000153</td>\n",
       "      <td>-2.381244e-05</td>\n",
       "    </tr>\n",
       "    <tr>\n",
       "      <th>...</th>\n",
       "      <td>...</td>\n",
       "      <td>...</td>\n",
       "      <td>...</td>\n",
       "      <td>...</td>\n",
       "      <td>...</td>\n",
       "    </tr>\n",
       "    <tr>\n",
       "      <th>487</th>\n",
       "      <td>162</td>\n",
       "      <td>1</td>\n",
       "      <td>-0.000398</td>\n",
       "      <td>0.000151</td>\n",
       "      <td>-2.215689e-05</td>\n",
       "    </tr>\n",
       "    <tr>\n",
       "      <th>488</th>\n",
       "      <td>162</td>\n",
       "      <td>2</td>\n",
       "      <td>-0.000295</td>\n",
       "      <td>0.000235</td>\n",
       "      <td>2.135495e-05</td>\n",
       "    </tr>\n",
       "    <tr>\n",
       "      <th>489</th>\n",
       "      <td>163</td>\n",
       "      <td>0</td>\n",
       "      <td>0.000702</td>\n",
       "      <td>-0.000390</td>\n",
       "      <td>3.257805e-06</td>\n",
       "    </tr>\n",
       "    <tr>\n",
       "      <th>490</th>\n",
       "      <td>163</td>\n",
       "      <td>1</td>\n",
       "      <td>-0.000408</td>\n",
       "      <td>0.000157</td>\n",
       "      <td>-2.429492e-05</td>\n",
       "    </tr>\n",
       "    <tr>\n",
       "      <th>491</th>\n",
       "      <td>163</td>\n",
       "      <td>2</td>\n",
       "      <td>-0.000293</td>\n",
       "      <td>0.000234</td>\n",
       "      <td>2.117622e-05</td>\n",
       "    </tr>\n",
       "  </tbody>\n",
       "</table>\n",
       "<p>492 rows × 5 columns</p>\n",
       "</div>"
      ],
      "text/plain": [
       "     subID  model  feature1  feature2      feature3\n",
       "0        0      0  0.000698 -0.000392 -8.616008e-07\n",
       "1        0      1 -0.000391  0.000155 -2.449219e-05\n",
       "2        0      2 -0.000307  0.000237  2.550199e-05\n",
       "3        1      0  0.000699 -0.000393  2.282463e-06\n",
       "4        1      1 -0.000394  0.000153 -2.381244e-05\n",
       "..     ...    ...       ...       ...           ...\n",
       "487    162      1 -0.000398  0.000151 -2.215689e-05\n",
       "488    162      2 -0.000295  0.000235  2.135495e-05\n",
       "489    163      0  0.000702 -0.000390  3.257805e-06\n",
       "490    163      1 -0.000408  0.000157 -2.429492e-05\n",
       "491    163      2 -0.000293  0.000234  2.117622e-05\n",
       "\n",
       "[492 rows x 5 columns]"
      ]
     },
     "execution_count": 38,
     "metadata": {},
     "output_type": "execute_result"
    }
   ],
   "source": [
    "df_result = dict(subID=[], model=[], feature1=[], feature2=[], feature3=[])\n",
    "for i in range(sub):\n",
    "    df_result[\"subID\"].append(i)\n",
    "    df_result[\"subID\"].append(i)\n",
    "    df_result[\"subID\"].append(i)\n",
    "    onesub = coef_within_no_current[i]\n",
    "    for j in range(model):\n",
    "        df_result[\"model\"].append(j)\n",
    "        onemodel = onesub[j]\n",
    "        df_result[\"feature1\"].append(onemodel[0])\n",
    "        df_result[\"feature2\"].append(onemodel[1])\n",
    "        df_result[\"feature3\"].append(onemodel[2])\n",
    "df = pd.DataFrame(df_result)\n",
    "df"
   ]
  },
  {
   "cell_type": "code",
   "execution_count": 39,
   "metadata": {},
   "outputs": [
    {
     "data": {
      "text/plain": [
       "array([[[ 6.98077564e-04, -3.92290781e-04, -8.61600808e-07],\n",
       "        [-3.91079097e-04,  1.55439732e-04, -2.44921859e-05],\n",
       "        [-3.06753055e-04,  2.37042412e-04,  2.55019901e-05]],\n",
       "\n",
       "       [[ 6.98657838e-04, -3.92602752e-04,  2.28246313e-06],\n",
       "        [-3.93991789e-04,  1.53404544e-04, -2.38124352e-05],\n",
       "        [-3.04426581e-04,  2.39384700e-04,  2.16746648e-05]],\n",
       "\n",
       "       [[ 7.00511764e-04, -3.92404924e-04,  1.13712899e-07],\n",
       "        [-3.96154655e-04,  1.54663954e-04, -2.44726317e-05],\n",
       "        [-3.04118171e-04,  2.37927183e-04,  2.45033040e-05]],\n",
       "\n",
       "       ...,\n",
       "\n",
       "       [[ 6.95972772e-04, -3.89930045e-04, -5.32935288e-07],\n",
       "        [-3.91025949e-04,  1.54733120e-04, -2.26770839e-05],\n",
       "        [-3.04716285e-04,  2.35377339e-04,  2.33496113e-05]],\n",
       "\n",
       "       [[ 6.93587079e-04, -3.85902233e-04,  9.42775668e-07],\n",
       "        [-3.97890939e-04,  1.51190582e-04, -2.21568889e-05],\n",
       "        [-2.95463348e-04,  2.34892899e-04,  2.13549547e-05]],\n",
       "\n",
       "       [[ 7.01806538e-04, -3.90479438e-04,  3.25780539e-06],\n",
       "        [-4.08495375e-04,  1.56587253e-04, -2.42949219e-05],\n",
       "        [-2.93081181e-04,  2.34071415e-04,  2.11762200e-05]]])"
      ]
     },
     "execution_count": 39,
     "metadata": {},
     "output_type": "execute_result"
    }
   ],
   "source": [
    "coef_within_no_current"
   ]
  },
  {
   "cell_type": "code",
   "execution_count": 37,
   "metadata": {},
   "outputs": [
    {
     "data": {
      "text/plain": [
       "array([[[ 6.98077564e-04, -3.92290781e-04, -8.61600808e-07],\n",
       "        [-3.91079097e-04,  1.55439732e-04, -2.44921859e-05],\n",
       "        [-3.06753055e-04,  2.37042412e-04,  2.55019901e-05]],\n",
       "\n",
       "       [[ 6.98657838e-04, -3.92602752e-04,  2.28246313e-06],\n",
       "        [-3.93991789e-04,  1.53404544e-04, -2.38124352e-05],\n",
       "        [-3.04426581e-04,  2.39384700e-04,  2.16746648e-05]],\n",
       "\n",
       "       [[ 7.00511764e-04, -3.92404924e-04,  1.13712899e-07],\n",
       "        [-3.96154655e-04,  1.54663954e-04, -2.44726317e-05],\n",
       "        [-3.04118171e-04,  2.37927183e-04,  2.45033040e-05]],\n",
       "\n",
       "       ...,\n",
       "\n",
       "       [[ 6.95972772e-04, -3.89930045e-04, -5.32935288e-07],\n",
       "        [-3.91025949e-04,  1.54733120e-04, -2.26770839e-05],\n",
       "        [-3.04716285e-04,  2.35377339e-04,  2.33496113e-05]],\n",
       "\n",
       "       [[ 6.93587079e-04, -3.85902233e-04,  9.42775668e-07],\n",
       "        [-3.97890939e-04,  1.51190582e-04, -2.21568889e-05],\n",
       "        [-2.95463348e-04,  2.34892899e-04,  2.13549547e-05]],\n",
       "\n",
       "       [[ 7.01806538e-04, -3.90479438e-04,  3.25780539e-06],\n",
       "        [-4.08495375e-04,  1.56587253e-04, -2.42949219e-05],\n",
       "        [-2.93081181e-04,  2.34071415e-04,  2.11762200e-05]]])"
      ]
     },
     "execution_count": 37,
     "metadata": {},
     "output_type": "execute_result"
    }
   ],
   "source": [
    "coef_within_no_current"
   ]
  },
  {
   "cell_type": "code",
   "execution_count": 24,
   "metadata": {},
   "outputs": [
    {
     "data": {
      "text/plain": [
       "array([[[ 6.98077564e-04, -3.92290781e-04, -8.61600808e-07],\n",
       "        [-3.91079097e-04,  1.55439732e-04, -2.44921859e-05],\n",
       "        [-3.06753055e-04,  2.37042412e-04,  2.55019901e-05]],\n",
       "\n",
       "       [[ 6.98657838e-04, -3.92602752e-04,  2.28246313e-06],\n",
       "        [-3.93991789e-04,  1.53404544e-04, -2.38124352e-05],\n",
       "        [-3.04426581e-04,  2.39384700e-04,  2.16746648e-05]],\n",
       "\n",
       "       [[ 7.00511764e-04, -3.92404924e-04,  1.13712899e-07],\n",
       "        [-3.96154655e-04,  1.54663954e-04, -2.44726317e-05],\n",
       "        [-3.04118171e-04,  2.37927183e-04,  2.45033040e-05]],\n",
       "\n",
       "       ...,\n",
       "\n",
       "       [[ 6.95972772e-04, -3.89930045e-04, -5.32935288e-07],\n",
       "        [-3.91025949e-04,  1.54733120e-04, -2.26770839e-05],\n",
       "        [-3.04716285e-04,  2.35377339e-04,  2.33496113e-05]],\n",
       "\n",
       "       [[ 6.93587079e-04, -3.85902233e-04,  9.42775668e-07],\n",
       "        [-3.97890939e-04,  1.51190582e-04, -2.21568889e-05],\n",
       "        [-2.95463348e-04,  2.34892899e-04,  2.13549547e-05]],\n",
       "\n",
       "       [[ 7.01806538e-04, -3.90479438e-04,  3.25780539e-06],\n",
       "        [-4.08495375e-04,  1.56587253e-04, -2.42949219e-05],\n",
       "        [-2.93081181e-04,  2.34071415e-04,  2.11762200e-05]]])"
      ]
     },
     "execution_count": 24,
     "metadata": {},
     "output_type": "execute_result"
    }
   ],
   "source": [
    "coef_within_no_current\n",
    "\n",
    "for i, j in range"
   ]
  },
  {
   "cell_type": "code",
   "execution_count": 16,
   "metadata": {},
   "outputs": [],
   "source": [
    "m,n,r = coef_within_no_current.shape\n",
    "out_arr = np.column_stack((np.repeat(np.arange(m), n), coef_within_no_current.reshape(m*n, -1)))"
   ]
  },
  {
   "cell_type": "code",
   "execution_count": 18,
   "metadata": {},
   "outputs": [
    {
     "ename": "ValueError",
     "evalue": "Shape of passed values is (492, 4), indices imply (492, 3)",
     "output_type": "error",
     "traceback": [
      "\u001b[0;31m---------------------------------------------------------------------------\u001b[0m",
      "\u001b[0;31mValueError\u001b[0m                                Traceback (most recent call last)",
      "\u001b[0;32m/var/folders/06/d73mk4410yg1bfrx52fmy4jw0000gn/T/ipykernel_16530/3958622544.py\u001b[0m in \u001b[0;36m<module>\u001b[0;34m\u001b[0m\n\u001b[0;32m----> 1\u001b[0;31m \u001b[0mout_df\u001b[0m \u001b[0;34m=\u001b[0m \u001b[0mpd\u001b[0m\u001b[0;34m.\u001b[0m\u001b[0mDataFrame\u001b[0m\u001b[0;34m(\u001b[0m\u001b[0mout_arr\u001b[0m\u001b[0;34m,\u001b[0m \u001b[0mcolumns\u001b[0m\u001b[0;34m=\u001b[0m\u001b[0;34m[\u001b[0m\u001b[0;34m\"id\"\u001b[0m\u001b[0;34m,\u001b[0m \u001b[0;34m\"m\"\u001b[0m\u001b[0;34m,\u001b[0m \u001b[0;34m\"f\"\u001b[0m\u001b[0;34m]\u001b[0m\u001b[0;34m)\u001b[0m\u001b[0;34m\u001b[0m\u001b[0;34m\u001b[0m\u001b[0m\n\u001b[0m\u001b[1;32m      2\u001b[0m \u001b[0mout_df\u001b[0m\u001b[0;34m\u001b[0m\u001b[0;34m\u001b[0m\u001b[0m\n",
      "\u001b[0;32m~/opt/anaconda3/lib/python3.8/site-packages/pandas/core/frame.py\u001b[0m in \u001b[0;36m__init__\u001b[0;34m(self, data, index, columns, dtype, copy)\u001b[0m\n\u001b[1;32m    719\u001b[0m                 )\n\u001b[1;32m    720\u001b[0m             \u001b[0;32melse\u001b[0m\u001b[0;34m:\u001b[0m\u001b[0;34m\u001b[0m\u001b[0;34m\u001b[0m\u001b[0m\n\u001b[0;32m--> 721\u001b[0;31m                 mgr = ndarray_to_mgr(\n\u001b[0m\u001b[1;32m    722\u001b[0m                     \u001b[0mdata\u001b[0m\u001b[0;34m,\u001b[0m\u001b[0;34m\u001b[0m\u001b[0;34m\u001b[0m\u001b[0m\n\u001b[1;32m    723\u001b[0m                     \u001b[0mindex\u001b[0m\u001b[0;34m,\u001b[0m\u001b[0;34m\u001b[0m\u001b[0;34m\u001b[0m\u001b[0m\n",
      "\u001b[0;32m~/opt/anaconda3/lib/python3.8/site-packages/pandas/core/internals/construction.py\u001b[0m in \u001b[0;36mndarray_to_mgr\u001b[0;34m(values, index, columns, dtype, copy, typ)\u001b[0m\n\u001b[1;32m    347\u001b[0m     )\n\u001b[1;32m    348\u001b[0m \u001b[0;34m\u001b[0m\u001b[0m\n\u001b[0;32m--> 349\u001b[0;31m     \u001b[0m_check_values_indices_shape_match\u001b[0m\u001b[0;34m(\u001b[0m\u001b[0mvalues\u001b[0m\u001b[0;34m,\u001b[0m \u001b[0mindex\u001b[0m\u001b[0;34m,\u001b[0m \u001b[0mcolumns\u001b[0m\u001b[0;34m)\u001b[0m\u001b[0;34m\u001b[0m\u001b[0;34m\u001b[0m\u001b[0m\n\u001b[0m\u001b[1;32m    350\u001b[0m \u001b[0;34m\u001b[0m\u001b[0m\n\u001b[1;32m    351\u001b[0m     \u001b[0;32mif\u001b[0m \u001b[0mtyp\u001b[0m \u001b[0;34m==\u001b[0m \u001b[0;34m\"array\"\u001b[0m\u001b[0;34m:\u001b[0m\u001b[0;34m\u001b[0m\u001b[0;34m\u001b[0m\u001b[0m\n",
      "\u001b[0;32m~/opt/anaconda3/lib/python3.8/site-packages/pandas/core/internals/construction.py\u001b[0m in \u001b[0;36m_check_values_indices_shape_match\u001b[0;34m(values, index, columns)\u001b[0m\n\u001b[1;32m    418\u001b[0m         \u001b[0mpassed\u001b[0m \u001b[0;34m=\u001b[0m \u001b[0mvalues\u001b[0m\u001b[0;34m.\u001b[0m\u001b[0mshape\u001b[0m\u001b[0;34m\u001b[0m\u001b[0;34m\u001b[0m\u001b[0m\n\u001b[1;32m    419\u001b[0m         \u001b[0mimplied\u001b[0m \u001b[0;34m=\u001b[0m \u001b[0;34m(\u001b[0m\u001b[0mlen\u001b[0m\u001b[0;34m(\u001b[0m\u001b[0mindex\u001b[0m\u001b[0;34m)\u001b[0m\u001b[0;34m,\u001b[0m \u001b[0mlen\u001b[0m\u001b[0;34m(\u001b[0m\u001b[0mcolumns\u001b[0m\u001b[0;34m)\u001b[0m\u001b[0;34m)\u001b[0m\u001b[0;34m\u001b[0m\u001b[0;34m\u001b[0m\u001b[0m\n\u001b[0;32m--> 420\u001b[0;31m         \u001b[0;32mraise\u001b[0m \u001b[0mValueError\u001b[0m\u001b[0;34m(\u001b[0m\u001b[0;34mf\"Shape of passed values is {passed}, indices imply {implied}\"\u001b[0m\u001b[0;34m)\u001b[0m\u001b[0;34m\u001b[0m\u001b[0;34m\u001b[0m\u001b[0m\n\u001b[0m\u001b[1;32m    421\u001b[0m \u001b[0;34m\u001b[0m\u001b[0m\n\u001b[1;32m    422\u001b[0m \u001b[0;34m\u001b[0m\u001b[0m\n",
      "\u001b[0;31mValueError\u001b[0m: Shape of passed values is (492, 4), indices imply (492, 3)"
     ]
    }
   ],
   "source": [
    "out_df = pd.DataFrame(out_arr, columns=[\"id\", \"m\", \"f\"])\n",
    "out_df"
   ]
  },
  {
   "cell_type": "code",
   "execution_count": 8,
   "metadata": {},
   "outputs": [
    {
     "data": {
      "text/plain": [
       "array([[[ 6.98077564e-04, -3.92290781e-04, -8.61600808e-07],\n",
       "        [-3.91079097e-04,  1.55439732e-04, -2.44921859e-05],\n",
       "        [-3.06753055e-04,  2.37042412e-04,  2.55019901e-05]],\n",
       "\n",
       "       [[ 6.98657838e-04, -3.92602752e-04,  2.28246313e-06],\n",
       "        [-3.93991789e-04,  1.53404544e-04, -2.38124352e-05],\n",
       "        [-3.04426581e-04,  2.39384700e-04,  2.16746648e-05]],\n",
       "\n",
       "       [[ 7.00511764e-04, -3.92404924e-04,  1.13712899e-07],\n",
       "        [-3.96154655e-04,  1.54663954e-04, -2.44726317e-05],\n",
       "        [-3.04118171e-04,  2.37927183e-04,  2.45033040e-05]],\n",
       "\n",
       "       ...,\n",
       "\n",
       "       [[ 6.95972772e-04, -3.89930045e-04, -5.32935288e-07],\n",
       "        [-3.91025949e-04,  1.54733120e-04, -2.26770839e-05],\n",
       "        [-3.04716285e-04,  2.35377339e-04,  2.33496113e-05]],\n",
       "\n",
       "       [[ 6.93587079e-04, -3.85902233e-04,  9.42775668e-07],\n",
       "        [-3.97890939e-04,  1.51190582e-04, -2.21568889e-05],\n",
       "        [-2.95463348e-04,  2.34892899e-04,  2.13549547e-05]],\n",
       "\n",
       "       [[ 7.01806538e-04, -3.90479438e-04,  3.25780539e-06],\n",
       "        [-4.08495375e-04,  1.56587253e-04, -2.42949219e-05],\n",
       "        [-2.93081181e-04,  2.34071415e-04,  2.11762200e-05]]])"
      ]
     },
     "execution_count": 8,
     "metadata": {},
     "output_type": "execute_result"
    }
   ],
   "source": [
    "coef_within_no_current"
   ]
  },
  {
   "cell_type": "code",
   "execution_count": 14,
   "metadata": {},
   "outputs": [
    {
     "data": {
      "text/plain": [
       "array([[[-1.36194353e-04,  4.73699412e-05,  6.49633731e-05, ...,\n",
       "         -1.20860488e-03,  7.56181638e-04,  4.53305813e-04],\n",
       "        [ 5.56046752e-05, -3.34101017e-05, -1.89879352e-05, ...,\n",
       "          6.08150625e-04,  6.36222517e-04, -1.24447173e-03],\n",
       "        [ 8.05783986e-05, -1.39681421e-05, -4.59819928e-05, ...,\n",
       "          6.00448324e-04, -1.39240941e-03,  7.91163886e-04]],\n",
       "\n",
       "       [[-1.36194353e-04,  4.73699412e-05,  6.49633731e-05, ...,\n",
       "         -1.20860488e-03,  7.56181638e-04,  4.53305813e-04],\n",
       "        [ 5.56046752e-05, -3.34101017e-05, -1.89879352e-05, ...,\n",
       "          6.08150625e-04,  6.36222517e-04, -1.24447173e-03],\n",
       "        [ 8.05783986e-05, -1.39681421e-05, -4.59819928e-05, ...,\n",
       "          6.00448324e-04, -1.39240941e-03,  7.91163886e-04]],\n",
       "\n",
       "       [[-1.36194353e-04,  4.73699412e-05,  6.49633731e-05, ...,\n",
       "         -1.20860488e-03,  7.56181638e-04,  4.53305813e-04],\n",
       "        [ 5.56046752e-05, -3.34101017e-05, -1.89879352e-05, ...,\n",
       "          6.08150625e-04,  6.36222517e-04, -1.24447173e-03],\n",
       "        [ 8.05783986e-05, -1.39681421e-05, -4.59819928e-05, ...,\n",
       "          6.00448324e-04, -1.39240941e-03,  7.91163886e-04]],\n",
       "\n",
       "       ...,\n",
       "\n",
       "       [[-1.36194353e-04,  4.73699412e-05,  6.49633731e-05, ...,\n",
       "         -1.20860488e-03,  7.56181638e-04,  4.53305813e-04],\n",
       "        [ 5.56046752e-05, -3.34101017e-05, -1.89879352e-05, ...,\n",
       "          6.08150625e-04,  6.36222517e-04, -1.24447173e-03],\n",
       "        [ 8.05783986e-05, -1.39681421e-05, -4.59819928e-05, ...,\n",
       "          6.00448324e-04, -1.39240941e-03,  7.91163886e-04]],\n",
       "\n",
       "       [[-1.36194353e-04,  4.73699412e-05,  6.49633731e-05, ...,\n",
       "         -1.20860488e-03,  7.56181638e-04,  4.53305813e-04],\n",
       "        [ 5.56046752e-05, -3.34101017e-05, -1.89879352e-05, ...,\n",
       "          6.08150625e-04,  6.36222517e-04, -1.24447173e-03],\n",
       "        [ 8.05783986e-05, -1.39681421e-05, -4.59819928e-05, ...,\n",
       "          6.00448324e-04, -1.39240941e-03,  7.91163886e-04]],\n",
       "\n",
       "       [[-1.36194353e-04,  4.73699412e-05,  6.49633731e-05, ...,\n",
       "         -1.20860488e-03,  7.56181638e-04,  4.53305813e-04],\n",
       "        [ 5.56046752e-05, -3.34101017e-05, -1.89879352e-05, ...,\n",
       "          6.08150625e-04,  6.36222517e-04, -1.24447173e-03],\n",
       "        [ 8.05783986e-05, -1.39681421e-05, -4.59819928e-05, ...,\n",
       "          6.00448324e-04, -1.39240941e-03,  7.91163886e-04]]])"
      ]
     },
     "execution_count": 14,
     "metadata": {},
     "output_type": "execute_result"
    }
   ],
   "source": [
    "coef_cross12_no_tb"
   ]
  },
  {
   "cell_type": "code",
   "execution_count": null,
   "metadata": {},
   "outputs": [],
   "source": []
  }
 ],
 "metadata": {
  "kernelspec": {
   "display_name": "base",
   "language": "python",
   "name": "python3"
  },
  "language_info": {
   "codemirror_mode": {
    "name": "ipython",
    "version": 3
   },
   "file_extension": ".py",
   "mimetype": "text/x-python",
   "name": "python",
   "nbconvert_exporter": "python",
   "pygments_lexer": "ipython3",
   "version": "3.8.13"
  },
  "orig_nbformat": 4
 },
 "nbformat": 4,
 "nbformat_minor": 2
}
