{
 "cells": [
  {
   "cell_type": "code",
   "execution_count": null,
   "metadata": {},
   "outputs": [],
   "source": [
    "import numpy as np\n",
    "import pandas as pd\n",
    "\n",
    "import matplotlib.pyplot as plt\n",
    "import seaborn as sns\n",
    "\n",
    "import missingno as msno\n",
    "\n",
    "from sklearn.pipeline import make_pipeline\n",
    "from sklearn.linear_model import LogisticRegressionCV\n",
    "from sklearn.ensemble import RandomForestClassifier\n",
    "\n",
    "from sklearn.preprocessing import MinMaxScaler\n",
    "\n",
    "from sklearn.model_selection import LeaveOneGroupOut, GridSearchCV\n",
    "\n",
    "from sklearn.inspection import permutation_importance\n",
    "\n",
    "from sklearn.metrics import make_scorer, roc_auc_score\n",
    "import os\n",
    "%matplotlib inline"
   ]
  },
  {
   "cell_type": "code",
   "execution_count": null,
   "metadata": {},
   "outputs": [],
   "source": [
    "def score_func(y, y_pred):\n",
    "    score = roc_auc_score(y, y_pred, multi_class=\"ovr\")\n",
    "    return score\n",
    "\n",
    "my_scores = make_scorer(score_func=score_func, greater_is_better=True, needs_proba=True, needs_threshold=False)"
   ]
  },
  {
   "cell_type": "code",
   "execution_count": null,
   "metadata": {},
   "outputs": [],
   "source": [
    "os.getcwd()"
   ]
  },
  {
   "cell_type": "code",
   "execution_count": null,
   "metadata": {},
   "outputs": [],
   "source": [
    "os.chdir(\"../../3_Result/1_Logistic/2_Trials-Back\")"
   ]
  },
  {
   "cell_type": "code",
   "execution_count": null,
   "metadata": {},
   "outputs": [],
   "source": [
    "os.getcwd()"
   ]
  },
  {
   "cell_type": "code",
   "execution_count": null,
   "metadata": {},
   "outputs": [],
   "source": [
    "df_noref = pd.read_csv(\"/Users/zhengyuanrui/Decoding_SALT/Decode_SALT/2_Data/df_no_ref.csv\")\n",
    "df_selfref = pd.read_csv(\"/Users/zhengyuanrui/Decoding_SALT/Decode_SALT/2_Data/df_self_ref.csv\")"
   ]
  },
  {
   "cell_type": "code",
   "execution_count": null,
   "metadata": {},
   "outputs": [],
   "source": [
    "df_noref.head()"
   ]
  },
  {
   "cell_type": "code",
   "execution_count": null,
   "metadata": {},
   "outputs": [],
   "source": [
    "df_selfref.head()"
   ]
  },
  {
   "cell_type": "code",
   "execution_count": null,
   "metadata": {},
   "outputs": [],
   "source": [
    "msno.matrix(df_noref, labels=True)"
   ]
  },
  {
   "cell_type": "code",
   "execution_count": null,
   "metadata": {},
   "outputs": [],
   "source": [
    "msno.matrix(df_selfref, labels=True)"
   ]
  },
  {
   "cell_type": "code",
   "execution_count": null,
   "metadata": {},
   "outputs": [],
   "source": [
    "X_norefb = df_noref.iloc[:, 11:-1].values\n",
    "X_selfrefb = df_selfref.iloc[:, 12:-1].values\n",
    "\n",
    "\n",
    "y_noref = df_noref[\"label\"].values\n",
    "y_selfref = df_selfref[\"label\"].values\n",
    "\n",
    "norefcolb = df_noref.iloc[:, 11:-1].columns\n",
    "selfrefcolb = df_selfref.iloc[:, 12:-1].columns"
   ]
  },
  {
   "cell_type": "code",
   "execution_count": null,
   "metadata": {},
   "outputs": [],
   "source": [
    "df_selfref.iloc[:, 12:-1]"
   ]
  },
  {
   "cell_type": "code",
   "execution_count": null,
   "metadata": {},
   "outputs": [],
   "source": [
    "df_noref.iloc[:, 8:11]"
   ]
  },
  {
   "cell_type": "code",
   "execution_count": null,
   "metadata": {},
   "outputs": [],
   "source": [
    "X_norefb.shape"
   ]
  },
  {
   "cell_type": "code",
   "execution_count": null,
   "metadata": {},
   "outputs": [],
   "source": [
    "X_selfrefb.shape"
   ]
  },
  {
   "cell_type": "code",
   "execution_count": null,
   "metadata": {},
   "outputs": [],
   "source": [
    "y_noref.shape"
   ]
  },
  {
   "cell_type": "code",
   "execution_count": null,
   "metadata": {},
   "outputs": [],
   "source": [
    "y_selfref.shape"
   ]
  },
  {
   "cell_type": "code",
   "execution_count": null,
   "metadata": {},
   "outputs": [],
   "source": [
    "groups_no = df_noref[\"Subject\"].values\n",
    "groups_self = df_selfref[\"Subject\"].values"
   ]
  },
  {
   "cell_type": "code",
   "execution_count": null,
   "metadata": {},
   "outputs": [],
   "source": [
    "logo = LeaveOneGroupOut()"
   ]
  },
  {
   "cell_type": "code",
   "execution_count": null,
   "metadata": {},
   "outputs": [],
   "source": [
    "def lr_within_task(X, y, group, source):\n",
    "    df_result = dict(subID=[], score=[], source=[], target=[])# source拟合的，target预测的condition\n",
    "    feature_importance = []\n",
    "    feature_coef = []\n",
    "    for train, test in logo.split(X, y, groups=group):\n",
    "        test_sub = np.unique(group[test])[0]\n",
    "        df_result[\"subID\"].append(test_sub)\n",
    "        \n",
    "        logi = make_pipeline(\n",
    "            MinMaxScaler(), \n",
    "            LogisticRegressionCV(Cs = np.logspace(-6, 3, 7), cv = 5, class_weight='balanced', \n",
    "                                 random_state=123, max_iter=5000, multi_class=\"ovr\"))\n",
    "        \n",
    "        logi.fit(X=X[train], y=y[train])\n",
    "        feature_coef.append(logi.steps[-1][-1].coef_)\n",
    "        im = permutation_importance(logi, X[test], y[test], scoring=my_scores, n_repeats=20, n_jobs=-1, random_state=123)\n",
    "        feature_importance.append(im['importances_mean'])\n",
    "        y_pred = logi.predict_proba(X[test])\n",
    "        score = roc_auc_score(y[test], y_pred, multi_class='ovr')\n",
    "\n",
    "        df_result['score'].append(score)\n",
    "        df_result['source'].append(source)\n",
    "        df_result['target'].append(source)\n",
    "\n",
    "    return pd.DataFrame(df_result), feature_importance, feature_coef\n"
   ]
  },
  {
   "cell_type": "code",
   "execution_count": null,
   "metadata": {},
   "outputs": [],
   "source": [
    "def lr_cross_task(X_source, y_source, X_target, y_target, target_group, source_name, target_name):\n",
    "    df_result = dict(subID=[], score=[], source=[], target=[])# source拟合的，target预测的condition\n",
    "    feature_importance = []\n",
    "    feature_coef = []\n",
    "    logi = make_pipeline(\n",
    "            MinMaxScaler(), \n",
    "            LogisticRegressionCV(Cs = np.logspace(-6, 3, 7), cv = 5, class_weight='balanced', \n",
    "                                 random_state=123, max_iter=5000, multi_class=\"ovr\"))\n",
    "\n",
    "    logi.fit(X=X_source, y=y_source)\n",
    "\n",
    "\n",
    "    for sub in np.unique(target_group):\n",
    "        idx_sub = target_group == sub\n",
    "        feature_sub = X_target[idx_sub]\n",
    "        label_sub = y_target[idx_sub]\n",
    "\n",
    "        im = permutation_importance(logi, feature_sub, label_sub, scoring=my_scores, n_repeats=20, n_jobs=-1, random_state=123)\n",
    "        feature_importance.append(im['importances_mean'])\n",
    "        feature_coef.append(logi.steps[-1][-1].coef_)\n",
    "        y_pred = logi.predict_proba(feature_sub)\n",
    "        score = roc_auc_score(label_sub, y_pred, multi_class=\"ovr\")\n",
    "\n",
    "        df_result['subID'].append(sub)\n",
    "        df_result[\"score\"].append(score)\n",
    "        df_result[\"source\"].append(source_name)\n",
    "        df_result[\"target\"].append(target_name)\n",
    "\n",
    "\n",
    "    return pd.DataFrame(df_result), feature_importance, feature_coef"
   ]
  },
  {
   "cell_type": "code",
   "execution_count": null,
   "metadata": {},
   "outputs": [],
   "source": [
    "score_no, im_no, coef_no = lr_within_task(X = X_norefb, y = y_noref, group = groups_no, source=\"No_Ref\")\n",
    "score_self, im_self, coef_self = lr_within_task(X = X_selfrefb, y = y_selfref, group = groups_self, source=\"Self_Ref\")"
   ]
  },
  {
   "cell_type": "code",
   "execution_count": null,
   "metadata": {},
   "outputs": [],
   "source": [
    "df_im_no = pd.DataFrame(np.array(im_no), columns=norefcolb)\n",
    "df_im_no"
   ]
  },
  {
   "cell_type": "code",
   "execution_count": null,
   "metadata": {},
   "outputs": [],
   "source": [
    "#No ref to self ref trial back\n",
    "df_cross1, im_cross1, coef_cross1 = lr_cross_task(X_source=X_norefb, y_source=y_noref, X_target=X_selfrefb, y_target=y_selfref, target_group=groups_self, source_name=\"No_Ref\", target_name=\"Self_Ref\")\n",
    "#self to no ref trial back\n",
    "df_cross2, im_cross2, coef_cross2 = lr_cross_task(X_source=X_selfrefb, y_source=y_selfref, X_target=X_norefb, y_target=y_noref, target_group=groups_no, source_name=\"Self_Ref\", target_name=\"No_Ref\")"
   ]
  },
  {
   "cell_type": "code",
   "execution_count": null,
   "metadata": {},
   "outputs": [],
   "source": [
    "df_score = pd.concat([score_no, score_self])"
   ]
  },
  {
   "cell_type": "code",
   "execution_count": null,
   "metadata": {},
   "outputs": [],
   "source": [
    "df_score.to_csv(\"LR_withinscore.csv\")"
   ]
  },
  {
   "cell_type": "code",
   "execution_count": null,
   "metadata": {},
   "outputs": [],
   "source": [
    "df_cross_score = pd.concat([df_cross1, df_cross2])"
   ]
  },
  {
   "cell_type": "code",
   "execution_count": null,
   "metadata": {},
   "outputs": [],
   "source": [
    "df_cross_score.to_csv(\"LR_crossscore.csv\")"
   ]
  },
  {
   "cell_type": "code",
   "execution_count": null,
   "metadata": {},
   "outputs": [],
   "source": [
    "df_im_no = pd.DataFrame(im_no, columns=norefcolb)\n",
    "df_im_no[\"subj_idx\"] = np.arange(1, len(im_no)+1)\n",
    "df_im_no[\"source\"] = \"No_Ref\"\n",
    "df_im_no[\"target\"] = \"No_Ref\"\n",
    "\n",
    "df_im_self = pd.DataFrame(im_self, columns=selfrefcolb)\n",
    "df_im_self[\"subj_idx\"] = np.arange(1, len(im_self)+1)\n",
    "df_im_self[\"source\"] = \"Self_Ref\"\n",
    "df_im_self[\"target\"] = \"Self_Ref\""
   ]
  },
  {
   "cell_type": "code",
   "execution_count": null,
   "metadata": {},
   "outputs": [],
   "source": [
    "im_no_long = pd.melt(df_im_no, id_vars=[\"subj_idx\", \"source\", \"target\"])\n",
    "im_self_long = pd.melt(df_im_self, id_vars=[\"subj_idx\", \"source\", \"target\"])\n",
    "im_within = pd.concat([im_no_long, im_self_long])\n",
    "im_within"
   ]
  },
  {
   "cell_type": "code",
   "execution_count": null,
   "metadata": {},
   "outputs": [],
   "source": [
    "im_within.to_csv(\"importance_within.csv\")"
   ]
  },
  {
   "cell_type": "code",
   "execution_count": null,
   "metadata": {},
   "outputs": [],
   "source": [
    "df_im_cross1 = pd.DataFrame(im_cross1, columns=selfrefcolb)\n",
    "df_im_cross1[\"subj_idx\"] = np.arange(1, len(im_cross1)+1)\n",
    "df_im_cross1[\"source\"] = \"No_Ref\"\n",
    "df_im_cross1[\"target\"] = \"Self_Ref\"\n",
    "\n",
    "df_im_cross2 = pd.DataFrame(im_cross2, columns=norefcolb)\n",
    "df_im_cross2[\"subj_idx\"] = np.arange(1, len(im_cross2)+1)\n",
    "df_im_cross2[\"source\"] = \"Self_Ref\"\n",
    "df_im_cross2[\"target\"] = \"No_Ref\""
   ]
  },
  {
   "cell_type": "code",
   "execution_count": null,
   "metadata": {},
   "outputs": [],
   "source": [
    "im_cross1_long = pd.melt(df_im_cross1, id_vars=[\"subj_idx\", \"source\", \"target\"])\n",
    "im_cross2_long = pd.melt(df_im_cross2, id_vars=[\"subj_idx\", \"source\", \"target\"])\n",
    "im_cross = pd.concat([im_cross1_long, im_cross2_long])\n",
    "im_cross"
   ]
  },
  {
   "cell_type": "code",
   "execution_count": null,
   "metadata": {},
   "outputs": [],
   "source": [
    "im_cross.to_csv(\"importance_cross.csv\")"
   ]
  },
  {
   "cell_type": "code",
   "execution_count": null,
   "metadata": {},
   "outputs": [],
   "source": [
    "np.save('coef_no.npy', coef_no)\n",
    "np.save('coef_self.npy', coef_self)\n",
    "np.save('coef_cross1.npy', coef_cross1)\n",
    "np.save('coef_cross2.npy', coef_cross2)"
   ]
  }
 ],
 "metadata": {
  "kernelspec": {
   "display_name": "base",
   "language": "python",
   "name": "python3"
  },
  "language_info": {
   "codemirror_mode": {
    "name": "ipython",
    "version": 3
   },
   "file_extension": ".py",
   "mimetype": "text/x-python",
   "name": "python",
   "nbconvert_exporter": "python",
   "pygments_lexer": "ipython3",
   "version": "3.8.13"
  },
  "orig_nbformat": 4
 },
 "nbformat": 4,
 "nbformat_minor": 2
}
