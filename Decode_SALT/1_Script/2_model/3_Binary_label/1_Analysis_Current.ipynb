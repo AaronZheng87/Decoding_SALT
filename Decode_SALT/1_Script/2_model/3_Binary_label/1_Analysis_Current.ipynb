{
 "cells": [
  {
   "cell_type": "code",
   "execution_count": 1,
   "metadata": {},
   "outputs": [],
   "source": [
    "import numpy as np\n",
    "import pandas as pd\n",
    "\n",
    "import matplotlib.pyplot as plt\n",
    "import seaborn as sns\n",
    "\n",
    "import missingno as msno\n",
    "\n",
    "from sklearn.pipeline import make_pipeline\n",
    "from sklearn.linear_model import LogisticRegressionCV\n",
    "from sklearn.ensemble import RandomForestClassifier\n",
    "\n",
    "from sklearn.preprocessing import MinMaxScaler\n",
    "\n",
    "from sklearn.model_selection import LeaveOneGroupOut, GridSearchCV\n",
    "\n",
    "from sklearn.inspection import permutation_importance\n",
    "\n",
    "from sklearn.metrics import make_scorer, roc_auc_score\n",
    "import os\n",
    "%matplotlib inline"
   ]
  },
  {
   "cell_type": "code",
   "execution_count": 2,
   "metadata": {},
   "outputs": [],
   "source": [
    "def score_func(y, y_pred):\n",
    "    score = roc_auc_score(y, y_pred)\n",
    "    return score\n",
    "\n",
    "my_scores = make_scorer(score_func=score_func, greater_is_better=True, needs_proba=True, needs_threshold=False)"
   ]
  },
  {
   "cell_type": "code",
   "execution_count": 3,
   "metadata": {},
   "outputs": [
    {
     "data": {
      "text/plain": [
       "'/Users/zhengyuanrui/Decoding_SALT/Decode_SALT/1_Script/2_model/3_Binary_label'"
      ]
     },
     "execution_count": 3,
     "metadata": {},
     "output_type": "execute_result"
    }
   ],
   "source": [
    "os.getcwd()"
   ]
  },
  {
   "cell_type": "code",
   "execution_count": 4,
   "metadata": {},
   "outputs": [],
   "source": [
    "os.chdir(\"../../../3_Result/Binary_label/1_Logistic/1_Current\")"
   ]
  },
  {
   "cell_type": "code",
   "execution_count": 5,
   "metadata": {},
   "outputs": [
    {
     "data": {
      "text/plain": [
       "'/Users/zhengyuanrui/Decoding_SALT/Decode_SALT/3_Result/Binary_label/1_Logistic/1_Current'"
      ]
     },
     "execution_count": 5,
     "metadata": {},
     "output_type": "execute_result"
    }
   ],
   "source": [
    "os.getcwd()"
   ]
  },
  {
   "cell_type": "code",
   "execution_count": 6,
   "metadata": {},
   "outputs": [],
   "source": [
    "df_noref = pd.read_csv(\"/Users/zhengyuanrui/Decoding_SALT/Decode_SALT/2_Data/1_Binary_Label/df_no_ref_bl.csv\")\n",
    "df_selfref = pd.read_csv(\"/Users/zhengyuanrui/Decoding_SALT/Decode_SALT/2_Data/1_Binary_Label/df_self_ref_bl.csv\")"
   ]
  },
  {
   "cell_type": "code",
   "execution_count": 7,
   "metadata": {},
   "outputs": [
    {
     "data": {
      "text/html": [
       "<div>\n",
       "<style scoped>\n",
       "    .dataframe tbody tr th:only-of-type {\n",
       "        vertical-align: middle;\n",
       "    }\n",
       "\n",
       "    .dataframe tbody tr th {\n",
       "        vertical-align: top;\n",
       "    }\n",
       "\n",
       "    .dataframe thead th {\n",
       "        text-align: right;\n",
       "    }\n",
       "</style>\n",
       "<table border=\"1\" class=\"dataframe\">\n",
       "  <thead>\n",
       "    <tr style=\"text-align: right;\">\n",
       "      <th></th>\n",
       "      <th>Subject</th>\n",
       "      <th>ExpNo</th>\n",
       "      <th>BlockNo</th>\n",
       "      <th>TrialNo</th>\n",
       "      <th>TrialNo1b</th>\n",
       "      <th>TrialNo2b</th>\n",
       "      <th>TrialNo3b</th>\n",
       "      <th>TrialNo4b</th>\n",
       "      <th>ACC</th>\n",
       "      <th>RT</th>\n",
       "      <th>...</th>\n",
       "      <th>Valence_G3b</th>\n",
       "      <th>Valence_B3b</th>\n",
       "      <th>Valence_N3b</th>\n",
       "      <th>ACC4b</th>\n",
       "      <th>RT4b</th>\n",
       "      <th>ismatch4b</th>\n",
       "      <th>Valence_G4b</th>\n",
       "      <th>Valence_B4b</th>\n",
       "      <th>Valence_N4b</th>\n",
       "      <th>label</th>\n",
       "    </tr>\n",
       "  </thead>\n",
       "  <tbody>\n",
       "    <tr>\n",
       "      <th>0</th>\n",
       "      <td>1001</td>\n",
       "      <td>Exp1a</td>\n",
       "      <td>1</td>\n",
       "      <td>48</td>\n",
       "      <td>47</td>\n",
       "      <td>46</td>\n",
       "      <td>45</td>\n",
       "      <td>43</td>\n",
       "      <td>1</td>\n",
       "      <td>776</td>\n",
       "      <td>...</td>\n",
       "      <td>1</td>\n",
       "      <td>0</td>\n",
       "      <td>0</td>\n",
       "      <td>1</td>\n",
       "      <td>1098</td>\n",
       "      <td>0</td>\n",
       "      <td>0</td>\n",
       "      <td>1</td>\n",
       "      <td>0</td>\n",
       "      <td>0</td>\n",
       "    </tr>\n",
       "    <tr>\n",
       "      <th>1</th>\n",
       "      <td>1001</td>\n",
       "      <td>Exp1a</td>\n",
       "      <td>1</td>\n",
       "      <td>50</td>\n",
       "      <td>48</td>\n",
       "      <td>47</td>\n",
       "      <td>46</td>\n",
       "      <td>45</td>\n",
       "      <td>0</td>\n",
       "      <td>888</td>\n",
       "      <td>...</td>\n",
       "      <td>0</td>\n",
       "      <td>1</td>\n",
       "      <td>0</td>\n",
       "      <td>1</td>\n",
       "      <td>592</td>\n",
       "      <td>1</td>\n",
       "      <td>1</td>\n",
       "      <td>0</td>\n",
       "      <td>0</td>\n",
       "      <td>1</td>\n",
       "    </tr>\n",
       "    <tr>\n",
       "      <th>2</th>\n",
       "      <td>1001</td>\n",
       "      <td>Exp1a</td>\n",
       "      <td>1</td>\n",
       "      <td>51</td>\n",
       "      <td>50</td>\n",
       "      <td>48</td>\n",
       "      <td>47</td>\n",
       "      <td>46</td>\n",
       "      <td>0</td>\n",
       "      <td>777</td>\n",
       "      <td>...</td>\n",
       "      <td>1</td>\n",
       "      <td>0</td>\n",
       "      <td>0</td>\n",
       "      <td>1</td>\n",
       "      <td>865</td>\n",
       "      <td>0</td>\n",
       "      <td>0</td>\n",
       "      <td>1</td>\n",
       "      <td>0</td>\n",
       "      <td>0</td>\n",
       "    </tr>\n",
       "    <tr>\n",
       "      <th>3</th>\n",
       "      <td>1001</td>\n",
       "      <td>Exp1a</td>\n",
       "      <td>1</td>\n",
       "      <td>52</td>\n",
       "      <td>51</td>\n",
       "      <td>50</td>\n",
       "      <td>48</td>\n",
       "      <td>47</td>\n",
       "      <td>1</td>\n",
       "      <td>641</td>\n",
       "      <td>...</td>\n",
       "      <td>1</td>\n",
       "      <td>0</td>\n",
       "      <td>0</td>\n",
       "      <td>1</td>\n",
       "      <td>648</td>\n",
       "      <td>1</td>\n",
       "      <td>1</td>\n",
       "      <td>0</td>\n",
       "      <td>0</td>\n",
       "      <td>0</td>\n",
       "    </tr>\n",
       "    <tr>\n",
       "      <th>4</th>\n",
       "      <td>1001</td>\n",
       "      <td>Exp1a</td>\n",
       "      <td>2</td>\n",
       "      <td>13</td>\n",
       "      <td>11</td>\n",
       "      <td>10</td>\n",
       "      <td>9</td>\n",
       "      <td>6</td>\n",
       "      <td>1</td>\n",
       "      <td>976</td>\n",
       "      <td>...</td>\n",
       "      <td>1</td>\n",
       "      <td>0</td>\n",
       "      <td>0</td>\n",
       "      <td>1</td>\n",
       "      <td>896</td>\n",
       "      <td>0</td>\n",
       "      <td>1</td>\n",
       "      <td>0</td>\n",
       "      <td>0</td>\n",
       "      <td>1</td>\n",
       "    </tr>\n",
       "  </tbody>\n",
       "</table>\n",
       "<p>5 rows × 36 columns</p>\n",
       "</div>"
      ],
      "text/plain": [
       "   Subject  ExpNo  BlockNo  TrialNo  TrialNo1b  TrialNo2b  TrialNo3b  \\\n",
       "0     1001  Exp1a        1       48         47         46         45   \n",
       "1     1001  Exp1a        1       50         48         47         46   \n",
       "2     1001  Exp1a        1       51         50         48         47   \n",
       "3     1001  Exp1a        1       52         51         50         48   \n",
       "4     1001  Exp1a        2       13         11         10          9   \n",
       "\n",
       "   TrialNo4b  ACC   RT  ...  Valence_G3b  Valence_B3b  Valence_N3b  ACC4b  \\\n",
       "0         43    1  776  ...            1            0            0      1   \n",
       "1         45    0  888  ...            0            1            0      1   \n",
       "2         46    0  777  ...            1            0            0      1   \n",
       "3         47    1  641  ...            1            0            0      1   \n",
       "4          6    1  976  ...            1            0            0      1   \n",
       "\n",
       "   RT4b  ismatch4b  Valence_G4b  Valence_B4b  Valence_N4b  label  \n",
       "0  1098          0            0            1            0      0  \n",
       "1   592          1            1            0            0      1  \n",
       "2   865          0            0            1            0      0  \n",
       "3   648          1            1            0            0      0  \n",
       "4   896          0            1            0            0      1  \n",
       "\n",
       "[5 rows x 36 columns]"
      ]
     },
     "execution_count": 7,
     "metadata": {},
     "output_type": "execute_result"
    }
   ],
   "source": [
    "df_noref.head()"
   ]
  },
  {
   "cell_type": "code",
   "execution_count": 8,
   "metadata": {},
   "outputs": [
    {
     "data": {
      "text/html": [
       "<div>\n",
       "<style scoped>\n",
       "    .dataframe tbody tr th:only-of-type {\n",
       "        vertical-align: middle;\n",
       "    }\n",
       "\n",
       "    .dataframe tbody tr th {\n",
       "        vertical-align: top;\n",
       "    }\n",
       "\n",
       "    .dataframe thead th {\n",
       "        text-align: right;\n",
       "    }\n",
       "</style>\n",
       "<table border=\"1\" class=\"dataframe\">\n",
       "  <thead>\n",
       "    <tr style=\"text-align: right;\">\n",
       "      <th></th>\n",
       "      <th>Subject</th>\n",
       "      <th>ExpNo</th>\n",
       "      <th>BlockNo</th>\n",
       "      <th>TrialNo</th>\n",
       "      <th>TrialNo1b</th>\n",
       "      <th>TrialNo2b</th>\n",
       "      <th>TrialNo3b</th>\n",
       "      <th>TrialNo4b</th>\n",
       "      <th>Identity</th>\n",
       "      <th>ACC</th>\n",
       "      <th>...</th>\n",
       "      <th>Valence_G3b</th>\n",
       "      <th>Valence_B3b</th>\n",
       "      <th>Valence_N3b</th>\n",
       "      <th>ACC4b</th>\n",
       "      <th>RT4b</th>\n",
       "      <th>ismatch4b</th>\n",
       "      <th>Valence_G4b</th>\n",
       "      <th>Valence_B4b</th>\n",
       "      <th>Valence_N4b</th>\n",
       "      <th>label</th>\n",
       "    </tr>\n",
       "  </thead>\n",
       "  <tbody>\n",
       "    <tr>\n",
       "      <th>0</th>\n",
       "      <td>3010</td>\n",
       "      <td>Exp3a</td>\n",
       "      <td>1</td>\n",
       "      <td>8</td>\n",
       "      <td>7</td>\n",
       "      <td>6</td>\n",
       "      <td>3</td>\n",
       "      <td>2</td>\n",
       "      <td>Other</td>\n",
       "      <td>0</td>\n",
       "      <td>...</td>\n",
       "      <td>0</td>\n",
       "      <td>1</td>\n",
       "      <td>0</td>\n",
       "      <td>0</td>\n",
       "      <td>660</td>\n",
       "      <td>1</td>\n",
       "      <td>0</td>\n",
       "      <td>1</td>\n",
       "      <td>0</td>\n",
       "      <td>0</td>\n",
       "    </tr>\n",
       "    <tr>\n",
       "      <th>1</th>\n",
       "      <td>3010</td>\n",
       "      <td>Exp3a</td>\n",
       "      <td>1</td>\n",
       "      <td>9</td>\n",
       "      <td>8</td>\n",
       "      <td>7</td>\n",
       "      <td>6</td>\n",
       "      <td>3</td>\n",
       "      <td>Self</td>\n",
       "      <td>1</td>\n",
       "      <td>...</td>\n",
       "      <td>0</td>\n",
       "      <td>1</td>\n",
       "      <td>0</td>\n",
       "      <td>0</td>\n",
       "      <td>608</td>\n",
       "      <td>1</td>\n",
       "      <td>0</td>\n",
       "      <td>1</td>\n",
       "      <td>0</td>\n",
       "      <td>0</td>\n",
       "    </tr>\n",
       "    <tr>\n",
       "      <th>2</th>\n",
       "      <td>3010</td>\n",
       "      <td>Exp3a</td>\n",
       "      <td>1</td>\n",
       "      <td>10</td>\n",
       "      <td>9</td>\n",
       "      <td>8</td>\n",
       "      <td>7</td>\n",
       "      <td>6</td>\n",
       "      <td>Other</td>\n",
       "      <td>1</td>\n",
       "      <td>...</td>\n",
       "      <td>1</td>\n",
       "      <td>0</td>\n",
       "      <td>0</td>\n",
       "      <td>1</td>\n",
       "      <td>631</td>\n",
       "      <td>0</td>\n",
       "      <td>0</td>\n",
       "      <td>1</td>\n",
       "      <td>0</td>\n",
       "      <td>0</td>\n",
       "    </tr>\n",
       "    <tr>\n",
       "      <th>3</th>\n",
       "      <td>3010</td>\n",
       "      <td>Exp3a</td>\n",
       "      <td>1</td>\n",
       "      <td>11</td>\n",
       "      <td>10</td>\n",
       "      <td>9</td>\n",
       "      <td>8</td>\n",
       "      <td>7</td>\n",
       "      <td>Self</td>\n",
       "      <td>1</td>\n",
       "      <td>...</td>\n",
       "      <td>1</td>\n",
       "      <td>0</td>\n",
       "      <td>0</td>\n",
       "      <td>1</td>\n",
       "      <td>678</td>\n",
       "      <td>0</td>\n",
       "      <td>1</td>\n",
       "      <td>0</td>\n",
       "      <td>0</td>\n",
       "      <td>1</td>\n",
       "    </tr>\n",
       "    <tr>\n",
       "      <th>4</th>\n",
       "      <td>3010</td>\n",
       "      <td>Exp3a</td>\n",
       "      <td>1</td>\n",
       "      <td>13</td>\n",
       "      <td>11</td>\n",
       "      <td>10</td>\n",
       "      <td>9</td>\n",
       "      <td>8</td>\n",
       "      <td>Other</td>\n",
       "      <td>1</td>\n",
       "      <td>...</td>\n",
       "      <td>1</td>\n",
       "      <td>0</td>\n",
       "      <td>0</td>\n",
       "      <td>0</td>\n",
       "      <td>561</td>\n",
       "      <td>0</td>\n",
       "      <td>1</td>\n",
       "      <td>0</td>\n",
       "      <td>0</td>\n",
       "      <td>0</td>\n",
       "    </tr>\n",
       "  </tbody>\n",
       "</table>\n",
       "<p>5 rows × 37 columns</p>\n",
       "</div>"
      ],
      "text/plain": [
       "   Subject  ExpNo  BlockNo  TrialNo  TrialNo1b  TrialNo2b  TrialNo3b  \\\n",
       "0     3010  Exp3a        1        8          7          6          3   \n",
       "1     3010  Exp3a        1        9          8          7          6   \n",
       "2     3010  Exp3a        1       10          9          8          7   \n",
       "3     3010  Exp3a        1       11         10          9          8   \n",
       "4     3010  Exp3a        1       13         11         10          9   \n",
       "\n",
       "   TrialNo4b Identity  ACC  ...  Valence_G3b  Valence_B3b  Valence_N3b  ACC4b  \\\n",
       "0          2    Other    0  ...            0            1            0      0   \n",
       "1          3     Self    1  ...            0            1            0      0   \n",
       "2          6    Other    1  ...            1            0            0      1   \n",
       "3          7     Self    1  ...            1            0            0      1   \n",
       "4          8    Other    1  ...            1            0            0      0   \n",
       "\n",
       "   RT4b  ismatch4b  Valence_G4b  Valence_B4b  Valence_N4b  label  \n",
       "0   660          1            0            1            0      0  \n",
       "1   608          1            0            1            0      0  \n",
       "2   631          0            0            1            0      0  \n",
       "3   678          0            1            0            0      1  \n",
       "4   561          0            1            0            0      0  \n",
       "\n",
       "[5 rows x 37 columns]"
      ]
     },
     "execution_count": 8,
     "metadata": {},
     "output_type": "execute_result"
    }
   ],
   "source": [
    "df_selfref.head()"
   ]
  },
  {
   "cell_type": "code",
   "execution_count": 9,
   "metadata": {},
   "outputs": [
    {
     "data": {
      "text/plain": [
       "<AxesSubplot: >"
      ]
     },
     "execution_count": 9,
     "metadata": {},
     "output_type": "execute_result"
    },
    {
     "data": {
      "image/png": "[encoded data removed]",
      "text/plain": [
       "<Figure size 2500x1000 with 2 Axes>"
      ]
     },
     "metadata": {},
     "output_type": "display_data"
    }
   ],
   "source": [
    "msno.matrix(df_noref, labels=True)"
   ]
  },
  {
   "cell_type": "code",
   "execution_count": 10,
   "metadata": {},
   "outputs": [
    {
     "data": {
      "text/plain": [
       "<AxesSubplot: >"
      ]
     },
     "execution_count": 10,
     "metadata": {},
     "output_type": "execute_result"
    },
    {
     "data": {
      "image/png": "[encoded data removed]",
      "text/plain": [
       "<Figure size 2500x1000 with 2 Axes>"
      ]
     },
     "metadata": {},
     "output_type": "display_data"
    }
   ],
   "source": [
    "msno.matrix(df_selfref, labels=True)"
   ]
  },
  {
   "cell_type": "code",
   "execution_count": 11,
   "metadata": {},
   "outputs": [],
   "source": [
    "df_noref[\"RT\"] = np.log(df_noref[\"RT\"])\n",
    "df_noref[\"RT1b\"] = np.log(df_noref[\"RT1b\"])\n",
    "df_noref[\"RT2b\"] = np.log(df_noref[\"RT2b\"])\n",
    "df_noref[\"RT3b\"] = np.log(df_noref[\"RT3b\"])\n",
    "df_noref[\"RT4b\"] = np.log(df_noref[\"RT4b\"])\n",
    "\n",
    "df_selfref[\"RT\"] = np.log(df_selfref[\"RT\"])\n",
    "df_selfref[\"RT1b\"] = np.log(df_selfref[\"RT1b\"])\n",
    "df_selfref[\"RT2b\"] = np.log(df_selfref[\"RT2b\"])\n",
    "df_selfref[\"RT3b\"] = np.log(df_selfref[\"RT3b\"])\n",
    "df_selfref[\"RT4b\"] = np.log(df_selfref[\"RT4b\"])\n",
    "\n",
    "X_norefc = df_noref.iloc[:, 8:11].values\n",
    "X_selfrefc = df_selfref.iloc[:, 9:12].values\n",
    "\n",
    "y_noref = df_noref[\"label\"].values\n",
    "y_selfref = df_selfref[\"label\"].values\n",
    "\n",
    "norefcolc = df_noref.iloc[:, 8:11].columns\n",
    "selfrefcolc = df_selfref.iloc[:, 9:12].columns"
   ]
  },
  {
   "cell_type": "code",
   "execution_count": 12,
   "metadata": {},
   "outputs": [
    {
     "data": {
      "text/plain": [
       "(60755,)"
      ]
     },
     "execution_count": 12,
     "metadata": {},
     "output_type": "execute_result"
    }
   ],
   "source": [
    "y_noref.shape"
   ]
  },
  {
   "cell_type": "code",
   "execution_count": 13,
   "metadata": {},
   "outputs": [
    {
     "data": {
      "text/plain": [
       "(70638,)"
      ]
     },
     "execution_count": 13,
     "metadata": {},
     "output_type": "execute_result"
    }
   ],
   "source": [
    "y_selfref.shape"
   ]
  },
  {
   "cell_type": "code",
   "execution_count": 14,
   "metadata": {},
   "outputs": [],
   "source": [
    "groups_no = df_noref[\"Subject\"].values\n",
    "groups_self = df_selfref[\"Subject\"].values"
   ]
  },
  {
   "cell_type": "code",
   "execution_count": 15,
   "metadata": {},
   "outputs": [],
   "source": [
    "logo = LeaveOneGroupOut()"
   ]
  },
  {
   "cell_type": "code",
   "execution_count": 16,
   "metadata": {},
   "outputs": [],
   "source": [
    "def lr_within_task(X, y, group, source):\n",
    "    df_result = dict(subID=[], score=[], source=[], target=[])# source拟合的，target预测的condition\n",
    "    feature_importance = []\n",
    "    feature_coef = []\n",
    "    for train, test in logo.split(X, y, groups=group):\n",
    "        test_sub = np.unique(group[test])[0]\n",
    "        df_result[\"subID\"].append(test_sub)\n",
    "        \n",
    "        logi = make_pipeline(\n",
    "            LogisticRegressionCV(Cs = np.logspace(-6, 3, 7), cv = 5, class_weight='balanced', \n",
    "                                 random_state=123, max_iter=5000))\n",
    "        \n",
    "        logi.fit(X=X[train], y=y[train])\n",
    "        feature_coef.append(logi.steps[-1][-1].coef_)\n",
    "        im = permutation_importance(logi, X[test], y[test], scoring=my_scores, n_repeats=20, n_jobs=-1, random_state=123)\n",
    "        feature_importance.append(im['importances_mean'])\n",
    "        y_pred = logi.predict_proba(X[test])\n",
    "        score = roc_auc_score(y[test], y_pred[:, -1])\n",
    "\n",
    "        df_result['score'].append(score)\n",
    "        df_result['source'].append(source)\n",
    "        df_result['target'].append(source)\n",
    "\n",
    "    return pd.DataFrame(df_result), feature_importance, feature_coef\n"
   ]
  },
  {
   "cell_type": "code",
   "execution_count": 17,
   "metadata": {},
   "outputs": [],
   "source": [
    "def lr_cross_task(X_source, y_source, X_target, y_target, target_group, source_name, target_name):\n",
    "    df_result = dict(subID=[], score=[], source=[], target=[])# source拟合的，target预测的condition\n",
    "    feature_importance = []\n",
    "    feature_coef = []\n",
    "    logi = make_pipeline(\n",
    "            LogisticRegressionCV(Cs = np.logspace(-6, 3, 7), cv = 5, class_weight='balanced', \n",
    "                                 random_state=123, max_iter=5000))\n",
    "\n",
    "    logi.fit(X=X_source, y=y_source)\n",
    "\n",
    "\n",
    "    for sub in np.unique(target_group):\n",
    "        idx_sub = target_group == sub\n",
    "        feature_sub = X_target[idx_sub]\n",
    "        label_sub = y_target[idx_sub]\n",
    "\n",
    "        im = permutation_importance(logi, feature_sub, label_sub, scoring=my_scores, n_repeats=20, n_jobs=-1, random_state=123)\n",
    "        feature_importance.append(im['importances_mean'])\n",
    "        feature_coef.append(logi.steps[-1][-1].coef_)\n",
    "        y_pred = logi.predict_proba(feature_sub)\n",
    "        score = roc_auc_score(label_sub, y_pred[:, -1])\n",
    "\n",
    "        df_result['subID'].append(sub)\n",
    "        df_result[\"score\"].append(score)\n",
    "        df_result[\"source\"].append(source_name)\n",
    "        df_result[\"target\"].append(target_name)\n",
    "\n",
    "\n",
    "    return pd.DataFrame(df_result), feature_importance, feature_coef"
   ]
  },
  {
   "cell_type": "code",
   "execution_count": 18,
   "metadata": {},
   "outputs": [],
   "source": [
    "score_noc, im_noc, coef_noc = lr_within_task(X = X_norefc, y = y_noref, group = groups_no, source=\"No_Ref\")\n",
    "score_selfc, im_selfc, coef_selfc = lr_within_task(X = X_selfrefc, y = y_selfref, group = groups_self, source=\"Self_Ref\")"
   ]
  },
  {
   "cell_type": "code",
   "execution_count": 19,
   "metadata": {},
   "outputs": [
    {
     "name": "stderr",
     "output_type": "stream",
     "text": [
      "/Users/zhengyuanrui/opt/anaconda3/lib/python3.8/site-packages/sklearn/linear_model/_logistic.py:814: ConvergenceWarning: lbfgs failed to converge (status=2):\n",
      "ABNORMAL_TERMINATION_IN_LNSRCH.\n",
      "\n",
      "Increase the number of iterations (max_iter) or scale the data as shown in:\n",
      "    https://scikit-learn.org/stable/modules/preprocessing.html\n",
      "Please also refer to the documentation for alternative solver options:\n",
      "    https://scikit-learn.org/stable/modules/linear_model.html#logistic-regression\n",
      "  n_iter_i = _check_optimize_result(\n"
     ]
    }
   ],
   "source": [
    "#No ref to self ref trial back\n",
    "df_cross1c, im_cross1c, coef_cross1c = lr_cross_task(X_source=X_norefc, y_source=y_noref, X_target=X_selfrefc, y_target=y_selfref, target_group=groups_self, source_name=\"No_Ref\", target_name=\"Self_Ref\")\n",
    "#self to no ref trial back\n",
    "df_cross2c, im_cross2c, coef_cross2c = lr_cross_task(X_source=X_selfrefc, y_source=y_selfref, X_target=X_norefc, y_target=y_noref, target_group=groups_no, source_name=\"Self_Ref\", target_name=\"No_Ref\")"
   ]
  },
  {
   "cell_type": "code",
   "execution_count": 20,
   "metadata": {},
   "outputs": [],
   "source": [
    "df_score = pd.concat([score_noc, score_selfc])"
   ]
  },
  {
   "cell_type": "code",
   "execution_count": 21,
   "metadata": {},
   "outputs": [],
   "source": [
    "df_score.to_csv(\"LR_withinscore_current.csv\")"
   ]
  },
  {
   "cell_type": "code",
   "execution_count": 22,
   "metadata": {},
   "outputs": [],
   "source": [
    "df_cross_score = pd.concat([df_cross1c, df_cross2c])"
   ]
  },
  {
   "cell_type": "code",
   "execution_count": 23,
   "metadata": {},
   "outputs": [],
   "source": [
    "df_cross_score.to_csv(\"LR_crossscore_current.csv\")"
   ]
  },
  {
   "cell_type": "code",
   "execution_count": 24,
   "metadata": {},
   "outputs": [],
   "source": [
    "df_im_no = pd.DataFrame(im_noc, columns=norefcolc)\n",
    "df_im_no[\"subj_idx\"] = np.arange(1, len(im_noc)+1)\n",
    "df_im_no[\"source\"] = \"No_Ref\"\n",
    "df_im_no[\"target\"] = \"No_Ref\"\n",
    "\n",
    "df_im_self = pd.DataFrame(im_selfc, columns=selfrefcolc)\n",
    "df_im_self[\"subj_idx\"] = np.arange(1, len(im_selfc)+1)\n",
    "df_im_self[\"source\"] = \"Self_Ref\"\n",
    "df_im_self[\"target\"] = \"Self_Ref\""
   ]
  },
  {
   "cell_type": "code",
   "execution_count": 25,
   "metadata": {},
   "outputs": [
    {
     "data": {
      "text/html": [
       "<div>\n",
       "<style scoped>\n",
       "    .dataframe tbody tr th:only-of-type {\n",
       "        vertical-align: middle;\n",
       "    }\n",
       "\n",
       "    .dataframe tbody tr th {\n",
       "        vertical-align: top;\n",
       "    }\n",
       "\n",
       "    .dataframe thead th {\n",
       "        text-align: right;\n",
       "    }\n",
       "</style>\n",
       "<table border=\"1\" class=\"dataframe\">\n",
       "  <thead>\n",
       "    <tr style=\"text-align: right;\">\n",
       "      <th></th>\n",
       "      <th>subj_idx</th>\n",
       "      <th>source</th>\n",
       "      <th>target</th>\n",
       "      <th>variable</th>\n",
       "      <th>value</th>\n",
       "    </tr>\n",
       "  </thead>\n",
       "  <tbody>\n",
       "    <tr>\n",
       "      <th>0</th>\n",
       "      <td>1</td>\n",
       "      <td>No_Ref</td>\n",
       "      <td>No_Ref</td>\n",
       "      <td>ACC</td>\n",
       "      <td>0.035693</td>\n",
       "    </tr>\n",
       "    <tr>\n",
       "      <th>1</th>\n",
       "      <td>2</td>\n",
       "      <td>No_Ref</td>\n",
       "      <td>No_Ref</td>\n",
       "      <td>ACC</td>\n",
       "      <td>0.020351</td>\n",
       "    </tr>\n",
       "    <tr>\n",
       "      <th>2</th>\n",
       "      <td>3</td>\n",
       "      <td>No_Ref</td>\n",
       "      <td>No_Ref</td>\n",
       "      <td>ACC</td>\n",
       "      <td>0.025897</td>\n",
       "    </tr>\n",
       "    <tr>\n",
       "      <th>3</th>\n",
       "      <td>4</td>\n",
       "      <td>No_Ref</td>\n",
       "      <td>No_Ref</td>\n",
       "      <td>ACC</td>\n",
       "      <td>0.012527</td>\n",
       "    </tr>\n",
       "    <tr>\n",
       "      <th>4</th>\n",
       "      <td>5</td>\n",
       "      <td>No_Ref</td>\n",
       "      <td>No_Ref</td>\n",
       "      <td>ACC</td>\n",
       "      <td>0.024088</td>\n",
       "    </tr>\n",
       "    <tr>\n",
       "      <th>...</th>\n",
       "      <td>...</td>\n",
       "      <td>...</td>\n",
       "      <td>...</td>\n",
       "      <td>...</td>\n",
       "      <td>...</td>\n",
       "    </tr>\n",
       "    <tr>\n",
       "      <th>580</th>\n",
       "      <td>191</td>\n",
       "      <td>Self_Ref</td>\n",
       "      <td>Self_Ref</td>\n",
       "      <td>ismatch</td>\n",
       "      <td>-0.000088</td>\n",
       "    </tr>\n",
       "    <tr>\n",
       "      <th>581</th>\n",
       "      <td>192</td>\n",
       "      <td>Self_Ref</td>\n",
       "      <td>Self_Ref</td>\n",
       "      <td>ismatch</td>\n",
       "      <td>-0.001885</td>\n",
       "    </tr>\n",
       "    <tr>\n",
       "      <th>582</th>\n",
       "      <td>193</td>\n",
       "      <td>Self_Ref</td>\n",
       "      <td>Self_Ref</td>\n",
       "      <td>ismatch</td>\n",
       "      <td>0.004427</td>\n",
       "    </tr>\n",
       "    <tr>\n",
       "      <th>583</th>\n",
       "      <td>194</td>\n",
       "      <td>Self_Ref</td>\n",
       "      <td>Self_Ref</td>\n",
       "      <td>ismatch</td>\n",
       "      <td>-0.000198</td>\n",
       "    </tr>\n",
       "    <tr>\n",
       "      <th>584</th>\n",
       "      <td>195</td>\n",
       "      <td>Self_Ref</td>\n",
       "      <td>Self_Ref</td>\n",
       "      <td>ismatch</td>\n",
       "      <td>0.003183</td>\n",
       "    </tr>\n",
       "  </tbody>\n",
       "</table>\n",
       "<p>1077 rows × 5 columns</p>\n",
       "</div>"
      ],
      "text/plain": [
       "     subj_idx    source    target variable     value\n",
       "0           1    No_Ref    No_Ref      ACC  0.035693\n",
       "1           2    No_Ref    No_Ref      ACC  0.020351\n",
       "2           3    No_Ref    No_Ref      ACC  0.025897\n",
       "3           4    No_Ref    No_Ref      ACC  0.012527\n",
       "4           5    No_Ref    No_Ref      ACC  0.024088\n",
       "..        ...       ...       ...      ...       ...\n",
       "580       191  Self_Ref  Self_Ref  ismatch -0.000088\n",
       "581       192  Self_Ref  Self_Ref  ismatch -0.001885\n",
       "582       193  Self_Ref  Self_Ref  ismatch  0.004427\n",
       "583       194  Self_Ref  Self_Ref  ismatch -0.000198\n",
       "584       195  Self_Ref  Self_Ref  ismatch  0.003183\n",
       "\n",
       "[1077 rows x 5 columns]"
      ]
     },
     "execution_count": 25,
     "metadata": {},
     "output_type": "execute_result"
    }
   ],
   "source": [
    "im_no_long = pd.melt(df_im_no, id_vars=[\"subj_idx\", \"source\", \"target\"])\n",
    "im_self_long = pd.melt(df_im_self, id_vars=[\"subj_idx\", \"source\", \"target\"])\n",
    "im_within = pd.concat([im_no_long, im_self_long])\n",
    "im_within"
   ]
  },
  {
   "cell_type": "code",
   "execution_count": 26,
   "metadata": {},
   "outputs": [],
   "source": [
    "im_within.to_csv(\"importance_within_current.csv\")"
   ]
  },
  {
   "cell_type": "code",
   "execution_count": 27,
   "metadata": {},
   "outputs": [],
   "source": [
    "df_im_cross1 = pd.DataFrame(im_cross1c, columns=selfrefcolc)\n",
    "df_im_cross1[\"subj_idx\"] = np.arange(1, len(im_cross1c)+1)\n",
    "df_im_cross1[\"source\"] = \"No_Ref\"\n",
    "df_im_cross1[\"target\"] = \"Self_Ref\"\n",
    "\n",
    "df_im_cross2 = pd.DataFrame(im_cross2c, columns=norefcolc)\n",
    "df_im_cross2[\"subj_idx\"] = np.arange(1, len(im_cross2c)+1)\n",
    "df_im_cross2[\"source\"] = \"Self_Ref\"\n",
    "df_im_cross2[\"target\"] = \"No_Ref\""
   ]
  },
  {
   "cell_type": "code",
   "execution_count": 28,
   "metadata": {},
   "outputs": [
    {
     "data": {
      "text/html": [
       "<div>\n",
       "<style scoped>\n",
       "    .dataframe tbody tr th:only-of-type {\n",
       "        vertical-align: middle;\n",
       "    }\n",
       "\n",
       "    .dataframe tbody tr th {\n",
       "        vertical-align: top;\n",
       "    }\n",
       "\n",
       "    .dataframe thead th {\n",
       "        text-align: right;\n",
       "    }\n",
       "</style>\n",
       "<table border=\"1\" class=\"dataframe\">\n",
       "  <thead>\n",
       "    <tr style=\"text-align: right;\">\n",
       "      <th></th>\n",
       "      <th>subj_idx</th>\n",
       "      <th>source</th>\n",
       "      <th>target</th>\n",
       "      <th>variable</th>\n",
       "      <th>value</th>\n",
       "    </tr>\n",
       "  </thead>\n",
       "  <tbody>\n",
       "    <tr>\n",
       "      <th>0</th>\n",
       "      <td>1</td>\n",
       "      <td>No_Ref</td>\n",
       "      <td>Self_Ref</td>\n",
       "      <td>ACC</td>\n",
       "      <td>-0.004788</td>\n",
       "    </tr>\n",
       "    <tr>\n",
       "      <th>1</th>\n",
       "      <td>2</td>\n",
       "      <td>No_Ref</td>\n",
       "      <td>Self_Ref</td>\n",
       "      <td>ACC</td>\n",
       "      <td>0.011619</td>\n",
       "    </tr>\n",
       "    <tr>\n",
       "      <th>2</th>\n",
       "      <td>3</td>\n",
       "      <td>No_Ref</td>\n",
       "      <td>Self_Ref</td>\n",
       "      <td>ACC</td>\n",
       "      <td>0.009376</td>\n",
       "    </tr>\n",
       "    <tr>\n",
       "      <th>3</th>\n",
       "      <td>4</td>\n",
       "      <td>No_Ref</td>\n",
       "      <td>Self_Ref</td>\n",
       "      <td>ACC</td>\n",
       "      <td>-0.014534</td>\n",
       "    </tr>\n",
       "    <tr>\n",
       "      <th>4</th>\n",
       "      <td>5</td>\n",
       "      <td>No_Ref</td>\n",
       "      <td>Self_Ref</td>\n",
       "      <td>ACC</td>\n",
       "      <td>0.051702</td>\n",
       "    </tr>\n",
       "    <tr>\n",
       "      <th>...</th>\n",
       "      <td>...</td>\n",
       "      <td>...</td>\n",
       "      <td>...</td>\n",
       "      <td>...</td>\n",
       "      <td>...</td>\n",
       "    </tr>\n",
       "    <tr>\n",
       "      <th>487</th>\n",
       "      <td>160</td>\n",
       "      <td>Self_Ref</td>\n",
       "      <td>No_Ref</td>\n",
       "      <td>ismatch</td>\n",
       "      <td>0.004129</td>\n",
       "    </tr>\n",
       "    <tr>\n",
       "      <th>488</th>\n",
       "      <td>161</td>\n",
       "      <td>Self_Ref</td>\n",
       "      <td>No_Ref</td>\n",
       "      <td>ismatch</td>\n",
       "      <td>-0.001258</td>\n",
       "    </tr>\n",
       "    <tr>\n",
       "      <th>489</th>\n",
       "      <td>162</td>\n",
       "      <td>Self_Ref</td>\n",
       "      <td>No_Ref</td>\n",
       "      <td>ismatch</td>\n",
       "      <td>0.005095</td>\n",
       "    </tr>\n",
       "    <tr>\n",
       "      <th>490</th>\n",
       "      <td>163</td>\n",
       "      <td>Self_Ref</td>\n",
       "      <td>No_Ref</td>\n",
       "      <td>ismatch</td>\n",
       "      <td>0.001839</td>\n",
       "    </tr>\n",
       "    <tr>\n",
       "      <th>491</th>\n",
       "      <td>164</td>\n",
       "      <td>Self_Ref</td>\n",
       "      <td>No_Ref</td>\n",
       "      <td>ismatch</td>\n",
       "      <td>-0.002075</td>\n",
       "    </tr>\n",
       "  </tbody>\n",
       "</table>\n",
       "<p>1077 rows × 5 columns</p>\n",
       "</div>"
      ],
      "text/plain": [
       "     subj_idx    source    target variable     value\n",
       "0           1    No_Ref  Self_Ref      ACC -0.004788\n",
       "1           2    No_Ref  Self_Ref      ACC  0.011619\n",
       "2           3    No_Ref  Self_Ref      ACC  0.009376\n",
       "3           4    No_Ref  Self_Ref      ACC -0.014534\n",
       "4           5    No_Ref  Self_Ref      ACC  0.051702\n",
       "..        ...       ...       ...      ...       ...\n",
       "487       160  Self_Ref    No_Ref  ismatch  0.004129\n",
       "488       161  Self_Ref    No_Ref  ismatch -0.001258\n",
       "489       162  Self_Ref    No_Ref  ismatch  0.005095\n",
       "490       163  Self_Ref    No_Ref  ismatch  0.001839\n",
       "491       164  Self_Ref    No_Ref  ismatch -0.002075\n",
       "\n",
       "[1077 rows x 5 columns]"
      ]
     },
     "execution_count": 28,
     "metadata": {},
     "output_type": "execute_result"
    }
   ],
   "source": [
    "im_cross1_long = pd.melt(df_im_cross1, id_vars=[\"subj_idx\", \"source\", \"target\"])\n",
    "im_cross2_long = pd.melt(df_im_cross2, id_vars=[\"subj_idx\", \"source\", \"target\"])\n",
    "im_cross = pd.concat([im_cross1_long, im_cross2_long])\n",
    "im_cross"
   ]
  },
  {
   "cell_type": "code",
   "execution_count": 29,
   "metadata": {},
   "outputs": [],
   "source": [
    "im_cross.to_csv(\"importance_cross_current.csv\")"
   ]
  },
  {
   "cell_type": "code",
   "execution_count": 30,
   "metadata": {},
   "outputs": [],
   "source": [
    "np.save('coef_no_current.npy', coef_noc)\n",
    "np.save('coef_self_current.npy', coef_selfc)\n",
    "np.save('coef_cross1_current.npy', coef_cross1c)\n",
    "np.save('coef_cross2_current.npy', coef_cross2c)"
   ]
  },
  {
   "cell_type": "code",
   "execution_count": 31,
   "metadata": {},
   "outputs": [
    {
     "data": {
      "text/plain": [
       "'/Users/zhengyuanrui/Decoding_SALT/Decode_SALT/3_Result/Binary_label/1_Logistic/1_Current'"
      ]
     },
     "execution_count": 31,
     "metadata": {},
     "output_type": "execute_result"
    }
   ],
   "source": [
    "os.getcwd()"
   ]
  },
  {
   "cell_type": "code",
   "execution_count": null,
   "metadata": {},
   "outputs": [],
   "source": []
  }
 ],
 "metadata": {
  "kernelspec": {
   "display_name": "base",
   "language": "python",
   "name": "python3"
  },
  "language_info": {
   "codemirror_mode": {
    "name": "ipython",
    "version": 3
   },
   "file_extension": ".py",
   "mimetype": "text/x-python",
   "name": "python",
   "nbconvert_exporter": "python",
   "pygments_lexer": "ipython3",
   "version": "3.8.13"
  },
  "orig_nbformat": 4
 },
 "nbformat": 4,
 "nbformat_minor": 2
}
